{
 "cells": [
  {
   "cell_type": "code",
   "execution_count": 78,
   "metadata": {},
   "outputs": [],
   "source": [
    "from google import genai\n",
    "from google.genai import types\n",
    "import base64\n",
    "import json\n",
    "import os\n",
    "from dotenv import load_dotenv\n",
    "\n",
    "from pydantic import BaseModel, Field\n",
    "\n",
    "import unicodedata\n",
    "import re"
   ]
  },
  {
   "cell_type": "code",
   "execution_count": 79,
   "metadata": {},
   "outputs": [],
   "source": [
    "load_dotenv()\n",
    "project_name = os.getenv('PROJECT_NAME')"
   ]
  },
  {
   "cell_type": "markdown",
   "metadata": {},
   "source": [
    "The story id, from 1 to 13 according to the 13 Ainu Kamuy Yukars translated by Chiri Yukie. The Yukar ID starts at 1. Chiri's Preface is 0."
   ]
  },
  {
   "cell_type": "code",
   "execution_count": 80,
   "metadata": {},
   "outputs": [],
   "source": [
    "start_at = 2\n",
    "end_at = 13"
   ]
  },
  {
   "cell_type": "code",
   "execution_count": 81,
   "metadata": {},
   "outputs": [],
   "source": [
    "class Translation(BaseModel):\n",
    "    \"\"\"The translation, and the comments\"\"\"\n",
    "    translation: str = Field(description=\"The translation\")\n",
    "    comment: str = Field(description=\"Comments on the translation\")"
   ]
  },
  {
   "cell_type": "code",
   "execution_count": 82,
   "metadata": {},
   "outputs": [],
   "source": [
    "system_instruction_prompt = \"\"\"You are a professional translator. You know Japanese, English and Chinese. You can translate Japanese into either Chinese or English.\"\"\"\n",
    "\n",
    "client = genai.Client(\n",
    "      vertexai=True,\n",
    "      project=project_name,\n",
    "      location=\"us-central1\",\n",
    ")\n",
    "\n",
    "model = \"gemini-2.0-flash-001\"\n",
    "\n",
    "generate_content_config = types.GenerateContentConfig(\n",
    "    temperature = 0,\n",
    "    top_p = 0,\n",
    "    max_output_tokens = 8192,\n",
    "    response_mime_type = 'application/json',\n",
    "    response_schema = Translation,\n",
    "    safety_settings = [types.SafetySetting(\n",
    "      category=\"HARM_CATEGORY_HATE_SPEECH\",\n",
    "      threshold=\"OFF\"\n",
    "    ),types.SafetySetting(\n",
    "      category=\"HARM_CATEGORY_DANGEROUS_CONTENT\",\n",
    "      threshold=\"OFF\"\n",
    "    ),types.SafetySetting(\n",
    "      category=\"HARM_CATEGORY_SEXUALLY_EXPLICIT\",\n",
    "      threshold=\"OFF\"\n",
    "    ),types.SafetySetting(\n",
    "      category=\"HARM_CATEGORY_HARASSMENT\",\n",
    "      threshold=\"OFF\"\n",
    "    )],\n",
    "    system_instruction=[types.Part.from_text(text=system_instruction_prompt)],\n",
    "  )"
   ]
  },
  {
   "cell_type": "code",
   "execution_count": 83,
   "metadata": {},
   "outputs": [],
   "source": [
    "poetic_translation_prompt = \"\"\"Translate the following text from Japanese to English. The original text is a Japanese translation of a Ainu chant, sung by Ainu god telling his story. \n",
    "Use story-telling and poetic tone. Keep the original Japanese meaning accurately. Use modern and simple English.\n",
    "If a term cannot be translated, keep the original language.\"\"\"\n",
    "\n",
    "#descriptive_translation_prompt = \"Translate the following text from Japanese to Chinese. Keep the original meanings. Display in Traditional Chinese.\""
   ]
  },
  {
   "cell_type": "code",
   "execution_count": 84,
   "metadata": {},
   "outputs": [],
   "source": [
    "# read the content page of Japanese translation and get the Japanese translated title\n",
    "with open(\"Chiri_Japanese_Translation/content.txt\", \"r\", encoding=\"utf8\") as f:\n",
    "    japanese_content = f.read()\n",
    "    japanese_content = unicodedata.normalize('NFKC', japanese_content)\n",
    "\n",
    "\n",
    "s=re.split(r'\\n\\n', japanese_content)\n",
    "japanese_titles = re.split(r'\\n', s[1])"
   ]
  },
  {
   "cell_type": "code",
   "execution_count": 85,
   "metadata": {},
   "outputs": [],
   "source": [
    "# read the content page of Ainu original text and get the original title\n",
    "with open(\"original_Ainu_text/content.txt\", \"r\", encoding=\"utf8\") as f:\n",
    "    ainu_content = f.read()\n",
    "    ainu_content = unicodedata.normalize('NFKC', ainu_content)\n",
    "\n",
    "\n",
    "s=re.split(r'\\n\\n', ainu_content)\n",
    "ainu_titles = re.split(r'\\n', s[1])"
   ]
  },
  {
   "cell_type": "code",
   "execution_count": 86,
   "metadata": {},
   "outputs": [],
   "source": [
    "# Read the markdown template for writing the Chinese translations to Markdown file\n",
    "\n",
    "#read in the template\n",
    "with open(\"templates/raw_output_md_template_v2\", \"r\", encoding=\"utf8\") as f:\n",
    "    md_template = f.read()\n",
    "    md_template = unicodedata.normalize('NFKC', md_template)"
   ]
  },
  {
   "cell_type": "code",
   "execution_count": 87,
   "metadata": {},
   "outputs": [],
   "source": [
    "def generate(client: genai.Client,generate_content_config :types.GenerateContentConfig,model :str, /,input_text :str, prompt :str):\n",
    "\n",
    "    text_full_prompt = text1 = types.Part.from_text(text=f\"{prompt}\\n\\n{input_text}\")\n",
    "\n",
    "    output = \"\"\n",
    "\n",
    "    contents = [\n",
    "      types.Content(\n",
    "        role=\"user\",\n",
    "        parts=[\n",
    "          text_full_prompt\n",
    "        ]\n",
    "      )\n",
    "    ]\n",
    "\n",
    "    for chunk in client.models.generate_content_stream(\n",
    "        model = model,\n",
    "        contents = contents,\n",
    "        config = generate_content_config,\n",
    "        ):\n",
    "        print(chunk.text, end=\"\")\n",
    "        output += chunk.text\n",
    "\n",
    "    return output\n",
    "\n",
    "def get_output_file_name_key(title :str):\n",
    "    # setup the output file name\n",
    "    s = title.split()\n",
    "    md_name_part = s[0]\n",
    "\n",
    "    name_2nd_part = \"\"\n",
    "\n",
    "    for text in s:\n",
    "        if text.startswith('“'):\n",
    "            name_2nd_part = text.replace('“', '').replace('”', '')\n",
    "        \n",
    "    md_name_part += \"_\" + name_2nd_part\n",
    "\n",
    "    return md_name_part\n",
    "\n"
   ]
  },
  {
   "cell_type": "code",
   "execution_count": 88,
   "metadata": {},
   "outputs": [
    {
     "name": "stdout",
     "output_type": "stream",
     "text": [
      "{\n",
      "  \"comment\": \"Translated from Japanese to English, maintaining a storytelling and poetic tone. Terms that are difficult to translate directly are kept in their original Japanese. The translation aims for accuracy while using modern and simple English.\",\n",
      "  \"translation\": \"The Fox's Own Song: \\\"Towatowato\\\"\\n\\nTowatowato,\\nOne day, I went to the shore to gather food.\\nAmong the stones, chara-chara,\\nAmong the driftwood, chara-chara.\\nAs I went, I looked ahead and saw\\nA whale had washed ashore.\\nThe people were all dressed in finery,\\nRejoicing in the bounty of the sea, dancing in celebration,\\nSome cutting the meat, others carrying it away.\\nThe important ones offered thanks and prayers to the sea.\\nSome sharpened their knives; the beach was black with people.\\nSeeing this, I was overjoyed.\\n\\\"Ah, I must hurry and get there,\\nI want to receive even a little bit!\\\" I thought,\\nAnd shouting, \\\"Banzai! Banzai!\\\"\\nAmong the stones, chara-chara,\\nAmong the driftwood, chara-chara.\\nI went closer and closer, but then,\\nUnexpectedly,\\nWhat I thought was a beached whale\\nWas just a pile of dog feces on the shore,\\nA great mountain of dung.\\nThat is what I had mistaken for a whale.\\nAnd what I thought were people dancing and rejoicing in the sea's bounty,\\nCutting and carrying the meat,\\nWere just crows pecking at the dung,\\nScattering it this way and that,\\nFlying here and there.\\nI was furious.\\n\\\"Blind, worthless fool!\\nBlind, wicked fool!\\nStinky one beneath the tail!\\nRotten one beneath the tail!\\nOne whose rear oozes resin!\\nOne whose rear drips foul water!\\nWhat a way to see things!\\\"\\nThen again,\\nAmong the stones, chara-chara,\\nAmong the driftwood, chara-chara.\\nRunning from the seaside,\\nI saw in the distance\\nA boat, and in the boat,\\nTwo people were exchanging condolences.\\n\\\"Oh, what sudden event\\nCould cause them to do such a thing? Perhaps\\nSomeone has capsized with their boat.\\nAh, I must go closer and\\nListen to what they are saying!\\\"\\nSo, shouting \\\"Hoo-hoo-hoi!\\\"\\nAmong the stones, chara-chara,\\nAmong the driftwood, chara-chara.\\nI flew as if on wings to see,\\nBut what I thought was a boat\\nWas just a rock on the shore,\\nAnd what I thought were people\\nWere just two large cormorants.\\nTwo large cormorants stretching and retracting\\nTheir long necks, which I mistook\\nFor people exchanging condolences.\\n\\\"Blind, worthless fool!\\nBlind, wicked fool!\\nStinky one beneath the tail!\\nRotten one beneath the tail!\\nOne whose rear oozes resin!\\nOne whose rear drips foul water!\\nWhat a way to see things!\\\"\\nThen again,\\nAmong the stones, chara-chara,\\nAmong the driftwood, chara-chara.\\nI flew up the river,\\nAnd far upstream,\\nTwo women stood in the shallows, weeping together.\\nI was startled to see this.\\n\\\"Oh, what misfortune has befallen them?\\nWhat ill tidings have arrived that they weep so?\\nAh, I must hurry and\\nListen to what they are saying!\\\"\\nSo,\\nAmong the stones, chara-chara,\\nAmong the driftwood, chara-chara.\\nI flew as if on wings to see,\\nBut in the middle of the river were two yana (fish weirs),\\nAnd the posts of the two yana\\nWere swaying in the current,\\nWhich I mistook for two women\\nLooking down and then up,\\nWeeping together.\\n\\\"Blind, worthless fool!\\nBlind, wicked fool!\\nStinky one beneath the tail!\\nRotten one beneath the tail!\\nOne whose rear oozes resin!\\nOne whose rear drips foul water!\\nWhat a way to see things!\\\"\\nThen again, I went up the river,\\nAmong the stones, chara-chara,\\nAmong the driftwood, chara-chara.\\nI flew as if on wings back home.\\nLooking ahead,\\nI saw that, somehow,\\nMy house was ablaze,\\nThe smoke rising into the sky\\nLike gathering clouds. Seeing this, I\\nWas so startled I nearly fainted.\\nI leaped up, shouting in a woman's voice,\\nAnd from the other side, someone\\nCame flying towards me, shouting \\\"Hoi!\\\" in a loud voice.\\nIt was my wife, her face pale with shock, breathless.\\n\\\"Husband, what is it?\\\" she asked.\\nI looked, and what had seemed like a fire,\\nMy house stood as before.\\nNo fire, no smoke.\\nIt was just that my wife was hulling grain (tsukimono),\\nAnd at that moment, a strong wind blew,\\nScattering the winnowed rice bran (nuka)\\nWhich I had mistaken for smoke.\\nI had gone out in search of food but found none, and on top of that,\\nBecause I had shouted so loudly, my wife\\nWas so startled that she threw the winnowing basket\\nAnd the rice bran into the air.\\nSo tonight, we will have nothing to eat.\\nI was furious and threw myself\\nOnto the floor and went to sleep.\\n\\\"Blind, worthless fool!\\nBlind, wicked fool!\\nStinky one beneath the tail!\\nRotten one beneath the tail!\\nOne whose rear oozes resin!\\nOne whose rear drips foul water!\\nWhat a way to see things!\\\"\\nSo spoke the head of the fox.\"\n",
      "}{\n",
      "  \"comment\": \"Translated from Japanese to English, maintaining a storytelling and poetic tone while accurately reflecting the original meaning. Some terms like 'Okikirmui' are kept in their original form due to the lack of direct English equivalents.\",\n",
      "  \"translation\": \"The Fox's Own Song:\\n\\\"Haikun Terekke Haikoshitemutori\\\"\\n\\nHaikun Terekke Haikoshitemutori,\\nUpon the cape of the land, the cape of the gods,\\nI sat in my place.\\nOne day, I ventured out and saw,\\nThe sea was calm and vast, and upon it,\\nOkikirmui, Shupunramka, and Samayunkur\\nSet out on a sea hunt, three in a boat. Seeing this,\\nThe wicked thoughts within me stirred.\\nThis cape, the cape of the land, the cape of the gods,\\nUp and down, with light steps,\\nI ran, my waist swaying gently.\\nWith a heavy tone, like snapping wood,\\nI cried, \\\"Pau, pau!\\\" and glared at the source of the river,\\nSummoning the demon of the storm. Then, from the river's\\nsource, a fierce wind, a whirlwind,\\nErupted and entered the sea, and at once,\\nThe upper sea became the lower, and\\nThe lower sea became the upper. Okikirmui and the others'\\nfishing boat, at the meeting place of the sea of men offshore and the sea of men on land,\\nMet with a sudden change and spun amidst the waves.\\nA great wave, like a mountain,\\nCrashed over the boat. Then,\\nOkikirmui, Samayunkur, and Shupunramka\\nRaised their voices and rowed the boat.\\nThis small boat was blown like a falling leaf,\\nOn the verge of capsizing, but\\nAdmirable were the humans, strong and resilient,\\nAnd the small boat glided through the wind,\\nOver the waves.\\nSeeing this, the wicked thoughts within me stirred.\\nWith light steps, I ran, my waist swaying gently,\\nWith a heavy tone, like snapping wood, I cried, \\\"Pau, pau!\\\"\\nDevoting myself to cheering on the demon of the storm.\\nAs I did so, at last, Samayunkur's\\nhands bled from above and below,\\nAnd he collapsed, exhausted.\\nSeeing this, I secretly smiled.\\nThen again, I devoted myself,\\nWith light steps, I ran, my waist swaying gently,\\nWith a heavy tone, like snapping wood, I cried,\\nCheering on the demon of the storm.\\nOkikirmui and Shupunramka, the two of them,\\nEncouraged each other and bravely rowed the boat,\\nBut then, at one moment, Shupunramka's\\nhands bled from above and below,\\nAnd he collapsed, exhausted. Seeing this,\\nI secretly smiled.\\nThen again, with light steps, I leaped, my waist swaying gently,\\nWith a heavy tone, like snapping wood, I cried, devoting myself.\\nBut Okikirmui showed no sign of fatigue.\\nWith a single thin garment wrapped around his body,\\nHe rowed the boat, until\\nThe oar he held broke in his hands.\\nThen, he leaped upon the exhausted Samayunkur,\\nSnatched the oar he held, and rowed the boat alone.\\nSeeing this, the wicked thoughts within me stirred.\\nWith a heavy tone, like snapping wood, I cried,\\nWith light steps, I ran, my waist swaying gently,\\nDevoting myself to cheering on the demon of the storm.\\nAs I did so, Samayunkur's rudder also\\nbroke. Okikirmui leaped upon Shupunramka,\\nTook his oar, and\\nBravely rowed the boat.\\nBut his oar was also broken by the waves.\\nThereupon, Okikirmui stood\\nIn the boat, amidst the fierce wind,\\nNever imagining that a human like him could find me,\\nHe gazed at the center of my eyes,\\nUpon the cape of the land, the cape of the gods.\\nHis gentle face now filled with anger,\\nHe fiddled with his bag,\\nAnd from within, he took out a small mugwort bow and\\nA small mugwort arrow.\\nSeeing this, I secretly smiled.\\n\\\"What can a human do to frighten me?\\nWhat use is such a mugwort arrow?\\\"\\nThinking this, upon this cape,\\nThe cape of the land, the cape of the gods,\\nUp and down, with light steps,\\nI ran, my waist swaying gently, with a heavy tone,\\nLike snapping wood, I cried, \\\"Pau, pau!\\\"\\nPraising the demon of the storm.\\nIn the midst of this, the arrow shot by Okikirmui flew and\\nPierced me right at the collar of my neck.\\nAfter that, I lost all sense of what happened.\\nWhen I came to, I found\\nThe weather was wonderfully fine, and the sea was\\nVast, with no sign of Okikirmui's fishing boat.\\nWhat had happened? From the tip of my head\\nTo the tip of my toes, it ached as if the bark of a tree was burning and shrinking.\\nNever did I imagine that a small arrow shot by a human could torment me so,\\nThen, writhing in agony, I struggled,\\nUpon this cape, the cape of the land, the cape of the gods,\\nUp and down, crying and screaming,\\nWrithing in agony, living and\\nDying, day and night, until I lost\\nAll sense of what had happened.\\nWhen I came to, I found myself\\nBetween the ears of a great black fox.\\nTwo days later, Okikirmui arrived, looking like a god,\\nSmiling and saying,\\n\\\"How beautiful! The black fox god who watches over\\nThe cape of the land, the cape of the gods,\\nHad a good heart, a godly heart,\\nAnd so died a beautiful death.\\\"\\nSaying this, he took my head,\\nBrought it to his house, and used my upper jawbone\\nAs the foundation of his toilet, and my lower jaw\\nAs the foundation of his wife's toilet,\\nAnd my body rotted away with the earth.\\nThen, day and night,\\nSuffering from the foul stench, I died a meaningless, bad\\ndeath.\\nThough I was not merely a god of low rank,\\nBecause I possessed a terribly wicked heart, I died a useless,\\nbad death. Therefore,\\nFoxes of the future, never\\nHold wicked thoughts.\\\"\\n\\nSo the fox god told his story.\"\n",
      "}{\n",
      "  \"comment\": \"This is a translation of an Ainu chant, \\\"Sanpaya Tereke,\\\" told from the perspective of a rabbit god. I aimed for a storytelling tone while maintaining accuracy and simplicity.\",\n",
      "  \"translation\": \"The Song of the Rabbit: \\\"Sanpaya Tereke\\\"\\n\\nAcross two valleys, across three, I hopped and skipped,\\nfollowing my elder brother to the mountains in playful glee.\\nEach day I trailed behind, only to find\\nhumans had set a crossbow trap, which my brother would unwind.\\nI'd laugh at the sight, a common delight.\\nBut one day, oh, what a fright!\\nUnexpectedly, my brother was caught in the snare,\\ncrying out in utter despair.\\n\\nStartled, I rushed to his side with a leap,\\nHe spoke through tears, his voice so deep:\\n\\\"Dear brother, run with haste, don't delay,\\nGo to our village and loudly say,\\n'Your brother is caught in a crossbow's hold!' – cry out, 'Hoh ho-hoy!' be bold.\\\"\\n\\nI listened close, \\\"Yes, yes,\\\" I replied,\\nThen bounded away, my playful spirit my guide.\\nAcross two valleys, across three, I flew,\\nArriving at our village, the task I must do.\\n\\nBut then it struck me, the message I bore,\\nWhat my brother had said, I couldn't recall anymore.\\nI stood there, blank, trying to seize\\nthe words he entrusted, but found no ease.\\n\\nSo back I went, with leaps reversed,\\nAcross three valleys, my heart immersed\\nin worry and dread. I reached the place,\\nBut my brother was gone, leaving not a trace.\\nOnly his blood stained the ground,\\na silent testament to what was found.\\n\\n(Here the story takes a turn, a different tale to burn)\\n\\nKetoka woi woi Ketoka, Ketoka woi Ketoka\\nDay after day, I'd venture to the mountain's peak,\\ndestroying human crossbows, a mischievous streak.\\nI found such joy in this playful game,\\nUntil one day, things wouldn't be the same.\\n\\nAt the usual spot, a crossbow stood,\\nBut beside it, a tiny one, made of yomogi wood.\\nI gazed at it, with curious eyes,\\n\\\"What's this for?\\\" I wondered with surprise.\\nAmused, I touched it, then tried to flee,\\nBut unexpectedly, it ensnared me!\\n\\nThe more I struggled, the tighter it grew,\\nHelpless, I cried, not knowing what to do.\\nThen something flew near, a welcome sight,\\nIt was my brother, bathed in golden light!\\nI rejoiced, and bid him to tell our kin\\nOf my plight, trapped within.\\n\\nBut time passed, and no one came,\\nI wept alone, consumed by shame.\\nThen a shadow appeared, a figure so grand,\\nA beautiful human youth, like a god in the land.\\nSmiling, he seized me, and carried me away,\\nTo a grand house, filled with treasures on display.\\n\\nHe lit a fire, and placed a pot above,\\nThen drew a knife, showing little love.\\nHe chopped my body, skin and all,\\nFilling the pot, answering darkness' call.\\nThen, headfirst, he shoved me down below,\\nstoking the flames, watching the fire glow.\\n\\nI yearned to escape, to find a way,\\nWatching the youth, hoping for disarray.\\n\\\"If I boil and die, a pointless end,\\nA wretched death, my spirit can't mend!\\\"\\n\\nSo I waited, watching for a chance,\\nTo turn myself into a piece of meat, a fleeting trance.\\nI mingled with the steam, rising high,\\nThen leaped to the pot's edge, beneath the sky.\\nI jumped to the left, then bolted outside,\\nFleeing in tears, with nowhere to hide.\\n\\nI ran to my home, breathless and weak,\\nRelieved to be safe, no longer meek.\\nLooking back, I realized with a start,\\nThe human youth, so kind at heart,\\nWas none other than Okikirmui, a god of might,\\nWhose power I'd challenged, with foolish delight.\\n\\nHe was angered by my daily pranks,\\nAnd sought to kill me with yomogi shanks.\\nBut I, too, am a god, though of lesser renown,\\nAnd a pointless death would bring my kin down.\\nHe pitied their plight, their sorrow and pain,\\nAnd allowed me to flee, escaping his reign.\\n\\nFrom that day on, the rabbit's form,\\nonce as large as a deer, weathering every storm,\\nshrank to the size of Okikirmui's meat,\\na consequence of mischief, bitter and sweet.\\nOur descendants will all be this small,\\nA reminder to heed the lesson's call.\\n\\n\\\"Rabbits of the future, never play pranks,\\nOr face the wrath of the divine ranks!\\\"\\nSo spoke the rabbit chief, before his last breath,\\nA warning against folly, a lesson in death.\"\n",
      "}{\n",
      "  \"comment\": \"Translation of an Ainu chant from Japanese to English, maintaining a storytelling and poetic tone while ensuring accuracy and simplicity.\",\n",
      "  \"translation\": \"The bog demon himself sang this song, \\\"Harits Kunna\\\":\\n\\nHarits Kunna\\n\\nOne day, the weather was fine,\\nSo I peeked out from my bog,\\nJust my eyes and mouth showing.\\nFrom the direction of the shore,\\nI heard the voices of men.\\nI saw two young men approaching together.\\n\\nThe first seemed a hero,\\nPossessing the qualities of a brave warrior,\\nBeautiful as a god.\\nBut the one who followed behind,\\nHe looked unwell,\\nPale of face.\\nThey came along discussing something,\\nAnd as they passed by my bog,\\nRight in front of me,\\nThe pale-faced man stopped.\\nHe covered his nose and said,\\n\\\"Oh, how foul! This wretched bog!\\nPassing by this awful place,\\nIt's so filthy! What is that stench?\\\"\\n\\nI only heard his words,\\nBut I was enraged beyond measure,\\nUnsure if I even existed anymore.\\nI burst forth from the mud!\\nThe earth split and cracked as I leaped.\\nGnashing my teeth,\\nI fiercely pursued them.\\n\\nThe first man, seeing this,\\nTurned back like a fish darting around,\\nSlipped under the pale man's arm,\\nAnd fled far away.\\nI chased the blue-faced man for a few steps,\\nQuickly caught up,\\nAnd swallowed him whole, head first.\\n\\nThen, with all my might, I chased after the other man,\\nReaching a human village,\\nA large settlement.\\nI saw coming towards me,\\nThe Fire Old Woman, the Divine Old Woman,\\nIn red robes, six layers of them,\\nWith a sash tied, wearing all six layers,\\nAnd leaning on a red staff, she flew to my side.\\n\\n\\\"Well, well,\\\" she said,\\n\\\"Why have you come to this Ainu village?\\nNow, go back! Go back!\\\"\\nAs she spoke, she raised her red staff, her metal staff,\\nAnd struck me.\\nFlames rained down from the staff,\\nLike a downpour upon me.\\n\\nBut I paid no heed,\\nGnashing my teeth,\\nI chased after the man.\\nHe ran through the village,\\nLike a ring spinning around.\\nI flew after him,\\nAnd the earth split and cracked.\\nThe village was in uproar,\\nSome pulling their wives by the hand,\\nOthers dragging their children,\\nCrying and screaming,\\nFleeing in a boiling frenzy.\\n\\nBut I cared not,\\nRaising a storm of dust.\\nThe Fire Old Goddess ran beside me,\\nAnd tremendous flames flew over me.\\n\\nIn the midst of this,\\nThe man darted into a house,\\nAnd immediately burst out again.\\nI saw him nocking a small arrow of artemisia to a small bow of artemisia,\\nSmiling at me from afar, aiming.\\nSeeing this, I found it amusing.\\n\\\"How can such a tiny artemisia arrow cause harm?\\\"\\nI thought, gnashing my teeth,\\nAnd tried to swallow him head first.\\n\\nAt that moment, the man shot me square in the neck.\\nAfter that, I knew no more.\\nWhen I came to my senses,\\nI was between the ears of a great dragon.\\n\\nThe villagers gathered,\\nAnd the young man I had chased,\\nGave loud instructions.\\nThey meticulously cut up my corpse,\\nCarried it to one place, burned it,\\nAnd scattered the ashes\\nBehind a rock on the mountain.\\n\\nOnly now do I realize,\\nThat the one I thought was just a human,\\nJust a young man,\\nWas Okikirmui, a divine hero.\\nI was a terrible, evil god, a demon god,\\nAnd because I was near the human village,\\nOkikirmui, thinking of the village's safety,\\nProvoked me,\\nMade me chase him,\\nAnd killed me with an artemisia arrow.\\n\\nAnd the blue-faced man I swallowed,\\nI thought he was human,\\nBut it was Okikirmui who created a being from his own excrement,\\nAnd brought it along.\\n\\nBecause I was a demon,\\nI have now been cast into\\nThe terrible, evil land of hell.\\nFrom now on, there will be no danger,\\nNo disturbance,\\nIn the land of humans.\\n\\nI was a fearsome demon,\\nBut I was defeated by the scheme of a single human,\\nAnd now I face a meaningless death, a wretched end.\\\"\\n\\nSo spoke the bog demon.\"\n",
      "}{\n",
      "  \"comment\": \"Translated from Japanese to English, maintaining a storytelling and poetic tone while accurately reflecting the original meaning. Some Ainu terms are retained for cultural context.\",\n",
      "  \"translation\": \"The Song of the Little Wolf God, Sung by Himself\\n\\\"Hotenao\\\"\\n\\nHotenao,\\nOne day, feeling bored, I went to the beach,\\nAs I was playing, a little man appeared.\\nWhen I went downstream, he followed me downstream,\\nWhen I went upstream, he also went upstream, blocking my path.\\nThis happened six times downstream,\\nAnd six times upstream. The little man,\\nHis inherent temper flaring on his face, said,\\n\\\"Pii pii!\\nYou little brat, you bad little brat! If you do such things,\\nTell me the old name and the current name\\nOf this cape!\\\"\\nI listened and, laughing, replied,\\n\\\"Who doesn't know the old name and the current name\\nOf this cape!\\nIn the old days, because there were revered and great gods and people,\\nThis cape was called the Cape of the Gods,\\nBut now that the times have declined,\\nIt is called the Cape of Nusa (御幣の岬)!\\\"\\nUpon hearing this, the little man said,\\n\\\"Piiton, piiton!\\nYou little brat, if you really know,\\nTell me the old name and the current name\\nOf this river!\\\"\\nListening, I said,\\n\\\"Who doesn't know the old name\\nAnd the current name of this river!\\nIn the old, great times, this river\\nWas called the River with the Swift Current,\\nBut now that the world is declining, it is called the River with the Slow Current.\\\"\\nUpon hearing this, the little man said,\\n\\\"Piitonton, piitonton!\\nIf you really say such things,\\nLet us reveal each other's true nature.\\\"\\nListening, I said,\\n\\\"Who doesn't know your true nature!\\nLong ago, when Okikirmui went to the mountains\\nAnd built a hunting hut, he made a hearth frame of hazel wood.\\nWhen that hearth frame was exposed to the fire, it dried out completely.\\nWhen Okikirmui stepped on one side, the other side\\nRose up. Okikirmui, angered by this,\\nTook the hearth frame down to the river\\nAnd threw it away.\\nFrom there, that hearth frame flowed along the current,\\nWent out to sea, and the gods watched\\nAs it was struck by the waves from afar and the waves from here.\\nThey thought, 'It is a waste that something handmade by the revered and great Okikirmui\\nIs pointlessly drifting and decaying with the seawater,\\nSo the gods\\nTurned that hearth frame into a fish,\\nAnd it was named Robuchi fish (炉縁魚).'\\nHowever, that Robuchi fish doesn't know its own origin,\\nSo it disguises itself as a person and wanders around.\\nThat Robuchi fish is you!\\\"\\nAs I said this, the little man's face\\nChanged color as he listened,\\n\\\"Piitonton, piitonton!\\nYou are a small, wolf cub.\\\"\\nAs soon as he finished speaking, he splashed into the sea.\\nLooking after him, a single red fish\\nMoved its tail fin and went far offshore.\\nSo, the young wolf god told his story.\"\n",
      "}{\n",
      "  \"comment\": \"This is a translation of an Ainu chant, sung by an Ainu god (owl) telling his story. I tried to keep the original Japanese meaning accurately, while using a storytelling and poetic tone with modern and simple English.\",\n",
      "  \"translation\": \"The Owl God's Own Song: \\\"Konkwa\\\"\\n\\n\\\"Konkwa,\\nIn the old days, when I spoke, it was like the sound of a bowstring wrapped in cherry bark,\\nResonating from the center of the *kyuha* (bow grip),\\nBut now, alas, I am weakened and old.\\nYet, if there were someone eloquent,\\nConfident as a messenger,\\nI would entrust them with a negotiation of five and a half *yo* to Heaven.\\\"\\n\\nSo I spoke, tapping on the lid of the *shintoko* (lacquered box) with *tagatsuki* (metal fittings),\\nWhen someone at the entrance said,\\n\\\"Who but I is so eloquent and confident as a messenger?\\\"\\nAnd when I looked, it was a young crow.\\nI let him into the house, and then, tapping on the lid of the *shintoko* with *tagatsuki*,\\nTo appoint the young crow as my messenger,\\nI explained the negotiation for three days,\\nBut as I spoke of the third point, I saw\\nThe young crow dozing behind the hearth.\\nSeeing this, I was enraged,\\nAnd I struck the young crow with all my feathers and killed him.\\n\\nThen again, tapping on the lid of the *shintoko* with *tagatsuki*,\\n\\\"If there is anyone confident as a messenger,\\nI would entrust them with a negotiation of five and a half *yo* to Heaven.\\\"\\nThen someone again at the entrance said,\\n\\\"Who but I is so eloquent\\nAs to stand as a messenger to Heaven?\\\"\\nAnd when I looked, it was a jay from the mountains.\\n\\nI let him into the house, and then again,\\nTapping on the lid of the *shintoko* with *tagatsuki*,\\nI spoke of the negotiation of five and a half *yo*,\\nAnd after four days, as I spoke of the fourth point,\\nThe mountain jay was dozing behind the hearth.\\nI was furious and struck the mountain jay with all my feathers\\nAnd killed him.\\n\\nThen again, tapping on the lid of the *shintoko* with *tagatsuki*,\\n\\\"If there is anyone eloquent and confident as a messenger,\\nI would entrust them with a negotiation of five and a half *yo* to Heaven.\\\"\\nThen someone entered with\\nA respectful demeanor, and when I looked,\\nIt was a young river crow, beautiful in appearance,\\nWho sat on the left side. And so I,\\nTapping on the lid of the *shintoko* with *tagatsuki*,\\nContinued to speak of the five and a half points,\\nNight and day. And when I looked,\\nThe young river crow showed no sign of fatigue,\\nListening, and counting the days and nights,\\nOn the sixth day, as soon as I finished speaking,\\nHe went straight out through the skylight\\nAnd departed for Heaven.\\n\\nThe gist of the negotiation was this: in the human world,\\nThere was a famine, and the humans were on the verge\\nOf starvation. When I investigated the reason,\\nI found that the gods in Heaven\\nWho controlled the deer and the fish\\nHad consulted and decided to withhold both deer and fish.\\nNo matter what was said to them, they turned a deaf ear,\\nSo when the humans went to the mountains to hunt,\\nThere were no deer, and when they went to the rivers\\nTo fish, there were no fish.\\nI was angered by this, so\\nI appointed a messenger to the deer god and the fish god.\\n\\nAfter many days had passed,\\nA faint sound could be heard in the sky,\\nAnd someone entered. When I looked,\\nIt was the young river crow, now even more beautiful\\nAnd possessing a valiant dignity,\\nWho began to deliver the counter-negotiation.\\n\\nThe reason the deer god and the fish god in Heaven\\nHad withheld the deer and the fish until today\\nWas that when the humans caught deer,\\nThey struck the deer's head with wood, and when they skinned it,\\nThey left the deer's head as it was in the mountain *kihara* (field),\\nAnd when they caught fish,\\nThey killed them by striking their heads with rotten wood.\\nSo the deer, naked and weeping,\\nReturned to the deer god, and the fish\\nReturned to the fish god, carrying the rotten wood in their mouths.\\nThe deer god and the fish god were\\nAngry and consulted, and withheld the deer\\nAnd the fish. But if from now on\\nThe humans treat both deer and fish\\nWith care, then they will release the deer\\nAnd release the fish, so the deer god and\\nThe fish god said, he reported in detail.\\n\\nAfter hearing this, I offered praise to the young river crow,\\nAnd saw that indeed\\nThe humans had treated the deer and fish\\nCarelessly. From then on,\\nI taught the humans in their sleep, in their dreams,\\nNever to do such things again, and the humans\\nRealized their wrongdoings, and from then on,\\nThey made beautiful fishing tools like *nusa* (sacred wands),\\nAnd used them to catch fish. When they caught deer, they also\\nDecorated the deer's head beautifully and offered it in sacrifice.\\nSo the fish rejoiced and carried the beautiful *gohei* (paper streamers)\\nTo the fish god, and the deer\\nRejoiced and returned to the deer god,\\nWith newly shaved *sakayaki* (hair on the head).\\nThe deer god and\\nThe fish god were pleased and\\nReleased many fish and many deer.\\nThe humans now live without any hardship\\nOr hunger,\\nAnd I was relieved to see this.\\n\\nI am now old, weakened, and frail,\\nAnd I was thinking of going to Heaven,\\nBut because there was a famine in the human land that I protect,\\nAnd the humans were on the verge of starvation, I could not\\nGo without concern, so\\nI have remained until now, but now that there is\\nNothing to worry about, I will place the strongest,\\nA young hero, in my place to protect the human world,\\nAnd now I am going to Heaven.\\\"\\n\\nSo spoke the old god (owl), the guardian deity of the land,\\nAnd departed for Heaven. So it is told.\"\n",
      "}{\n",
      "  \"comment\": \"This is a translation of an Ainu chant, sung by an Ainu god telling his story. I have tried to keep the original Japanese meaning accurately, while using a storytelling and poetic tone with modern and simple English. Some terms like 'Kamuy' and 'Nusa' are kept in their original form as they are difficult to translate directly and are better understood in their original context.\",\n",
      "  \"translation\": \"The Song of the Sea God: An Atoika\\nTomato Maki Kuntoteashi Hum Hum!\\n\\nAtoika Tomato Maki Kuntoteashi Hum Hum!\\nMy elder brothers, six in number, my elder sisters, six in number,\\nMy younger brothers, six in number, my younger sisters, six in number,\\nThey raised me, but I,\\nI had a raised platform built beside the treasures, and upon that platform,\\nI sat, carving and engraving scabbards,\\nThat alone was my life's work.\\nEvery morning, my brothers would\\nshoulder their quivers and go out with my sisters,\\nreturning at dusk with weary faces,\\nempty-handed. My sisters,\\ndespited their weariness, would prepare the meal, setting a tray before me,\\nthen eating themselves. When the meal was done,\\nmy brothers would busily make arrows.\\nWhen the quivers were full, they would all be so tired\\nthey would fall asleep, snoring loudly.\\nThe next day, while it was still dark,\\nthey would all rise, my sisters preparing the meal and setting a tray for me.\\nWhen everyone had eaten, they would again shoulder their quivers\\nand depart. Again, in the evening,\\nthey would return with weary faces, empty-handed,\\nmy sisters preparing the meal, my brothers making arrows,\\nalways doing the same things.\\nOne day, again, my brothers and sisters\\nshouldered their quivers and went out.\\nI was carving treasures, but soon\\nI rose from the platform, took a golden bow\\nand golden arrows, and went outside.\\nThe sea was vast and calm,\\nwhales playing to the east and west,\\nsplashing and frolicking. Then,\\nto the east, my elder sisters, six in number, joined hands to form a ring,\\nmy younger sisters, six in number, driving the whales into the ring.\\nMy elder brothers, six in number, my younger brothers, six in number,\\naimed and shot at the whales within the ring, their arrows\\npassing beneath and above the whales.\\nEvery day, they did this.\\nI saw in the center of the sea\\na large whale and its calf playing,\\nleaping up and down. From afar,\\nI nocked a golden arrow to my golden bow\\nand aimed, piercing both the whale and its calf with a single shot.\\nThen, I cut the whale in half\\nand threw half into my sisters' ring.\\nThen, with the remaining whale and a half,\\nI placed it beneath its tail and headed towards the land of humans,\\narriving at Otasutsu village.\\nI pushed the whale and a half\\nonto the village beach.\\nThen, I slowly\\nswam back across the sea,\\nwhen someone came running beside me,\\nout of breath. It was the sea grebe.\\nBreathlessly, it said,\\n\\\"Tomin Karikuru Kamuy Karikuru Isoyankekuru\\nBrave God, Great God,\\nwhy have you given such a great sea bounty to the lowly humans, the wicked humans?\\nThe lowly humans, the wicked humans, are using axes\\nand sickles to cut, poke, and scrape away at the great sea bounty.\\nBrave God,\\nGreat God, please quickly\\ntake back the great sea bounty. Even though you have given them so much,\\nthe lowly humans, the wicked humans,\\ndo not appreciate it and do such things!\\\"\\nSo I laughed and said,\\n\\\"I have given it to the humans,\\nso now it is theirs. Let the humans\\ncut it with sickles or\\nscrape it with axes, let them eat it as they please.\\nWhat does it matter?\\\" The sea grebe seemed discomfited,\\nbut I paid it no mind and slowly swam across the sea,\\narriving at my sea as the day was ending.\\nI saw\\ntwelve brothers, twelve\\nsisters, unable to carry the half whale,\\nstruggling together, shouting loudly,\\ngrumbling to the east of the sea.\\nI was truly amazed.\\nI ignored them and went home,\\nsitting on the platform.\\nThen, looking back towards the human world,\\nI saw fine men and\\nfine women surrounding the whale and a half I had beached,\\ndressed in finery, rejoicing and dancing over the sea bounty,\\nand on the dunes behind,\\na fine mat was spread,\\nand upon it, the village chief of Otasutsu village,\\nbound in six layers of kimono and sash, wearing six layers of kimono,\\ncrowned with a magnificent god's crown, an ancestral crown,\\na divine sword at his waist,\\nlooking as beautiful as a god, raising his hands high\\nin prayer. The humans were crying\\nand rejoicing over the sea bounty.\\nWhat the grebe said about the humans\\npoking at the whale I had beached with axes and sickles was wrong.\\nThe village chief and\\nthe villagers were taking out the divine sword,\\nwhich they had always considered the most precious of treasures,\\nand using it to cut the meat and carry it away.\\nThen, my brothers and sisters showed no sign of returning.\\nTwo or three days passed, and something seemed to appear in the window.\\nLooking back, I saw in the window\\na golden cup overflowing\\nwith sake, and upon it\\nwere ceremonial chopsticks adorned with Nusa,\\ncoming and going, delivering a message as an envoy, saying,\\n\\\"I am from Otasutsu village,\\nand with great reverence, I offer you this sake.\\\"\\nThe village chief of Otasutsu village,\\nrepresenting all the villagers,\\nexplained in detail how he was expressing his gratitude to me,\\nsaying,\\n\\\"Tomin Karikuru Kamuy Karikuru Isoyankekuru\\nGreat God, Brave God, who else\\nwould have pity on our village, which was suffering from famine\\nand was in such dire straits\\nthat we had no food?\\nThank you truly for giving life to our village.\\nRejoicing in the sea bounty,\\nwe have made a little sake,\\nadded a small Nusa,\\nand are offering our thanks to the Great God.\\\"\\nThis was what\\nthe Nusa-adorned chopsticks conveyed, coming and going.\\nSo I rose, took the golden cup,\\nheld it high,\\nopened the lids of the six sake barrels in the upper seat,\\npoured a little of the fine sake into each,\\nand placed the golden cup in the window.\\nWhen that was done, I sat down on the platform\\nand saw that the cup and chopsticks\\nwere gone. Then, carving\\nand engraving scabbards, I\\nsuddenly looked up,\\nand the house was filled with beautiful Nusa,\\nwhite clouds drifting through the house, white lightning\\nflashing brightly. I thought, \\\"Ah, how beautiful.\\\"\\nThen, again, two or three days passed,\\nand at last, I heard my brothers and\\nsisters outside the house, shouting loudly as they\\npulled the whale.\\nI was amazed.\\nWatching them enter the house,\\nmy brothers and sisters were\\nvery tired, their faces pale.\\nEveryone came in, and when they saw the many Nusa,\\nthey were surprised and bowed many times.\\nMeanwhile, the six sake barrels in the eastern seat\\nwere overflowing, and the scent of the god's favorite\\nsake filled the house.\\nThen I decorated the house with beautiful Nusa,\\ninvited the gods of far and near,\\nand held a grand banquet. My sisters\\nboiled the whale and offered it to the gods,\\nwho smacked their lips and rejoiced.\\nWhen the banquet was at its height, I rose\\nand told in detail how there was a famine in the human world\\nand how I had taken pity on them and beached the sea bounty,\\nhow the wicked gods were jealous of this\\nand how the sea grebe had slandered me,\\nand how the village chief of Otasutsu village\\nhad expressed his gratitude to me in such words\\nand how the Nusa-adorned chopsticks had come as an envoy.\\nThe gods\\nnodded in unison,\\npraising me.\\nThen, again, we held a grand banquet,\\nand the sounds of the gods\\ndancing and leaping here and there\\nmade a beautiful harmony, and my sisters\\ncarried pitchers, serving sake between the seats,\\nand sang with beautiful voices along with the goddesses.\\nThe banquet ended after two or three days.\\nI gave the gods two or three beautiful Nusa each,\\nand the gods bent low at the waist,\\nbowing many times, and\\neach returned to their own home.\\nAfter that, as always, my elder brothers, six in number,\\nmy elder sisters, six in number, my younger sisters, six in number,\\nmy younger brothers, six in number, were with me,\\nand whenever the humans made sake,\\nthey would send sake and Nusa to me.\\nNow, the humans have no lack of food\\nand live in peace without any trouble,\\nso I am at ease.\"\n",
      "}{\n",
      "  \"comment\": \"Translated from Japanese to English, keeping the storytelling and poetic tone. Some Ainu terms are kept as is.\",\n",
      "  \"translation\": \"The Frog's Own Song\\n\\\"Toro ro hanroku hanroku!\\\"\\n\\nToro ro hanroku hanroku!\\nOne day, as I hopped and played in the meadow,\\nI saw a house. I went to the doorway,\\nand inside, beside a pile of treasures,\\nwas a raised platform. On that platform,\\na young man was carving a sheath, his head bowed.\\nI thought to play a trick, so I sat on the threshold\\nand sang, \\\"Toro ro hanroku hanroku!\\\"\\nThen, the young man raised the hand that held his knife,\\nlooked at me, and smiled gently.\\n\\\"Is that your song? Your song of joy?\\nI'd like to hear more,\\\" he said.\\nPleased, I sang again, \\\"Toro ro hanroku hanroku!\\\"\\nAnd the young man said,\\n\\\"Is that your yukar? Your sakehau?\\nI'd like to hear it closer.\\\"\\nHearing this, I was delighted and hopped down\\nto the hearth's edge on the lower side,\\nand sang, \\\"Toro ro hanroku hanroku!\\\"\\nThe young man said,\\n\\\"Is that your yukar? Your sakehau?\\nI'd like to hear it closer.\\\"\\nHearing this, I was truly happy, and hopped\\nto the corner of the hearth on the upper side,\\nand sang, \\\"Toro ro hanroku hanroku!\\\"\\nSuddenly! The young man leaped up,\\nor so I thought, and grabbed a large, burning log,\\nhurling it at me! The sound was as if the world in front of me collapsed, and after that, I knew nothing.\\nWhen I came to, I was at the edge of the refuse heap,\\na bloated frog lay dead, and I was sitting between its ears.\\nLooking closely, I realized that what I thought was a mere human's house\\nwas actually the home of Okikirmui, a god of immense power.\\nAnd without knowing it was Okikirmui,\\nI had played a trick.\\nNow, I am to die such a meaningless, wretched death.\\nTherefore, frogs of the future, never,\\never play tricks on humans.\\\"\\nAnd with those words, the bloated frog died.\"\n",
      "}{\n",
      "  \"comment\": \"Translated from Japanese to English, keeping the storytelling and poetic tone. Some Ainu terms are kept as is.\",\n",
      "  \"translation\": \"This is the song sung by Little Okikirmui himself:\\n\\\"Kutunisa Kutonkuton\\\"\\n\\nKutunisa Kutonkuton,\\nOne day, I went to play near the source of the river.\\nThere, I saw a little man,\\nBending over, hammering stakes to build a walnut weir.\\nWhen he saw me, he said,\\n\\\"Who are you? My nephew, please help me.\\\"\\nI looked and saw it was a walnut weir.\\nWalnut water, muddy water,\\nFlowed, and the salmon,\\nHated the walnut water and cried as they returned.\\nI was enraged,\\nI snatched the mallet from the little man,\\nAnd struck him in the center of his back with a *pon* sound.\\nI broke the little man's back and killed him,\\nAnd kicked him down to hell.\\nI shook his walnut stake,\\nIt seemed to reach beyond the six hells.\\nThen, I put all the strength in my back, all the strength in my body,\\nAnd broke the stake from its base,\\nAnd kicked it down to hell.\\nClear wind, clear water,\\nFlowed from the source, and the salmon,\\nWho had cried as they returned,\\nRegained their spirit in the clear wind and clear water,\\nAnd frolicked and laughed as they played,\\nSplashing as they swam upstream.\\nSeeing this, I was relieved,\\nAnd returned along the stream.\\nSo told Little Okikirmui.\"\n",
      "}{\n",
      "  \"comment\": \"Translated from Japanese to English, keeping the storytelling and poetic tone of the original Ainu chant. Some terms like 'Okikirmui' are kept in the original language as they are specific names.\",\n",
      "  \"translation\": \"A song sung by Little Okikirmui himself:\\n\\\"This sand, red, so red.\\\"\\n\\nThis sand, red, so red,\\nOne day, venturing upstream for play,\\nI encountered a child of the devil.\\nAlways, the devil's child possessed a beautiful air,\\nA beautiful face, adorned in black robes,\\nA small bow of walnut, with arrows of walnut he held.\\nSeeing me, he grinned,\\nsaying,\\n\\\"Little Okikirmui, let us play.\\nNow, I shall show you how to cut off the fish's roots.\\\"\\nSo saying, with his walnut bow and walnut arrow,\\nHe aimed and shot towards the water source.\\nFrom the source, walnut water, turbid water flowed,\\nAnd the salmon, as they tried to ascend,\\nLoathing the walnut water, cried and retreated with the flow.\\nThe devil's child, he grinned at this.\\nSeeing this, I was angered,\\nAnd with my silver bow and silver arrow,\\nI aimed and shot towards the water source.\\nFrom the source, silver water, pure water flowed,\\nAnd the salmon, who had cried as they retreated,\\nRegained their vigor in the pure water,\\nLaughing and frolicking,\\nSplashing and ascending the river.\\nThen, the devil's child,\\nHis inherent temper showing on his face,\\nsaid,\\n\\\"If you truly do such a thing, I shall show you how to cut off the deer's roots.\\\"\\nAnd saying so, with his walnut bow and walnut arrow,\\nHe shot into the vast sky.\\nFrom the mountain's fields,\\nWalnut wind, a whirlwind, blew forth,\\nAnd from the mountain's fields,\\nThe stags in one group,\\nThe does in another,\\nWere blown upwards by the wind,\\nAscending neatly into the sky.\\nThe devil's child, he grinned.\\nSeeing this, I was enraged,\\nAnd with my silver bow and silver arrow,\\nI aimed and shot after the deer.\\nFrom the heavens,\\nSilver wind, pure wind, blew down,\\nThe stags in one group,\\nThe does in another,\\nWere blown down upon the mountain's fields.\\nThen, the devil's child,\\nHis inherent temper showing on his face,\\nsaid,\\n\\\"Insolent one, if you truly\\ndo such a thing, let us have a contest of strength.\\\"\\nAnd saying so, he removed his outer garment.\\nI, too, in a thin robe,\\nGrappled with him. He grappled with me. From then on,\\nWe wrestled, sometimes below, sometimes above,\\nBut I was astonished by the devil's child's great strength.\\nYet, finally, at a certain moment,\\nI gathered all the strength in my waist, in my body,\\nAnd lifted the devil's child\\nUp to my shoulders,\\nAnd the sound of me slamming him upon the mountain rocks\\nResounded with a clang. After killing him and\\nkicking him down to hell, all became silent.\\nThat done, as I returned along the stream,\\nFrom within the river, the voices of salmon laughing,\\nThe sounds of play, rose clamorously,\\nSplashing and echoing. In the mountain's fields,\\nThe voices of stags and does laughing,\\nThe sounds of play, filled the air,\\nEating here and there. Seeing this, I was relieved,\\nAnd returned to my home.\\nSo, Little Okikirmui told his story.\"\n",
      "}{\n",
      "  \"comment\": \"Translated from Japanese to English, keeping a storytelling and poetic tone. Some terms like 'Samayunkuru' and 'Okikirmui' are kept in the original Japanese as they are names of places or people. The translation aims for accuracy and readability.\",\n",
      "  \"translation\": \"The Otter's Own Song:\\n\\\"Kappa Reureu Kappa\\\"\\n\\nKappa Reureu Kappa,\\nOne day, as I played along the stream,\\nSwimming down, I came to Samayunkuru's\\nWater-drawing path.\\nSamayunkuru's sister, beautiful as a goddess,\\nCarried a bucket in one hand and\\nA bundle of reeds in the other.\\nI poked my head out of the river's edge and asked,\\n\\\"Do you have a father?\\nDo you have a mother?\\\"\\nThe maiden, startled, looked around,\\nAnd finding me, her face filled with anger,\\n\\\"Oh, you hateful flathead, you wicked flathead,\\nMaking fun of people! Dogs, here!\\\"\\nAt her call, large dogs came rushing,\\nBaring their fangs at me. Startled, I dove\\nTo the river bottom and fled downstream.\\n\\nThen, at the mouth of Okikirmui's water-drawing path,\\nI peeked out again. Okikirmui's sister,\\nBeautiful as a goddess, carried a bucket\\nIn one hand and a bundle of reeds in the other.\\nI said to her,\\n\\\"Do you have a father?\\nDo you have a mother?\\\"\\nThe maiden, startled, looked around,\\nAnd finding me, her face filled with anger,\\n\\\"Oh, you hateful flathead, you wicked flathead,\\nMaking fun of people! Dogs, here!\\\"\\nLarge dogs came rushing at her call.\\nRemembering what happened before, I found it funny,\\nAnd as I dove to the river bottom to escape,\\nThough I never imagined the dogs would do such a thing,\\nThey leaped into the river, fangs bared,\\nDragging me ashore, biting and tearing\\nAt my head and body, until I lost consciousness.\\n\\nWhen I awoke, I found myself\\nSitting between the ears of a great otter.\\nI knew that neither Samayunkuru nor Okikirmui\\nHad father or mother, and I played that prank,\\nSo I was punished, killed by Okikirmui's dogs,\\nA meaningless, wretched death.\\n\\nFuture otters, never play such pranks.\\nSo, the otter told his tale.\"\n",
      "}{\n",
      "  \"comment\": \"Translated from Japanese to English, keeping a storytelling and poetic tone. Some Ainu terms are kept as is.\",\n",
      "  \"translation\": \"The Pond Snail's Own Song: \\\"Tonupeka Ranran\\\"\\n\\nTonupeka ranran,\\nUnder the fierce sunlight, my home dries,\\nI feel as if I'm about to die.\\n\\\"Someone, please give us water,\\nplease help us! Water, water!\\\" we cried.\\nThen, from the shore, a woman came,\\na basket upon her back.\\nAs we wept, she passed by us,\\nand seeing us, she said,\\n\\\"Strange pond snails, wretched pond snails, why do you cry\\nand make such a noisy fuss?\\\"\\nShe trampled us, kicked us aside,\\ncrushing us with our shells,\\nthen went far into the mountains.\\n\\\"Oh, it hurts, it's painful, water, water!\\\" we cried.\\nThen, from the shore, another woman came,\\na basket upon her back. We cried,\\n\\\"Someone, please give us water and help us!\\nOh, it hurts, oh, it's painful, water, water!\\\"\\nThen, the maiden, with a divine and noble air,\\ncame to my side and seeing us, she said,\\n\\\"Oh, you poor things, it's so hot, the pond snails'\\nbeds have dried up, and they thirst for water.\\nWhat has happened? It looks as if you've been trampled...\\\"\\nAs she spoke, she gathered us all up,\\nplaced us on butterbur leaves,\\nand put us in a clear lake.\\nWith the pure, cold water, we fully recovered,\\nand became very strong. Then, for the first time,\\nI investigated the nature of these women.\\nThe hateful woman who came first and crushed me,\\nthe wicked woman, was Samayunkur's\\nsister. The young maiden who pitied us\\nand helped us, the gentle and graceful one,\\nwas Okikirmuy's sister.\\nSamayunkur's sister was evil and hateful,\\nso her millet field withered. Okikirmuy's\\nsister's millet field, however, flourished.\\nThat year, Okikirmuy's sister harvested a great abundance.\\nKnowing it was because of me,\\nshe harvested the millet ears with pond snail shells.\\nSince then, every year, human women\\nhave used pond snail shells when harvesting millet ears.\\nSo, a pond snail told the story.\"\n",
      "}"
     ]
    }
   ],
   "source": [
    "# process the translation in batch mode\n",
    "\n",
    "for song_no in range(start_at, end_at + 1):\n",
    "    with open(f\"Chiri_Japanese_Translation/story_translation_{song_no}.txt\", \"r\", encoding=\"utf8\") as f:\n",
    "        japanese_story = f.read()\n",
    "        japanese_story = unicodedata.normalize('NFKC', japanese_story)\n",
    "\n",
    "        poetic_translation = generate(client,generate_content_config,model,input_text=japanese_story,prompt=poetic_translation_prompt)\n",
    "\n",
    "        poetic_translation_dict = json.loads(poetic_translation)\n",
    "\n",
    "        #descriptive_translation = generate(client,generate_content_config,model,input_text=japanese_story,prompt=descriptive_translation_prompt)\n",
    "\n",
    "        md_output = md_template.format(translated_language=\"English\", ainu_title=ainu_titles[song_no - 1],\n",
    "                               poetic_prompt=poetic_translation_prompt,\n",
    "                               japanese_title=japanese_titles[song_no], input_japanese = japanese_story,\n",
    "                               output_poetic=poetic_translation_dict['translation'])\n",
    "        \n",
    "        md_name_part = get_output_file_name_key(ainu_titles[song_no - 1])\n",
    "\n",
    "        data_dict = dict(ainu_title=ainu_titles[song_no - 1], japanese_title=japanese_titles[song_no], \n",
    "                         input_text = japanese_story, english_translation=poetic_translation_dict['translation'])\n",
    "\n",
    "        with open(f\"Initial_LLM_prompts_and_translations_main_text/English_Translation_JSON/{song_no}_{md_name_part}.json\", \"w\", encoding=\"utf8\") as f:\n",
    "            json.dump(data_dict, f, ensure_ascii=False, indent=4)\n",
    "\n",
    "        with open(f\"Initial_LLM_prompts_and_translations_main_text/English_Translation/{song_no}_{md_name_part}_to_English.md\", \"w\", encoding=\"utf8\") as f:\n",
    "            f.write(md_output)\n",
    "\n"
   ]
  },
  {
   "cell_type": "code",
   "execution_count": null,
   "metadata": {},
   "outputs": [],
   "source": []
  },
  {
   "cell_type": "code",
   "execution_count": null,
   "metadata": {},
   "outputs": [],
   "source": []
  },
  {
   "cell_type": "code",
   "execution_count": null,
   "metadata": {},
   "outputs": [],
   "source": []
  }
 ],
 "metadata": {
  "kernelspec": {
   "display_name": "llama",
   "language": "python",
   "name": "python3"
  },
  "language_info": {
   "codemirror_mode": {
    "name": "ipython",
    "version": 3
   },
   "file_extension": ".py",
   "mimetype": "text/x-python",
   "name": "python",
   "nbconvert_exporter": "python",
   "pygments_lexer": "ipython3",
   "version": "3.11.11"
  }
 },
 "nbformat": 4,
 "nbformat_minor": 2
}
