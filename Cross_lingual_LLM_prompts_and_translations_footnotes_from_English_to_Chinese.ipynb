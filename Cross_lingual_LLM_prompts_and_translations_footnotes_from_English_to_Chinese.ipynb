{
 "cells": [
  {
   "cell_type": "code",
   "execution_count": 1,
   "metadata": {},
   "outputs": [],
   "source": [
    "from google import genai\n",
    "from google.genai import types\n",
    "import base64\n",
    "import json\n",
    "import os\n",
    "from dotenv import load_dotenv\n",
    "\n",
    "from pydantic import BaseModel, Field\n",
    "\n",
    "import unicodedata\n",
    "import re"
   ]
  },
  {
   "cell_type": "code",
   "execution_count": 2,
   "metadata": {},
   "outputs": [],
   "source": [
    "load_dotenv()\n",
    "project_name = os.getenv('PROJECT_NAME')"
   ]
  },
  {
   "cell_type": "markdown",
   "metadata": {},
   "source": [
    "The story id, from 1 to 13 according to the 13 Ainu Kamuy Yukars translated by Chiri Yukie. The Yukar ID starts at 1. Chiri's Preface is 0."
   ]
  },
  {
   "cell_type": "code",
   "execution_count": 3,
   "metadata": {},
   "outputs": [],
   "source": [
    "start_at = 1\n",
    "end_at = 13"
   ]
  },
  {
   "cell_type": "code",
   "execution_count": 4,
   "metadata": {},
   "outputs": [],
   "source": [
    "class Translation(BaseModel):\n",
    "    \"\"\"The translation, and the comments\"\"\"\n",
    "    translation: str = Field(description=\"The translation\")\n",
    "    comment: str = Field(description=\"Comments on the translation\")"
   ]
  },
  {
   "cell_type": "code",
   "execution_count": 5,
   "metadata": {},
   "outputs": [],
   "source": [
    "system_instruction_prompt = \"\"\"You are a professional translator. You know Japanese, English and Chinese. You can translate Japanese into either Chinese or English. You can also translate Chinese into English, and English into Chinese.\"\"\"\n",
    "\n",
    "client = genai.Client(\n",
    "      vertexai=True,\n",
    "      project=project_name,\n",
    "      location=\"us-central1\",\n",
    ")\n",
    "\n",
    "model = \"gemini-2.0-flash-001\"\n",
    "\n",
    "generate_content_config = types.GenerateContentConfig(\n",
    "    temperature = 0,\n",
    "    top_p = 0,\n",
    "    max_output_tokens = 8192,\n",
    "    response_mime_type = 'application/json',\n",
    "    response_schema = Translation,\n",
    "    safety_settings = [types.SafetySetting(\n",
    "      category=\"HARM_CATEGORY_HATE_SPEECH\",\n",
    "      threshold=\"OFF\"\n",
    "    ),types.SafetySetting(\n",
    "      category=\"HARM_CATEGORY_DANGEROUS_CONTENT\",\n",
    "      threshold=\"OFF\"\n",
    "    ),types.SafetySetting(\n",
    "      category=\"HARM_CATEGORY_SEXUALLY_EXPLICIT\",\n",
    "      threshold=\"OFF\"\n",
    "    ),types.SafetySetting(\n",
    "      category=\"HARM_CATEGORY_HARASSMENT\",\n",
    "      threshold=\"OFF\"\n",
    "    )],\n",
    "    system_instruction=[types.Part.from_text(text=system_instruction_prompt)],\n",
    "  )"
   ]
  },
  {
   "cell_type": "code",
   "execution_count": 6,
   "metadata": {},
   "outputs": [],
   "source": [
    "translation_prompt = \"\"\"Translate the following text from English to Chinese. The original text is translation from Japanese which is footnotes of Ainu chant. \n",
    "Keep the original meaning. Use modern Chinese. Display in Traditional Chinese. Only allow Chinese and English characters.\n",
    "If a term cannot be translated, keep the original language.\"\"\"\n",
    "\n",
    "#descriptive_translation_prompt = \"Translate the following text from Japanese to Chinese. Keep the original meanings. Display in Traditional Chinese.\""
   ]
  },
  {
   "cell_type": "code",
   "execution_count": 7,
   "metadata": {},
   "outputs": [],
   "source": [
    "# read the content page of Japanese translation and get the Japanese translated title\n",
    "with open(\"Chiri_Japanese_Translation/content.txt\", \"r\", encoding=\"utf8\") as f:\n",
    "    japanese_content = f.read()\n",
    "    japanese_content = unicodedata.normalize('NFKC', japanese_content)\n",
    "\n",
    "\n",
    "s=re.split(r'\\n\\n', japanese_content)\n",
    "japanese_titles = re.split(r'\\n', s[1])"
   ]
  },
  {
   "cell_type": "code",
   "execution_count": 8,
   "metadata": {},
   "outputs": [],
   "source": [
    "# read the content page of Ainu original text and get the original title\n",
    "with open(\"original_Ainu_text/content.txt\", \"r\", encoding=\"utf8\") as f:\n",
    "    ainu_content = f.read()\n",
    "    ainu_content = unicodedata.normalize('NFKC', ainu_content)\n",
    "\n",
    "\n",
    "s=re.split(r'\\n\\n', ainu_content)\n",
    "ainu_titles = re.split(r'\\n', s[1])"
   ]
  },
  {
   "cell_type": "code",
   "execution_count": 9,
   "metadata": {},
   "outputs": [],
   "source": [
    "# Read the markdown template for writing the Chinese translations to Markdown file\n",
    "\n",
    "#read in the template\n",
    "with open(\"templates/raw_output_md_template_cross_lingual\", \"r\", encoding=\"utf8\") as f:\n",
    "    md_template = f.read()\n",
    "    md_template = unicodedata.normalize('NFKC', md_template)"
   ]
  },
  {
   "cell_type": "code",
   "execution_count": 10,
   "metadata": {},
   "outputs": [],
   "source": [
    "def generate(client: genai.Client,generate_content_config :types.GenerateContentConfig,model :str, /,input_text :str, prompt :str):\n",
    "\n",
    "    text_full_prompt = text1 = types.Part.from_text(text=f\"{prompt}\\n\\n{input_text}\")\n",
    "\n",
    "    output = \"\"\n",
    "\n",
    "    contents = [\n",
    "      types.Content(\n",
    "        role=\"user\",\n",
    "        parts=[\n",
    "          text_full_prompt\n",
    "        ]\n",
    "      )\n",
    "    ]\n",
    "\n",
    "    for chunk in client.models.generate_content_stream(\n",
    "        model = model,\n",
    "        contents = contents,\n",
    "        config = generate_content_config,\n",
    "        ):\n",
    "        print(chunk.text, end=\"\")\n",
    "        output += chunk.text\n",
    "\n",
    "    return output\n",
    "\n",
    "def get_output_file_name_key(title :str):\n",
    "    # setup the output file name\n",
    "    s = title.split()\n",
    "    md_name_part = s[0]\n",
    "\n",
    "    name_2nd_part = \"\"\n",
    "\n",
    "    for text in s:\n",
    "        if text.startswith('“'):\n",
    "            name_2nd_part = text.replace('“', '').replace('”', '')\n",
    "        \n",
    "    md_name_part += \"_\" + name_2nd_part\n",
    "\n",
    "    return md_name_part\n",
    "\n"
   ]
  },
  {
   "cell_type": "code",
   "execution_count": 11,
   "metadata": {},
   "outputs": [
    {
     "name": "stdout",
     "output_type": "stream",
     "text": [
      "{\n",
      "  \"comment\": \"Translation from English to Traditional Chinese, preserving original meaning and using modern Chinese. Terms that cannot be translated are kept in the original language.\",\n",
      "  \"translation\": \"1. 在過去，當男孩稍微長大一點，他們會製作並給他一個小弓箭。孩子會通過射擊樹木和鳥類來玩耍，不知不覺地變得擅長射箭。\\nak...... archery（射箭）, shinot 是玩耍, ponai 是小箭。\\n\\n2. shiktumorke...... 眼神。\\n據說，如果你想了解一個人的真實本性，最好的方法是看他們的眼睛，如果他們不安地四處張望，就會受到責罵。\\n\\n3. achikara...... 意思是「骯髒」。\\n\\n4. 據說鳥類和動物被人類射下來，是因為它們想要人類製作的箭，並且它們正在拿走箭。\\n\\n5. kotankorkamui...... 擁有國家或村莊的神。\\n在山裡，有 nupurikorkamui...... 擁有山的神（熊）和 nupuripakorkamui...... 擁有山東邊的神（狼），貓頭鷹的地位排在熊和狼之後。\\nkotankorkamui 不像山神或山東邊的神那樣粗魯和倉促。因此，他們通常很平靜，總是閉著眼睛，據說只有在非常嚴重的事情發生時才會睜開眼睛。\\n\\n6. eharkiso...... 左座。\\n\\n7. eshiso...... 右座。\\n在房子的中央是一個爐灶，東側有※(「窗/心」)的那一側是上座。從上座看，右邊是 eshiso，左邊是 harkiso。只有男人才能坐在上座。地位低於戶主的客人會避免坐在上座。房子的主人和女主人習慣並排坐在右座。左座在右座旁邊，西側（朝向門口）的座位是最低的座位。\\n\\n8. hayokpe 頭盔。\\n據說，當鳥類和動物在山裡時，人類的眼睛是看不見它們的，但它們每個都像人類一樣有一個房子，它們都以與人類相同的形式生活，當它們來到人類的村莊時，它們會戴上頭盔。據說鳥類和動物的屍體是頭盔，主體是看不見的，但在屍體的耳朵之間。\\n\\n9. otuipe...... 一個屁股被切掉的傢伙。\\n像狗的斷尾一樣短的尾巴是不受重視的。\\n他們使用辱罵性的語言來形容極其微不足道的人，如 wenpe...... 一個壞傢伙，otuipe...... 一個斷尾的傢伙。\\n\\n10. chikashnukar. 當神非常高興人類，並在一個完全意想不到的地方給予那個人一些巨大的財富時，那個人會高興地說 ikashnukar an。\\n\\n11. apehuchi...... 火的老婦人。火女神是房子裡最受尊敬的女神，而且總是一位老婦人。當山神、海神和其他各種神像這隻貓頭鷹一樣來到房子裡做客時，這位 apehuchi 會帶頭招待和與客人交談。也可以簡單地說 kamuihuchi（神老婦人）。\\n\\n12. neusar 互相交談。\\n談論各種世俗的事情也是 neusar。通常，像 kamuiyukar（神之歌）和 uwepeker（古老的故事）之類的事情被稱為 neusar。\\n\\n13. ashke a uk. ashke 是手指，手。a uk 是拿取。意思是當有慶祝活動時邀請人們。\\n\\n14. kakkokhau...... 杜鵑鳥的聲音。\\n因為杜鵑鳥的聲音優美而清晰，所以說話清晰且大家都能理解的人被說成像杜鵑鳥一樣。\\n\\n15. chisekorkamui...... 擁有房子的神。\\n火神就像家庭主婦，而房屋神就像房子的主人。他也被稱為 chisekorekashi...... 擁有房子的老人。\\n\\n16. nusakorkamui...... 擁有神聖架子的神，一位老婦人。\\n神聖架子的神也總是一位女性。在緊急情況下，她可能會出現在人類面前，但在那時，她會以蛇的形式出現。因此，如果一條蛇出現在神聖架子附近或東窗附近，他們會說：「神聖架子的老婦人一定是出去辦事了」，他們永遠不會殺死蛇。據說如果你殺了它，你將受到懲罰。\"\n",
      "}{\n",
      "  \"comment\": \"Translated from English to Traditional Chinese, keeping original terms where necessary and maintaining the original meaning.\",\n",
      "  \"translation\": \"1. isoeonkami.iso 指的是海洋，eonkami 指的是為某事道歉的行為。\\n人們相信，當鯨魚被沖上岸時，是海神親自將其帶給人類，並將其沖上岸。屆時，重要人物會正式著裝，面向大海祭拜。\\n\\n2. ononno. 這是一個當有人從山裡或海上帶著獵物回來時，人們會重複說的詞語。\\n\\n3. uniwente...... 在發生重大洪水、火災、火山爆發或其他自然災害之後，或者當有人被熊吃掉、掉入海或河流中，或因任何不尋常的事件而受傷或死亡時，所舉行的儀式。\\n屆時，他們會互相指向矛和劍的尖端，同時交換慰問之詞。當一個村莊出現災難受害者時，許多來自鄰近村莊的代表會聚集在該村莊舉行儀式，但也可以在兩個人之間進行。\\n\\n4. hokokse...... 男人在 uniwente 期間或發生可怕事件時，向神靈尋求幫助的呼喊。「Hohho-i」，這僅限於男性。\\n\\n5. ashur 意思是不同尋常的消息，ek 意思是到來。\\n......當有人遠離村莊生病或死亡時，會從那個地方派一個信使到這個人的家鄉，報告這個不尋常的事件，或者當有人來到村莊報告有人在另一個村莊死亡，或者發生了什麼不尋常的事情。\\n那個信使被稱為 ashurkorkur（帶有不尋常消息的人）。\\n當 ashurkorkur 靠近村莊時，他首先大聲喊叫 hokokse (Hohho-i)。然後，聽到它的村民也大聲喊叫，走到村莊的邊緣迎接他，並聽取不尋常的消息。\\n\\n6. uchishkar...... 一起哭泣。這是女性的問候語，當她們在長期分離後相遇，當一個近親去世，或者當有人處於極大的危險之中並最終逃脫時，女性會手牽手或互相擁抱頭部或肩膀並哭泣。\\n\\n7. matrimimse (女人的哭聲)...... 在發生突發變化或 uniwente 的情況下，男人會發出很大的 hokokse (Hohho-i) 聲音，但女人會用細細的聲音喊「Ho-i」。\\n據說女性的聲音比男性的聲音更高更強，所以她們的聲音首先傳到神靈的耳朵裡。因此，當發生突發事件時，即使是男人也會像女人一樣發出細細的聲音，並喊叫兩三聲。\\n\\n8. peutanke...... 與 rimimse 具有相同的含義，但這是一個常用的詞，而 rimimse 是一個稍微難懂的詞。\"\n",
      "}{\n",
      "  \"comment\": \"Translated from English to Traditional Chinese, maintaining the original meaning and using modern Chinese. Terms that could not be directly translated were kept in their original language.\",\n",
      "  \"translation\": \"（1）pau：狐狸叫聲的擬聲詞。\\n\\n（2）pushtotta：一種出海狩獵時使用的袋狀物品，用於攜帶生火工具、藥品和其他小型必需品。用於相同目的的類似物品包括*piuchiop*和*karop*，但這些是用香蒲蓆（*gama*）或*attush*編織物製成的，因此它們在陸地上使用。*pushtotta*由熊皮、海豹皮或其他毛皮製成，使其具有防水性，適合帶到海上。\\n\\n（3）noya ai：用艾草製成的箭。艾草是阿伊努人崇敬的植物。據說惡魔害怕被艾草箭擊中，因為它會阻止它們漂走，使其成為長途旅行的必需品。\\n\\n（4）最初，男女廁所是分開的。*ashinru*和*eosineru*都指廁所。\\n\\n在狐狸中，黑狐被認為是最受尊敬的。突出到海中的海角通常被認為是黑狐的領地，據說除非發生非常嚴重的事情，否則黑狐不會讓人們知道它的存在。\\n\\n*Okikurumi (Okikirmui)*、*Samayunkur*和*Shupunramka*是堂兄弟，其中*Shupunramka*年紀最大，*Okikirmui*年紀最小。*Shupunramka*是一個溫柔而膽小的人，所以沒有關於他的故事。*Samayunkur*脾氣暴躁、缺乏智慧、很草率、本性不好，而且是個懦夫。另一方面，*Okikirmui*像神一樣聰明、富有同情心、勇敢，是個偉人，所以有數不清關於他的故事。\"\n",
      "}{\n",
      "  \"comment\": \"Translated from English to Traditional Chinese, keeping the original meaning and using modern Chinese. Terms that cannot be translated are kept in the original language.\",\n",
      "  \"translation\": \"（1）Amatsupo (弩いしゆみ)：意即設置一個「機關弓」。\\n（2）劍。這些與戰爭中使用的劍不同。它們通常懸掛在房屋右側的寶物堆之上。它們不用於戰爭，而是用於 *uniwente* 等場合。\"\n",
      "}{\n",
      "  \"comment\": \"The user requested a translation from English to Chinese (Traditional Chinese) of footnotes of Ainu chant. I will provide a translation that preserves the original meaning using modern Chinese.\",\n",
      "  \"translation\": \"請提供您想要翻譯的英文文本，我會將其翻譯成現代標準漢語（繁體中文），並盡力保持原文含義。如果原文中包含無法翻譯的術語，我會保留其原始語言。\"\n",
      "}{\n",
      "  \"comment\": \"Translation from English to Traditional Chinese, preserving the original meaning and using modern Chinese. Terms that cannot be translated are kept in the original language (English or Japanese).\",\n",
      "  \"translation\": \"請提供需要翻譯的英文文本（源自日文，是阿伊努語吟唱的腳註）。我會將其翻譯成繁體中文，保持原文含義，並使用現代中文。無法翻譯的術語將保留原始語言。\"\n",
      "}{\n",
      "  \"comment\": \"Translated from English to Traditional Chinese, keeping the original meaning and using modern Chinese. Terms that are difficult to translate are kept in the original language (English/Japanese).\",\n",
      "  \"translation\": \"katken......河烏。自古以來，牠是一種備受尊敬的鳥類，被視為非常吉祥的鳥。\"\n",
      "}{\n",
      "  \"comment\": \"Translated from English to Traditional Chinese, preserving the original meaning and using modern Chinese. Terms like 'gohei', 'kike-ush-pashui', and 'iku pashui' are retained in their original form as requested.\",\n",
      "  \"translation\": \"這是一種用*gohei*（紙垂）裝飾的飾品，用於向神靈供奉清酒。這種*kike-ush-pashui*作為人類的代表，據說會去到神靈那裡，並傳達人類想對他們說的話。沒有*gohei*的普通筷子被稱為*iku pashui*（宴會用筷子）。\"\n",
      "}{\n",
      "  \"comment\": \"Translation from English to Traditional Chinese, preserving the original meaning and using modern Chinese. Terms that cannot be translated are kept in the original language (English or Japanese).\",\n",
      "  \"translation\": \"請提供需要翻譯的英文文本（源自日文，是阿伊努語吟唱的腳註）。我會將其翻譯成繁體中文，保持原文含義，並使用現代中文。無法翻譯的術語將保留原始語言。\"\n",
      "}{\n",
      "  \"comment\": \"The user requested a translation from English to Chinese (Traditional Chinese) of footnotes of Ainu chant. I will provide a translation that preserves the original meaning using modern Chinese.\",\n",
      "  \"translation\": \"請提供您想要翻譯的英文文本，我會將其翻譯成現代標準漢語（繁體中文），並盡力保持原文含義。如果原文中包含無法翻譯的術語，我會保留其原始語言。\"\n",
      "}{\n",
      "  \"comment\": \"Translated the English text to Traditional Chinese, keeping the original meaning and using modern Chinese. 'iwan poknashir' is kept in the original language.\",\n",
      "  \"translation\": \"iwan poknashir......六層地獄。 在地底下有六層，各種惡魔居住在那裡。\"\n",
      "}{\n",
      "  \"comment\": \"Translated from English to Traditional Chinese, keeping the original meaning and using modern Chinese. Terms that cannot be translated are kept in the original language.\",\n",
      "  \"translation\": \"(1) achikara...... \\\"kitanai\\\" [dirty/骯髒]. 包含奇怪、冒昧等含義。\\n\\n在這個故事中，Okikirmui 的父親和 pon nitnekamui 的父親過去曾發生過非常激烈的戰爭，所以這個 pon okikirmui 和 pon nitnekamui 是敵人。他們父母之間戰爭的細節在另一個故事中有詳細描述。\"\n",
      "}{\n",
      "  \"comment\": \"Translation from English to Traditional Chinese, maintaining original meaning and using modern Chinese. Terms that cannot be translated are kept in the original language.\",\n",
      "  \"translation\": \"(1) kinatantuka...... 一捆香蒲。香蒲被編織成墊子和其他覆蓋物，但如果試圖在它們完全乾燥時編織，效果不佳。因此，在使用前會稍微潤濕。在這個故事中，這位女子可能正將它們帶到河邊以達到這個目的。\\n\\n(2) i-okapushpa。人們非常不喜歡說已故父母或親戚的名字，甚至在日常談話中談論他們，這被稱為 *i-okapushpa*。此外，挖掘人們隱藏的東西並告訴大家，或提出讓人難以聽到的過去行為，尤其是在他們面前，也被稱為 *i-okapushpa*。\\n\\n(3) nimakitara...... 露出獠牙。 這裡指的是狗。 當人們去山裡打獵時，他們會帶狗，而被一隻露出牙齒的狗攻擊是最可怕的事情。 因此，他們出於恐懼而給狗起這種名字。\"\n",
      "}"
     ]
    }
   ],
   "source": [
    "# process the translation in batch mode\n",
    "\n",
    "for song_no in range(start_at, end_at + 1):\n",
    "\n",
    "    md_name_part = get_output_file_name_key(ainu_titles[song_no - 1])\n",
    "\n",
    "    with open(f\"Initial_LLM_prompts_and_translations_footnotes/English_Translation_JSON/{song_no}_{md_name_part}.json\", \"r\", encoding=\"utf8\") as f:\n",
    "        data_dict = json.load(f)\n",
    "\n",
    "        poetic_translation = generate(client,generate_content_config,model,input_text=data_dict['english_translation'],prompt=translation_prompt)\n",
    "\n",
    "        poetic_translation_dict = json.loads(poetic_translation)\n",
    "\n",
    "        #descriptive_translation = generate(client,generate_content_config,model,input_text=japanese_story,prompt=descriptive_translation_prompt)\n",
    "\n",
    "        md_output = md_template.format(translated_language=\"Chinese\", original_language=\"English\", ainu_title=ainu_titles[song_no - 1],\n",
    "                                poetic_prompt=translation_prompt,\n",
    "                                japanese_title=japanese_titles[song_no],\n",
    "                                input_text = data_dict['english_translation'],\n",
    "                                output_poetic=poetic_translation_dict['translation'])\n",
    "\n",
    "        data_dict['chinese_translation'] = poetic_translation_dict['translation']\n",
    "        data_dict['comment'] = poetic_translation_dict['comment']\n",
    "        #data_dict['japanese_translation'] = data_dict['input_text']\n",
    "        #del data_dict['input_text']\n",
    "\n",
    "        with open(f\"cross_lingual_LLM_prompts_and_translations_footnotes/Chinese_Translation_JSON/{song_no}_{md_name_part}.json\", \"w\", encoding=\"utf8\") as f:\n",
    "            json.dump(data_dict, f, ensure_ascii=False, indent=4)\n",
    "\n",
    "        with open(f\"cross_lingual_LLM_prompts_and_translations_footnotes/Chinese_Translation/{song_no}_{md_name_part}_to_Chinese.md\", \"w\", encoding=\"utf8\") as f:\n",
    "            f.write(md_output)\n",
    "\n"
   ]
  },
  {
   "cell_type": "code",
   "execution_count": null,
   "metadata": {},
   "outputs": [],
   "source": []
  },
  {
   "cell_type": "code",
   "execution_count": null,
   "metadata": {},
   "outputs": [],
   "source": []
  },
  {
   "cell_type": "code",
   "execution_count": null,
   "metadata": {},
   "outputs": [],
   "source": []
  }
 ],
 "metadata": {
  "kernelspec": {
   "display_name": "llama",
   "language": "python",
   "name": "python3"
  },
  "language_info": {
   "codemirror_mode": {
    "name": "ipython",
    "version": 3
   },
   "file_extension": ".py",
   "mimetype": "text/x-python",
   "name": "python",
   "nbconvert_exporter": "python",
   "pygments_lexer": "ipython3",
   "version": "3.11.11"
  }
 },
 "nbformat": 4,
 "nbformat_minor": 2
}
