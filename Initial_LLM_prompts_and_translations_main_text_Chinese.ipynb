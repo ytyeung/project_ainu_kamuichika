{
 "cells": [
  {
   "cell_type": "code",
   "execution_count": 216,
   "metadata": {},
   "outputs": [],
   "source": [
    "from google import genai\n",
    "from google.genai import types\n",
    "import base64\n",
    "import json\n",
    "import os\n",
    "from dotenv import load_dotenv\n",
    "\n",
    "from pydantic import BaseModel, Field\n",
    "\n",
    "import unicodedata\n",
    "import re"
   ]
  },
  {
   "cell_type": "code",
   "execution_count": 217,
   "metadata": {},
   "outputs": [],
   "source": [
    "load_dotenv()\n",
    "project_name = os.getenv('PROJECT_NAME')"
   ]
  },
  {
   "cell_type": "markdown",
   "metadata": {},
   "source": [
    "The story id, from 1 to 13 according to the 13 Ainu Kamuy Yukars translated by Chiri Yukie. The Yukar ID starts at 1. Chiri's Preface is 0."
   ]
  },
  {
   "cell_type": "code",
   "execution_count": 218,
   "metadata": {},
   "outputs": [],
   "source": [
    "start_at = 8\n",
    "end_at = 8"
   ]
  },
  {
   "cell_type": "code",
   "execution_count": 219,
   "metadata": {},
   "outputs": [],
   "source": [
    "class Translation(BaseModel):\n",
    "    \"\"\"The translation, and the comments\"\"\"\n",
    "    translation: str = Field(description=\"The translation\")\n",
    "    comment: str = Field(description=\"Comments on the translation\")"
   ]
  },
  {
   "cell_type": "code",
   "execution_count": 220,
   "metadata": {},
   "outputs": [],
   "source": [
    "system_instruction_prompt = \"\"\"You are a professional translator. You know Japanese, English and Chinese. You can translate Japanese into either Chinese or English.\"\"\"\n",
    "\n",
    "client = genai.Client(\n",
    "      vertexai=True,\n",
    "      project=project_name,\n",
    "      location=\"us-central1\",\n",
    ")\n",
    "\n",
    "model = \"gemini-2.0-flash-001\"\n",
    "\n",
    "generate_content_config = types.GenerateContentConfig(\n",
    "    temperature = 0,\n",
    "    top_p = 0,\n",
    "    max_output_tokens = 8192,\n",
    "    response_mime_type = 'application/json',\n",
    "    response_schema = Translation,\n",
    "    safety_settings = [types.SafetySetting(\n",
    "      category=\"HARM_CATEGORY_HATE_SPEECH\",\n",
    "      threshold=\"OFF\"\n",
    "    ),types.SafetySetting(\n",
    "      category=\"HARM_CATEGORY_DANGEROUS_CONTENT\",\n",
    "      threshold=\"OFF\"\n",
    "    ),types.SafetySetting(\n",
    "      category=\"HARM_CATEGORY_SEXUALLY_EXPLICIT\",\n",
    "      threshold=\"OFF\"\n",
    "    ),types.SafetySetting(\n",
    "      category=\"HARM_CATEGORY_HARASSMENT\",\n",
    "      threshold=\"OFF\"\n",
    "    )],\n",
    "    system_instruction=[types.Part.from_text(text=system_instruction_prompt)],\n",
    "  )"
   ]
  },
  {
   "cell_type": "code",
   "execution_count": 221,
   "metadata": {},
   "outputs": [],
   "source": [
    "poetic_translation_prompt = \"\"\"Translate the following text from Japanese to Chinese. The original text is a Japanese translation of a Ainu chant, sung by Ainu god telling his story. \n",
    "Use story-telling and poetic tone. Keep the original Japanese meaning accurately. Use modern Chinese. Display in Traditional Chinese.\n",
    "If a term cannot be translated, keep the original language.\"\"\"\n",
    "\n",
    "#descriptive_translation_prompt = \"Translate the following text from Japanese to Chinese. Keep the original meanings. Display in Traditional Chinese.\""
   ]
  },
  {
   "cell_type": "code",
   "execution_count": 222,
   "metadata": {},
   "outputs": [],
   "source": [
    "# read the content page of Japanese translation and get the Japanese translated title\n",
    "with open(\"Chiri_Japanese_Translation/content.txt\", \"r\", encoding=\"utf8\") as f:\n",
    "    japanese_content = f.read()\n",
    "    japanese_content = unicodedata.normalize('NFKC', japanese_content)\n",
    "\n",
    "\n",
    "s=re.split(r'\\n\\n', japanese_content)\n",
    "japanese_titles = re.split(r'\\n', s[1])"
   ]
  },
  {
   "cell_type": "code",
   "execution_count": 223,
   "metadata": {},
   "outputs": [],
   "source": [
    "# read the content page of Ainu original text and get the original title\n",
    "with open(\"original_Ainu_text/content.txt\", \"r\", encoding=\"utf8\") as f:\n",
    "    ainu_content = f.read()\n",
    "    ainu_content = unicodedata.normalize('NFKC', ainu_content)\n",
    "\n",
    "\n",
    "s=re.split(r'\\n\\n', ainu_content)\n",
    "ainu_titles = re.split(r'\\n', s[1])"
   ]
  },
  {
   "cell_type": "code",
   "execution_count": 224,
   "metadata": {},
   "outputs": [],
   "source": [
    "# Read the markdown template for writing the Chinese translations to Markdown file\n",
    "\n",
    "#read in the template\n",
    "with open(\"templates/raw_output_md_template_v2\", \"r\", encoding=\"utf8\") as f:\n",
    "    md_template = f.read()\n",
    "    md_template = unicodedata.normalize('NFKC', md_template)"
   ]
  },
  {
   "cell_type": "code",
   "execution_count": 225,
   "metadata": {},
   "outputs": [],
   "source": [
    "def generate(client: genai.Client,generate_content_config :types.GenerateContentConfig,model :str, /,input_text :str, prompt :str):\n",
    "\n",
    "    text_full_prompt = text1 = types.Part.from_text(text=f\"{prompt}\\n\\n{input_text}\")\n",
    "\n",
    "    output = \"\"\n",
    "\n",
    "    contents = [\n",
    "      types.Content(\n",
    "        role=\"user\",\n",
    "        parts=[\n",
    "          text_full_prompt\n",
    "        ]\n",
    "      )\n",
    "    ]\n",
    "\n",
    "    for chunk in client.models.generate_content_stream(\n",
    "        model = model,\n",
    "        contents = contents,\n",
    "        config = generate_content_config,\n",
    "        ):\n",
    "        print(chunk.text, end=\"\")\n",
    "        output += chunk.text\n",
    "\n",
    "    return output\n",
    "\n",
    "def get_output_file_name_key(title :str):\n",
    "    # setup the output file name\n",
    "    s = title.split()\n",
    "    md_name_part = s[0]\n",
    "\n",
    "    name_2nd_part = \"\"\n",
    "\n",
    "    for text in s:\n",
    "        if text.startswith('“'):\n",
    "            name_2nd_part = text.replace('“', '').replace('”', '')\n",
    "        \n",
    "    md_name_part += \"_\" + name_2nd_part\n",
    "\n",
    "    return md_name_part\n",
    "\n"
   ]
  },
  {
   "cell_type": "code",
   "execution_count": 226,
   "metadata": {},
   "outputs": [
    {
     "name": "stdout",
     "output_type": "stream",
     "text": [
      "{\n",
      "  \"comment\": \"This is a translation of an Ainu chant, sung by an Ainu god telling his story. I have tried to maintain the poetic tone and storytelling style while accurately conveying the original meaning in modern, Traditional Chinese.\",\n",
      "  \"translation\": \"海神親自吟唱的歌謠「アトイカ\\nトマトマキ クントテアシ フム フム!」\\n\\nアトイカ トマトマキ クントテアシ フムフム\\n長兄，六位兄長，長姊，六位姊姊。\\n短兄，六位兄長，短姊，六位姊姊。\\n他們養育著我，而我呢？\\n在堆滿寶物之處搭建高床，於那高床之上，\\n只是靜靜地雕刻刀鞘，\\n日復一日，以此為生。\\n每日清晨，兄長們便\\n背起箭筒，與姊姊們一同出門，\\n到了傍晚，總是面帶疲色地\\n空手而歸。姊姊們明明也很疲憊，卻仍要準備餐食，為我擺上飯菜，\\n自己也用過餐後，收拾完畢，\\n兄長們便又忙碌地製作弓箭。\\n待箭筒裝滿，大家因為疲憊不堪，\\n入睡後便發出震天鼾聲。\\n隔天，天色未亮，\\n眾人便起身，姊姊們準備餐食，為我擺上飯菜，\\n大家用過餐後，又背起箭筒，\\n出門而去。傍晚時分，又\\n面帶疲色地空手而歸，\\n姊姊們準備餐食，兄長們製作弓箭，\\n日復一日，年復一年，總是重複著相同的事情。\\n某日，兄長們和姊姊們又\\n背起箭筒，出門而去。\\n我本在雕刻寶物，不久便\\n起身站上高床，手持金弓\\n金箭，走出戶外。\\n放眼望去，大海遼闊平靜，\\n鯨魚們在海的東邊、海的西邊，\\n嬉戲玩耍。此時，\\n海的東邊，長姊和六位姊姊手牽著手，圍成一個圓圈，\\n短姊和六位姊姊，則將鯨魚趕入圈中，\\n長兄和六位兄長，短兄和六位兄長，\\n瞄準圈中的鯨魚射箭，箭矢\\n從鯨魚的下方穿過，從鯨魚的上方掠過。\\n他們每日每日，都在做著這樣的事情。\\n我看到大海中央，\\n巨大的鯨魚和牠的孩子，正在海面上上下下地\\n嬉戲玩耍，\\n便從遠處搭上金弓金箭，\\n瞄準射去，一箭\\n同時貫穿了鯨魚母子。\\n於是，我將其中一條鯨魚從中間斬斷，\\n將一半拋入姊姊們的圈中。\\n然後，將另一條半的鯨魚\\n放在尾巴下方，朝著人類的國度\\n前進，抵達オタシュツ村，\\n將那條半的鯨魚\\n推上了村莊的海灘。\\n之後，我悠然地在海面上\\n游動，返回，\\n卻聽到有人\\n氣喘吁吁地在身旁奔跑，\\n定睛一看，原來是海鷗。\\n牠上氣不接下氣地說道：\\n「トミンカリクル カムイカリクル イソヤンケクル\\n勇敢的神明啊，偉大的神明啊，\\n您為何要將如此豐厚的海產，賜予卑賤的人類，邪惡的人類呢？\\n卑賤的人類，邪惡的人類，正用斧頭\\n和鐮刀，將巨大的海產切割、戳刺、\\n削刮！勇敢的神明，\\n偉大的神明啊，快將大海產\\n收回去吧！您賜予他們如此多的海產，\\n卑賤的人類，邪惡的人類卻\\n不知感恩，竟做出這樣的事情！」\\n聽了牠的話，我笑著說道：\\n「我既然已經將海產賜予人類，\\n現在就是他們的東西了，人類\\n要用鐮刀戳刺，還是用斧頭\\n削刮，都隨他們的便，\\n他們想怎麼吃就怎麼吃，\\n那又如何呢？」\\n海鷗聽了，雖然有些不知所措，\\n我卻毫不在意，繼續在海面上\\n悠然地游動，\\n眼看太陽就要下山，我回到了自己的海域。\\n只見\\n十二位兄長，十二位\\n姊姊，正為了搬運那半條鯨魚而\\n精疲力竭，大家一起高聲呼喊，\\n卻還在海的東邊，慢吞吞地搬運著。\\n我實在是感到無語。\\n我沒有理會他們，直接回到\\n家中，在高床上坐下。\\n於是我回頭望向人類的世界，\\n只見我推上海灘的那條\\n半的鯨魚周圍，聚集著盛裝打扮的\\n體面的男人和\\n體面的女人，他們歡欣鼓舞地\\n慶祝海產，在後方的沙丘\\n上，鋪著華麗的地毯，\\nオタシュツ村的村長\\n身穿六件和服，束緊腰帶，\\n頭戴華麗的神之冠冕，祖先的冠冕，\\n腰佩神授之劍，\\n以神祇般莊嚴美麗的姿態，高舉雙手，\\n進行禮拜。人類們喜極而泣，\\n慶祝海產。\\n海鷗說人類\\n用斧頭和鐮刀戳刺我推上海灘的鯨魚，\\n但事實上，\\n村長和\\n村民們，正取出\\n自古以來被視為最珍貴寶物的神劍，\\n用它來切割鯨魚肉，並將其搬運。\\n而且，我的兄長們和姊姊們，似乎也沒有要回來的\\n跡象。\\n過了兩三天，我看到窗戶邊\\n好像有什麼東西，於是我\\n轉頭望去，只見窗戶上\\n放著一個裝滿\\n美酒的金杯，杯上\\n橫放著裝飾著御幣的酒箸，\\n使者來回走動，口中唸唸有詞地說道：\\n「我是オタシュツ村的人，\\n雖然冒昧，但還是要獻上美酒。」\\nオタシュツ村的村長代表\\n全體村民，詳細地向我表達謝意，\\n並說道：\\n「トミンカリクル カムイカリクル イソヤンケクル\\n如果不是偉大的神明，勇敢的神明，\\n又會有誰，在我們的村莊遭受饑荒，\\n已經到了走投無路的地步時，憐憫我們呢？\\n您賜予我們村莊生命，\\n實在是太感謝您了！我們歡慶海產，\\n製作了些許美酒，\\n並附上小小的幣束，\\n向大神您表達謝意。」\\n裝飾著御幣的酒箸來回走動，如此陳述。\\n於是我起身，拿起\\n金杯，高舉過頭，\\n打開上方座位的六個酒桶的蓋子，\\n將美酒一點一點地倒入\\n金杯中，再將金杯放到窗戶上。\\n做完這些，我便在高床上坐下，\\n只見那金杯和酒箸，已經\\n消失不見了。之後，我繼續雕刻刀鞘，\\n雕琢刀鞘，不知不覺地\\n抬起頭來，\\n只見屋內擺滿了美麗的幣束，\\n屋內白雲繚繞，白色的閃電\\n閃爍著光芒。我覺得真是太美了。\\n又過了兩三天，\\n這時，我終於聽到\\n家門外，兄長們和\\n姊姊們高聲呼喊著，拉著那條鯨魚回來了。我感到非常驚訝。\\n我望著他們進入屋內的樣子，\\n只見兄長們和姊姊們\\n非常疲憊，臉色也憔悴不堪。\\n大家進入屋內，看到這麼多的幣束，\\n驚訝地反覆膜拜。\\n不久，東邊座位的六個酒桶\\n都滿溢出來，神明喜愛的美\\n酒香氣在屋內瀰漫。\\n之後，我用美麗的幣束裝飾屋內，\\n邀請遠方的神明，近鄰的神明，\\n舉辦盛大的酒宴。姊姊們\\n烹煮鯨魚肉，獻給神明們，\\n神明們都讚不絕口，非常高興。\\n宴會正酣時，我起身，\\n詳細地講述了人間世界遭受饑荒，\\n我憐憫他們，將海產推上海灘的經過，\\n以及我善待人類，卻遭到邪惡神明的\\n嫉妒，海鷗中傷我的事情，\\n還有オタシュツ村的\\n村長以如此這般的言語向我表達謝意，\\n裝飾著幣束的酒箸前來擔任使者等等。\\n神明們聽了，\\n一致點頭稱是，\\n讚揚我。\\n之後，我又舉辦了盛大的宴會，\\n神明們的\\n舞蹈聲，歌唱聲，\\n交織成美妙的樂章，姊姊們\\n手持提壺，在席間斟酒，\\n有的則與女神們\\n一同高歌。\\n過了兩三天，宴會結束。\\n我將兩三個美麗的幣束\\n贈送給神明們，神明們彎下腰，\\n反覆行禮，\\n各自返回自己的家。\\n在那之後，總是和長兄，六位兄長，\\n長姊，六位姊姊，短姊，六位姊姊，\\n短兄，六位兄長在一起，\\n人類們每次釀酒，\\n都會送酒給我，並送來幣束。\\n現在，人類們已經沒有食物不足的\\n困擾，過著平穩的\\n生活，我也感到安心了。\"\n",
      "}"
     ]
    }
   ],
   "source": [
    "# process the translation in batch mode\n",
    "\n",
    "for song_no in range(start_at, end_at + 1):\n",
    "    with open(f\"Chiri_Japanese_Translation/story_translation_{song_no}.txt\", \"r\", encoding=\"utf8\") as f:\n",
    "        japanese_story = f.read()\n",
    "        japanese_story = unicodedata.normalize('NFKC', japanese_story)\n",
    "\n",
    "        poetic_translation = generate(client,generate_content_config,model,input_text=japanese_story,prompt=poetic_translation_prompt)\n",
    "\n",
    "        poetic_translation_dict = json.loads(poetic_translation)\n",
    "\n",
    "        #descriptive_translation = generate(client,generate_content_config,model,input_text=japanese_story,prompt=descriptive_translation_prompt)\n",
    "\n",
    "        md_output = md_template.format(translated_language=\"Chinese\", ainu_title=ainu_titles[song_no - 1],\n",
    "                               poetic_prompt=poetic_translation_prompt,\n",
    "                               japanese_title=japanese_titles[song_no], input_japanese = japanese_story,\n",
    "                               output_poetic=poetic_translation_dict['translation'])\n",
    "        \n",
    "        md_name_part = get_output_file_name_key(ainu_titles[song_no - 1])\n",
    "\n",
    "        data_dict = dict(ainu_title=ainu_titles[song_no - 1], japanese_title=japanese_titles[song_no], \n",
    "                         input_text = japanese_story, chinese_translation=poetic_translation_dict['translation'])\n",
    "\n",
    "        with open(f\"Initial_LLM_prompts_and_translations_main_text/Chinese_Translation_JSON/{song_no}_{md_name_part}.json\", \"w\", encoding=\"utf8\") as f:\n",
    "            json.dump(data_dict, f, ensure_ascii=False, indent=4)\n",
    "\n",
    "        with open(f\"Initial_LLM_prompts_and_translations_main_text/Chinese_Translation/{song_no}_{md_name_part}_to_Chinese.md\", \"w\", encoding=\"utf8\") as f:\n",
    "            f.write(md_output)\n",
    "\n"
   ]
  },
  {
   "cell_type": "code",
   "execution_count": null,
   "metadata": {},
   "outputs": [],
   "source": []
  },
  {
   "cell_type": "code",
   "execution_count": null,
   "metadata": {},
   "outputs": [],
   "source": []
  },
  {
   "cell_type": "code",
   "execution_count": null,
   "metadata": {},
   "outputs": [],
   "source": []
  }
 ],
 "metadata": {
  "kernelspec": {
   "display_name": "llama",
   "language": "python",
   "name": "python3"
  },
  "language_info": {
   "codemirror_mode": {
    "name": "ipython",
    "version": 3
   },
   "file_extension": ".py",
   "mimetype": "text/x-python",
   "name": "python",
   "nbconvert_exporter": "python",
   "pygments_lexer": "ipython3",
   "version": "3.11.11"
  }
 },
 "nbformat": 4,
 "nbformat_minor": 2
}
