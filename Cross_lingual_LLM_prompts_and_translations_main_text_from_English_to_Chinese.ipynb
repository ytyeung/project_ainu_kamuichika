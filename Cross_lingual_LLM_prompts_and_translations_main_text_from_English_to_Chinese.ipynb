{
 "cells": [
  {
   "cell_type": "code",
   "execution_count": 78,
   "metadata": {},
   "outputs": [],
   "source": [
    "from google import genai\n",
    "from google.genai import types\n",
    "import base64\n",
    "import json\n",
    "import os\n",
    "from dotenv import load_dotenv\n",
    "\n",
    "from pydantic import BaseModel, Field\n",
    "\n",
    "import unicodedata\n",
    "import re"
   ]
  },
  {
   "cell_type": "code",
   "execution_count": 79,
   "metadata": {},
   "outputs": [],
   "source": [
    "load_dotenv()\n",
    "project_name = os.getenv('PROJECT_NAME')"
   ]
  },
  {
   "cell_type": "markdown",
   "metadata": {},
   "source": [
    "The story id, from 1 to 13 according to the 13 Ainu Kamuy Yukars translated by Chiri Yukie. The Yukar ID starts at 1. Chiri's Preface is 0."
   ]
  },
  {
   "cell_type": "code",
   "execution_count": null,
   "metadata": {},
   "outputs": [],
   "source": [
    "start_at = 4\n",
    "end_at = 4"
   ]
  },
  {
   "cell_type": "code",
   "execution_count": 81,
   "metadata": {},
   "outputs": [],
   "source": [
    "class Translation(BaseModel):\n",
    "    \"\"\"The translation, and the comments\"\"\"\n",
    "    translation: str = Field(description=\"The translation\")\n",
    "    comment: str = Field(description=\"Comments on the translation\")"
   ]
  },
  {
   "cell_type": "code",
   "execution_count": 82,
   "metadata": {},
   "outputs": [],
   "source": [
    "system_instruction_prompt = \"\"\"You are a professional translator. You know Japanese, English and Chinese. You can translate Japanese into either Chinese or English. You can also translate Chinese into English, and English into Chinese.\"\"\"\n",
    "\n",
    "client = genai.Client(\n",
    "      vertexai=True,\n",
    "      project=project_name,\n",
    "      location=\"us-central1\",\n",
    ")\n",
    "\n",
    "model = \"gemini-2.0-flash-001\"\n",
    "\n",
    "generate_content_config = types.GenerateContentConfig(\n",
    "    temperature = 0,\n",
    "    top_p = 0,\n",
    "    max_output_tokens = 8192,\n",
    "    response_mime_type = 'application/json',\n",
    "    response_schema = Translation,\n",
    "    safety_settings = [types.SafetySetting(\n",
    "      category=\"HARM_CATEGORY_HATE_SPEECH\",\n",
    "      threshold=\"OFF\"\n",
    "    ),types.SafetySetting(\n",
    "      category=\"HARM_CATEGORY_DANGEROUS_CONTENT\",\n",
    "      threshold=\"OFF\"\n",
    "    ),types.SafetySetting(\n",
    "      category=\"HARM_CATEGORY_SEXUALLY_EXPLICIT\",\n",
    "      threshold=\"OFF\"\n",
    "    ),types.SafetySetting(\n",
    "      category=\"HARM_CATEGORY_HARASSMENT\",\n",
    "      threshold=\"OFF\"\n",
    "    )],\n",
    "    system_instruction=[types.Part.from_text(text=system_instruction_prompt)],\n",
    "  )"
   ]
  },
  {
   "cell_type": "code",
   "execution_count": 83,
   "metadata": {},
   "outputs": [],
   "source": [
    "translation_prompt = \"\"\"Translate the following text from English to Chinese. The original text is translation from Japanese which is a Japanese translation of a Ainu chant, sung by Ainu god telling his story. \n",
    "Use story-telling and poetic tone. Keep the original meaning. Use modern Chinese. Display in Traditional Chinese. Only allow Chinese and English characters.\n",
    "If a term cannot be translated, keep the original language.\"\"\"\n",
    "\n",
    "#descriptive_translation_prompt = \"Translate the following text from Japanese to Chinese. Keep the original meanings. Display in Traditional Chinese.\""
   ]
  },
  {
   "cell_type": "code",
   "execution_count": 84,
   "metadata": {},
   "outputs": [],
   "source": [
    "# read the content page of Japanese translation and get the Japanese translated title\n",
    "with open(\"Chiri_Japanese_Translation/content.txt\", \"r\", encoding=\"utf8\") as f:\n",
    "    japanese_content = f.read()\n",
    "    japanese_content = unicodedata.normalize('NFKC', japanese_content)\n",
    "\n",
    "\n",
    "s=re.split(r'\\n\\n', japanese_content)\n",
    "japanese_titles = re.split(r'\\n', s[1])"
   ]
  },
  {
   "cell_type": "code",
   "execution_count": 85,
   "metadata": {},
   "outputs": [],
   "source": [
    "# read the content page of Ainu original text and get the original title\n",
    "with open(\"original_Ainu_text/content.txt\", \"r\", encoding=\"utf8\") as f:\n",
    "    ainu_content = f.read()\n",
    "    ainu_content = unicodedata.normalize('NFKC', ainu_content)\n",
    "\n",
    "\n",
    "s=re.split(r'\\n\\n', ainu_content)\n",
    "ainu_titles = re.split(r'\\n', s[1])"
   ]
  },
  {
   "cell_type": "code",
   "execution_count": 86,
   "metadata": {},
   "outputs": [],
   "source": [
    "# Read the markdown template for writing the Chinese translations to Markdown file\n",
    "\n",
    "#read in the template\n",
    "with open(\"templates/raw_output_md_template_cross_lingual\", \"r\", encoding=\"utf8\") as f:\n",
    "    md_template = f.read()\n",
    "    md_template = unicodedata.normalize('NFKC', md_template)"
   ]
  },
  {
   "cell_type": "code",
   "execution_count": 87,
   "metadata": {},
   "outputs": [],
   "source": [
    "def generate(client: genai.Client,generate_content_config :types.GenerateContentConfig,model :str, /,input_text :str, prompt :str):\n",
    "\n",
    "    text_full_prompt = text1 = types.Part.from_text(text=f\"{prompt}\\n\\n{input_text}\")\n",
    "\n",
    "    output = \"\"\n",
    "\n",
    "    contents = [\n",
    "      types.Content(\n",
    "        role=\"user\",\n",
    "        parts=[\n",
    "          text_full_prompt\n",
    "        ]\n",
    "      )\n",
    "    ]\n",
    "\n",
    "    for chunk in client.models.generate_content_stream(\n",
    "        model = model,\n",
    "        contents = contents,\n",
    "        config = generate_content_config,\n",
    "        ):\n",
    "        print(chunk.text, end=\"\")\n",
    "        output += chunk.text\n",
    "\n",
    "    return output\n",
    "\n",
    "def get_output_file_name_key(title :str):\n",
    "    # setup the output file name\n",
    "    s = title.split()\n",
    "    md_name_part = s[0]\n",
    "\n",
    "    name_2nd_part = \"\"\n",
    "\n",
    "    for text in s:\n",
    "        if text.startswith('“'):\n",
    "            name_2nd_part = text.replace('“', '').replace('”', '')\n",
    "        \n",
    "    md_name_part += \"_\" + name_2nd_part\n",
    "\n",
    "    return md_name_part\n",
    "\n"
   ]
  },
  {
   "cell_type": "code",
   "execution_count": 88,
   "metadata": {},
   "outputs": [
    {
     "name": "stdout",
     "output_type": "stream",
     "text": [
      "{\n",
      "  \"comment\": \"Translated from English to Chinese (Traditional). The translation aims to capture the poetic and storytelling tone of the original text, while maintaining accuracy and readability in modern Chinese.\",\n",
      "  \"translation\": \"貓頭鷹神之歌：\\n「銀色的露珠落下，落在我身旁。」\\n\\n我唱著歌，「銀色的露珠落下，落在我身旁，金色的露珠落下，落在我身旁，」沿著河流降落，經過一個人類的村莊。我向下看去，看見曾經貧窮的人變得富有，曾經富有的人變得貧窮。\\n\\n孩子們在海灘上玩著玩具弓箭。當我經過他們頭頂，唱著，「銀色的露珠落下，落在我身旁，金色的露珠落下，落在我身旁，」他們在我身下奔跑，呼喊著：\\n\\n「一隻美麗的鳥！是神明的鳥！快，射下來！誰先射中神明的鳥，誰就是真正的英雄，真正的強者！」\\n\\n新富人家的孩子們，用金色的弓和金色的箭，瞄準我。我躲避著他們的金色箭矢，忽上忽下地飛翔。在他們之中，有一個孩子與眾不同，他拿著簡單的木弓和木箭。我看得出他很貧窮，甚至從他的衣著就能看出來。然而，在他的眼中，我看到了偉大的血統，一種與眾不同的精神。他也用他那簡陋的弓箭瞄準我。\\n\\n新富人家的孩子們嘲笑著說：「多麼愚蠢啊，窮孩子！這隻鳥，這隻神明的鳥，甚至不會注意到我們的金色箭矢。牠怎麼會在意你那根腐朽的木箭呢？」\\n\\n他們踢打、推搡那個窮孩子，但他毫不在意，專注地看著我。看到這一幕，我感到深深的憐憫。\\n\\n唱著，「銀色的露珠落下，落在我身旁，金色的露珠落下，落在我身旁，」我在天空中緩慢地盤旋。那個窮孩子一腳在前，一腳在後，咬著嘴唇，全神貫注，然後鬆開了他的箭。那支小小的箭優美地飛向我，我伸出手，抓住了它。\\n\\n旋轉著，我在風中起舞，然後降落。孩子們競相奔跑，揚起陣陣塵土。當我落在地上時，那個窮孩子第一個跑到我身邊，將我捧在手中。\\n\\n新富人家的孩子們跑了過來，用侮辱的言語淹沒他，推打著他。「可惡的孩子，窮孩子！你竟然敢搶先拿走我們想要的東西！」那個窮孩子用身體保護著我，緊緊地將我抱在胸前。\\n\\n掙扎著，他終於掙脫了束縛，跑了起來，新富人家的孩子們在他身後扔石頭和木頭。他沒有退縮，穿過塵土，跑到一間小茅屋前。他將我從第一個窗戶塞了進去，講述了剛才發生的事情。\\n\\n從屋裡走出一對老夫婦，用手遮擋著眼睛。雖然他們很貧窮，但他們舉止優雅，像一對紳士和淑女。看到我，他們驚訝地深深鞠躬。老爺爺整理了一下腰帶，向我祈禱。\\n\\n「貓頭鷹神，偉大的神，感謝您光臨我們簡陋的家。我們曾經也算是富有，但現在我們很貧窮。很榮幸能接待您，但夜幕已經降臨，我們只能為您提供今晚的庇護。明天，我們將用inaw送您離開，雖然這還遠遠不夠。」\\n\\n他重複祈禱了很多遍。老奶奶在東窗下鋪了一張草蓆，把我放在那裡。很快，他們都睡著了，發出響亮的鼾聲。\\n\\n我坐在我的耳朵之間，在我的頭頂上，在午夜時分醒來。輕輕地唱著，「銀色的露珠落下，落在我身旁，金色的露珠落下，落在我身旁，」我從房子的左側飛到右側，發出美妙的聲音。\\n\\n當我拍打翅膀時，美麗的寶藏，神明的寶藏，伴隨著悅耳的聲音落在我身旁。一瞬間，我用華麗的寶藏，神明的寶藏，填滿了這間小小的房子。\\n\\n唱著，「銀色的露珠落下，落在我身旁，金色的露珠落下，落在我身旁，」我將這間小房子變成了一座金色的房子，一座宏偉的豪宅。我創造了一個儲藏著華麗寶藏的倉庫，並用美麗的、新做的衣服裝飾了房子。\\n\\n我將這座宏偉的豪宅裝飾得比富人的家還要華麗。完成後，我回到了我原來的位置，在我的耳朵之間，在我的頭頂上。\\n\\n我向這家人展示了一個夢，揭示了我看到Ainu nishpa，不幸而貧窮，被新富人嘲笑和欺負。我憐憫他，雖然我不是地位很高的神，但我還是留在了他們人類的家中，並賜予他們祝福。\\n\\n黎明臨近時，這家人一起醒來。揉著眼睛，他們環顧四周，驚呆了。老奶奶驚叫起來，老爺爺流下了大滴眼淚。最後，老爺爺站起身，走到我面前，獻上許多祈禱。他說：\\n\\n「我們以為這只是一個夢，但這是真的！偉大的神，您光臨我們簡陋的家，已經是我們的榮幸了。您憐憫我們的不幸，並賜予我們最大的祝福！」他哽咽著說。\\n\\n然後，老爺爺砍下inaw木，製作出美麗的inaw來裝飾我。老奶奶準備好自己，讓年輕的孩子幫她收集柴火和水，準備釀造清酒。一瞬間，六個清酒桶排列在尊貴的位置上。\\n\\n我與火之老婦，古老的女​​神，以及其他各種神靈交談。\\n\\n兩天后，清酒的香味瀰漫在屋子裡，這是神靈們最喜歡的味道。孩子穿著舊衣服，被派去邀請村裡的新富人。當他們看著他離開時，孩子走進每家每戶，傳達了這個消息。\\n\\n新富人們嘲笑著說：「多麼奇怪！窮人能提供什麼樣的清酒和盛宴呢？我們去看看發生了什麼事，嘲笑一番吧！」\\n\\n他們一大群人走了過來，但有些人看到這座房子的景象，感到震驚和羞愧，便轉身回去了。另一些人來到房子前面，驚呆了，動彈不得。\\n\\n房子的女主人走出來，握住他們每個人的手，邀請他們進去。他們爬了進去，抬不起頭。\\n\\n房子的主人站起身來，用像杜鵑鳥一樣美妙的聲音說話。他告訴他們這個故事，說：「我們很窮，無法互相交往，但偉大的神憐憫了我們。我們沒有惡意，所以我們得到了這些祝福。從今以後，我們都是這個村莊的家人，我希望我們都能成為朋友，互相拜訪。」\\n\\n人們反覆合攏雙手，向房子的主人道歉，承諾從今以後成為朋友。他們也向我祈禱。\\n\\n他們的心軟化了，開始了一場盛大的宴會。我觀看著人類跳舞和唱歌，與火神、家神和祭壇之神交談，我感到非常高興。兩三天后，宴會結束了。\\n\\n看到人類和諧地生活在一起，我感到很安心。我向火神、家神和祭壇之神告別。然後，我回到了我的家。\\n\\n在我到達之前，我的房子裡擺滿了美麗的御幣和上好的清酒。我派使者到遠近的神靈那裡，邀請他們參加盛大的宴會。在宴會上，我告訴神靈們我訪問人類村莊的經歷以及發生的事情。神靈們對我讚不絕口。\\n\\n當神靈們離開時，我給了他們每人兩三個美麗的御幣。\\n\\n望向Ainu村莊，我看到現在很和平，人類都是朋友。 nishpa現在是村莊的負責人。\\n\\n他的孩子已經長大成人，有了妻子和孩子，並且孝順父母。每當他們釀造清酒時，他們都會在宴會開始時將御幣和清酒送到我這裡。\\n\\n我坐在人類的身後，永遠保護著人類的土地。\\n\\n就這樣，貓頭鷹神講述了他的故事。\"\n",
      "}"
     ]
    }
   ],
   "source": [
    "# process the translation in batch mode\n",
    "\n",
    "for song_no in range(start_at, end_at + 1):\n",
    "\n",
    "    md_name_part = get_output_file_name_key(ainu_titles[song_no - 1])\n",
    "\n",
    "    with open(f\"Initial_LLM_prompts_and_translations_main_text/English_Translation_JSON/{song_no}_{md_name_part}.json\", \"r\", encoding=\"utf8\") as f:\n",
    "        data_dict = json.load(f)\n",
    "\n",
    "        poetic_translation = generate(client,generate_content_config,model,input_text=data_dict['english_translation'],prompt=translation_prompt)\n",
    "\n",
    "        poetic_translation_dict = json.loads(poetic_translation)\n",
    "\n",
    "        #descriptive_translation = generate(client,generate_content_config,model,input_text=japanese_story,prompt=descriptive_translation_prompt)\n",
    "\n",
    "        md_output = md_template.format(translated_language=\"Chinese\", original_language=\"English\", ainu_title=ainu_titles[song_no - 1],\n",
    "                                poetic_prompt=poetic_translation_prompt,\n",
    "                                japanese_title=japanese_titles[song_no],\n",
    "                                input_text = data_dict['english_translation'],\n",
    "                                output_poetic=poetic_translation_dict['translation'])\n",
    "\n",
    "        data_dict['chinese_translation'] = poetic_translation_dict['translation']\n",
    "        data_dict['comment'] = poetic_translation_dict['comment']\n",
    "        data_dict['japanese_translation'] = data_dict['input_text']\n",
    "        del data_dict['input_text']\n",
    "\n",
    "        with open(f\"cross_lingual_LLM_prompts_and_translations_main_text/Chinese_Translation_JSON/{song_no}_{md_name_part}.json\", \"w\", encoding=\"utf8\") as f:\n",
    "            json.dump(data_dict, f, ensure_ascii=False, indent=4)\n",
    "\n",
    "        with open(f\"cross_lingual_LLM_prompts_and_translations_main_text/Chinese_Translation/{song_no}_{md_name_part}_to_Chinese.md\", \"w\", encoding=\"utf8\") as f:\n",
    "            f.write(md_output)\n",
    "\n"
   ]
  },
  {
   "cell_type": "code",
   "execution_count": null,
   "metadata": {},
   "outputs": [],
   "source": []
  },
  {
   "cell_type": "code",
   "execution_count": null,
   "metadata": {},
   "outputs": [],
   "source": []
  },
  {
   "cell_type": "code",
   "execution_count": null,
   "metadata": {},
   "outputs": [],
   "source": []
  }
 ],
 "metadata": {
  "kernelspec": {
   "display_name": "llama",
   "language": "python",
   "name": "python3"
  },
  "language_info": {
   "codemirror_mode": {
    "name": "ipython",
    "version": 3
   },
   "file_extension": ".py",
   "mimetype": "text/x-python",
   "name": "python",
   "nbconvert_exporter": "python",
   "pygments_lexer": "ipython3",
   "version": "3.11.11"
  }
 },
 "nbformat": 4,
 "nbformat_minor": 2
}
