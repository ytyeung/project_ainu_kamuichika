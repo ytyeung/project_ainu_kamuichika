{
 "cells": [
  {
   "cell_type": "code",
   "execution_count": 29,
   "metadata": {},
   "outputs": [],
   "source": [
    "from google import genai\n",
    "from google.genai import types\n",
    "import base64\n",
    "import json\n",
    "import os\n",
    "from dotenv import load_dotenv\n",
    "\n",
    "import unicodedata\n",
    "import re"
   ]
  },
  {
   "cell_type": "code",
   "execution_count": 30,
   "metadata": {},
   "outputs": [],
   "source": [
    "load_dotenv()\n",
    "project_name = os.getenv('PROJECT_NAME')"
   ]
  },
  {
   "cell_type": "markdown",
   "metadata": {},
   "source": [
    "The story id, from 1 to 13 according to the 13 Ainu Kamuy Yukars translated by Chiri Yukie. The Yukar ID starts at 1. Chiri's Preface is 0."
   ]
  },
  {
   "cell_type": "code",
   "execution_count": null,
   "metadata": {},
   "outputs": [],
   "source": [
    "start_at = 1\n",
    "end_at = 13"
   ]
  },
  {
   "cell_type": "code",
   "execution_count": 32,
   "metadata": {},
   "outputs": [],
   "source": [
    "system_instruction_prompt = \"\"\"You are a professional translator. You know Japanese, English and Chinese. You can translate Japanese into either Chinese or English.\"\"\"\n",
    "\n",
    "client = genai.Client(\n",
    "      vertexai=True,\n",
    "      project=project_name,\n",
    "      location=\"us-central1\",\n",
    ")\n",
    "\n",
    "model = \"gemini-2.0-flash-001\"\n",
    "\n",
    "generate_content_config = types.GenerateContentConfig(\n",
    "    temperature = 0,\n",
    "    top_p = 0,\n",
    "    max_output_tokens = 8192,\n",
    "    response_modalities = [\"TEXT\"],\n",
    "    safety_settings = [types.SafetySetting(\n",
    "      category=\"HARM_CATEGORY_HATE_SPEECH\",\n",
    "      threshold=\"OFF\"\n",
    "    ),types.SafetySetting(\n",
    "      category=\"HARM_CATEGORY_DANGEROUS_CONTENT\",\n",
    "      threshold=\"OFF\"\n",
    "    ),types.SafetySetting(\n",
    "      category=\"HARM_CATEGORY_SEXUALLY_EXPLICIT\",\n",
    "      threshold=\"OFF\"\n",
    "    ),types.SafetySetting(\n",
    "      category=\"HARM_CATEGORY_HARASSMENT\",\n",
    "      threshold=\"OFF\"\n",
    "    )],\n",
    "    system_instruction=[types.Part.from_text(text=system_instruction_prompt)],\n",
    "  )"
   ]
  },
  {
   "cell_type": "code",
   "execution_count": 33,
   "metadata": {},
   "outputs": [],
   "source": [
    "translation_prompt = \"Translate the following text from Japanese to English. The original text is footnote. Keep the original meanings. For the text which are not in Japanese, keep the original form.\"\n"
   ]
  },
  {
   "cell_type": "code",
   "execution_count": 34,
   "metadata": {},
   "outputs": [],
   "source": [
    "# read the content page of Japanese translation and get the Japanese translated title\n",
    "with open(\"Chiri_Japanese_Translation/content.txt\", \"r\", encoding=\"utf8\") as f:\n",
    "    japanese_content = f.read()\n",
    "    japanese_content = unicodedata.normalize('NFKC', japanese_content)\n",
    "\n",
    "\n",
    "s=re.split(r'\\n\\n', japanese_content)\n",
    "japanese_titles = re.split(r'\\n', s[1])"
   ]
  },
  {
   "cell_type": "code",
   "execution_count": 35,
   "metadata": {},
   "outputs": [],
   "source": [
    "# read the content page of Ainu original text and get the original title\n",
    "with open(\"original_Ainu_text/content.txt\", \"r\", encoding=\"utf8\") as f:\n",
    "    ainu_content = f.read()\n",
    "    ainu_content = unicodedata.normalize('NFKC', ainu_content)\n",
    "\n",
    "\n",
    "s=re.split(r'\\n\\n', ainu_content)\n",
    "ainu_titles = re.split(r'\\n', s[1])"
   ]
  },
  {
   "cell_type": "code",
   "execution_count": 36,
   "metadata": {},
   "outputs": [],
   "source": [
    "# Read the markdown template for writing the Chinese translations to Markdown file\n",
    "\n",
    "#read in the template\n",
    "with open(\"templates/raw_output_footnote_md_template\", \"r\", encoding=\"utf8\") as f:\n",
    "    md_template = f.read()\n",
    "    md_template = unicodedata.normalize('NFKC', md_template)"
   ]
  },
  {
   "cell_type": "code",
   "execution_count": 37,
   "metadata": {},
   "outputs": [],
   "source": [
    "def generate(client: genai.Client,generate_content_config :types.GenerateContentConfig,model :str, /,input_text :str, prompt :str):\n",
    "\n",
    "    text_full_prompt = text1 = types.Part.from_text(text=f\"{prompt}\\n\\n{input_text}\")\n",
    "\n",
    "    output = \"\"\n",
    "\n",
    "    contents = [\n",
    "      types.Content(\n",
    "        role=\"user\",\n",
    "        parts=[\n",
    "          text_full_prompt\n",
    "        ]\n",
    "      )\n",
    "    ]\n",
    "\n",
    "    for chunk in client.models.generate_content_stream(\n",
    "        model = model,\n",
    "        contents = contents,\n",
    "        config = generate_content_config,\n",
    "        ):\n",
    "        print(chunk.text, end=\"\")\n",
    "        output += chunk.text\n",
    "\n",
    "    return output\n",
    "\n",
    "def get_output_file_name_key(title :str):\n",
    "    # setup the output file name\n",
    "    s = title.split()\n",
    "    md_name_part = s[0]\n",
    "\n",
    "    name_2nd_part = \"\"\n",
    "\n",
    "    for text in s:\n",
    "        if text.startswith('“'):\n",
    "            name_2nd_part = text.replace('“', '').replace('”', '')\n",
    "        \n",
    "    md_name_part += \"_\" + name_2nd_part\n",
    "\n",
    "    return md_name_part\n",
    "\n"
   ]
  },
  {
   "cell_type": "code",
   "execution_count": 38,
   "metadata": {},
   "outputs": [
    {
     "name": "stdout",
     "output_type": "stream",
     "text": [
      "Okay, here are the English translations of the footnotes, preserving the original meanings and keeping non-Japanese text as is:\n",
      "\n",
      "(1) In the old days, when a boy got a little older, they would make and give him a small bow and arrow. The child would play by shooting at trees and birds, unknowingly becoming skilled in archery.\n",
      "ak...... archery, shinot is play, ponai is small arrow.\n",
      "\n",
      "(2) shiktumorke...... the look in one's eyes.\n",
      "It is said that if you want to know a person's true nature, the best way is to look at their eyes, and they would be scolded if they looked around restlessly.\n",
      "\n",
      "(3) achikara...... means \"dirty.\"\n",
      "\n",
      "(4) It is said that birds and animals are shot down by people because they want the arrows made by people, and they are taking the arrows.\n",
      "\n",
      "(5) kotankorkamui...... a god who possesses a country or village.\n",
      "In the mountains, there are nupurikorkamui...... a god who possesses a mountain (bear) and nupuripakorkamui...... a god who possesses the east of the mountain (wolf), and the owl is ranked after the bear and wolf.\n",
      "kotankorkamui is not a rough and hasty person like the mountain god or the god of the east of the mountain. Therefore, they are usually calm and always have their eyes closed, and it is said that they only open their eyes when something very serious happens.\n",
      "\n",
      "(6) eharkiso...... the left seat.\n",
      "\n",
      "(7) eshiso...... the right seat.\n",
      "In the center of the house is a hearth, and the side with the ※(「窗/心」) on the east side is the upper seat. Looking from the upper seat, the right is eshiso and the left is harkiso. Only men can sit in the upper seat. Guests who are of lower status than the head of the house will refrain from taking the upper seat. It is customary for the master and mistress of the house to sit side by side in the right seat. The left seat is next to the right seat, and the seat on the west side (towards the doorway) is the lowest seat.\n",
      "\n",
      "(8) hayokpe helmet.\n",
      "It is said that when birds and animals are in the mountains, they are invisible to human eyes, but each has a house like a human, and they all live in the same form as humans, and when they come to human villages, they wear helmets. And it is said that the corpses of birds and animals are helmets, and the main body is invisible, but it is between the ears of the corpse.\n",
      "\n",
      "(9) otuipe...... a guy with a cut-off butt.\n",
      "A tail that is short like a dog's cut-off tail is not highly valued.\n",
      "They use abusive language to describe extremely insignificant people as wenpe...... a bad guy, otuipe...... a guy with a cut-off tail.\n",
      "\n",
      "(10) chikashnukar. When a god is very pleased with a human, and bestows some great fortune on that person in a completely unexpected place, that person rejoices, saying ikashnukar an.\n",
      "\n",
      "(11) apehuchi...... old woman of fire. The fire goddess is the most revered goddess in the house and is always an old woman. When mountain gods, sea gods, and other various gods come to the house as guests like this owl, this apehuchi takes the lead in entertaining and talking to the guests. It is also acceptable to simply say kamuihuchi (god old woman).\n",
      "\n",
      "(12) neusar talking to each other.\n",
      "Talking about various worldly matters is also neusar. Usually, things like kamuiyukar (god song) and uwepeker (old tales) are called neusar.\n",
      "\n",
      "(13) ashke a uk. ashke is finger, hand. a uk is to take. It means inviting people when there is a celebration.\n",
      "\n",
      "(14) kakkokhau...... the voice of the cuckoo bird.\n",
      "Because the voice of the cuckoo bird is beautiful and clear, people who speak clearly and understandably to everyone are said to be like cuckoo birds.\n",
      "\n",
      "(15) chisekorkamui...... a god who possesses a house.\n",
      "The fire god is like the housewife, and the house god is like the master of the house. He is also called chisekorekashi...... an old man who owns a house.\n",
      "\n",
      "(16) nusakorkamui...... a god who possesses a sacred shelf, an old woman.\n",
      "The god of the sacred shelf is also always a woman. In the event of an emergency, she may appear to humans, but at that time, she appears in the form of a snake. Therefore, if a snake appears near the sacred shelf or near the east window, they say, \"The old woman of the sacred shelf must have gone out on business,\" and they never kill the snake. It is said that if you kill it, you will be punished.\n"
     ]
    }
   ],
   "source": [
    "# process the translation in batch mode\n",
    "\n",
    "for song_no in range(start_at, end_at + 1):\n",
    "    with open(f\"Chiri_footnotes/footnote_story_{song_no}.txt\", \"r\", encoding=\"utf8\") as f:\n",
    "        japanese_text = f.read()\n",
    "        japanese_text = unicodedata.normalize('NFKC', japanese_text)\n",
    "\n",
    "        footnote_translation = generate(client,generate_content_config,model,input_text=japanese_text,prompt=translation_prompt)\n",
    "\n",
    "        md_output = md_template.format(translated_language=\"English\", ainu_title=ainu_titles[song_no - 1],\n",
    "                               prompt=translation_prompt,\n",
    "                               japanese_title=japanese_titles[song_no], input_japanese = japanese_text,\n",
    "                               output=footnote_translation)\n",
    "        \n",
    "        md_name_part = get_output_file_name_key(ainu_titles[song_no - 1])\n",
    "\n",
    "        with open(f\"LLM_prompts_and_raw_translations_footnotes/English_Translation/{song_no}_{md_name_part}_to_English.md\", \"w\", encoding=\"utf8\") as f:\n",
    "            f.write(md_output)\n",
    "\n"
   ]
  },
  {
   "cell_type": "code",
   "execution_count": null,
   "metadata": {},
   "outputs": [],
   "source": []
  },
  {
   "cell_type": "code",
   "execution_count": null,
   "metadata": {},
   "outputs": [],
   "source": []
  },
  {
   "cell_type": "code",
   "execution_count": null,
   "metadata": {},
   "outputs": [],
   "source": []
  }
 ],
 "metadata": {
  "kernelspec": {
   "display_name": "llama",
   "language": "python",
   "name": "python3"
  },
  "language_info": {
   "codemirror_mode": {
    "name": "ipython",
    "version": 3
   },
   "file_extension": ".py",
   "mimetype": "text/x-python",
   "name": "python",
   "nbconvert_exporter": "python",
   "pygments_lexer": "ipython3",
   "version": "3.11.11"
  }
 },
 "nbformat": 4,
 "nbformat_minor": 2
}
