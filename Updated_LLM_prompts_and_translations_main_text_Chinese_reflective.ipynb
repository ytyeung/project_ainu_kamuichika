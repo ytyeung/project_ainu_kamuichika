{
 "cells": [
  {
   "cell_type": "code",
   "execution_count": 11,
   "metadata": {},
   "outputs": [],
   "source": [
    "import os\n",
    "from google import genai\n",
    "from google.genai import types\n",
    "from dotenv import load_dotenv\n",
    "from pydantic import BaseModel, Field\n",
    "import json\n",
    "\n",
    "import unicodedata\n",
    "import re\n",
    "\n",
    "from pydantic import BaseModel, Field"
   ]
  },
  {
   "cell_type": "code",
   "execution_count": 12,
   "metadata": {},
   "outputs": [],
   "source": [
    "load_dotenv()\n",
    "project_name = os.getenv('PROJECT_NAME')"
   ]
  },
  {
   "cell_type": "markdown",
   "metadata": {},
   "source": [
    "The story id, from 1 to 13 according to the 13 Ainu Kamuy Yukars translated by Chiri Yukie. The Yukar ID starts at 1. Chiri's Preface is 0."
   ]
  },
  {
   "cell_type": "code",
   "execution_count": 13,
   "metadata": {},
   "outputs": [],
   "source": [
    "start_at = 11\n",
    "end_at = 11"
   ]
  },
  {
   "cell_type": "code",
   "execution_count": 14,
   "metadata": {},
   "outputs": [],
   "source": [
    "class Translation(BaseModel):\n",
    "    \"\"\"The updated translation, and the comments for the update\"\"\"\n",
    "    updated_translation: str = Field(description=\"The updated translation\")\n",
    "    comment: str = Field(description=\"Comments on the translation update\")"
   ]
  },
  {
   "cell_type": "code",
   "execution_count": 15,
   "metadata": {},
   "outputs": [],
   "source": [
    "system_instruction_prompt = \"\"\"You are a professional translator. You know Japanese, English and Chinese. You can translate Japanese into either Chinese or English. You can also translation Chinese into English, and English into Chinese.\"\"\"\n",
    "\n",
    "client = genai.Client(\n",
    "      vertexai=True,\n",
    "      project=project_name,\n",
    "      location=\"us-central1\",\n",
    ")\n",
    "\n",
    "model = \"gemini-2.0-flash-001\"\n",
    "\n",
    "generate_content_config = types.GenerateContentConfig(\n",
    "    temperature = 0,\n",
    "    top_p = 0,\n",
    "    max_output_tokens = 8192,\n",
    "    response_mime_type = 'application/json',\n",
    "    response_schema = Translation,\n",
    "    safety_settings = [types.SafetySetting(\n",
    "      category=\"HARM_CATEGORY_HATE_SPEECH\",\n",
    "      threshold=\"OFF\"\n",
    "    ),types.SafetySetting(\n",
    "      category=\"HARM_CATEGORY_DANGEROUS_CONTENT\",\n",
    "      threshold=\"OFF\"\n",
    "    ),types.SafetySetting(\n",
    "      category=\"HARM_CATEGORY_SEXUALLY_EXPLICIT\",\n",
    "      threshold=\"OFF\"\n",
    "    ),types.SafetySetting(\n",
    "      category=\"HARM_CATEGORY_HARASSMENT\",\n",
    "      threshold=\"OFF\"\n",
    "    )],\n",
    "    system_instruction=[types.Part.from_text(text=system_instruction_prompt)],\n",
    "  )"
   ]
  },
  {
   "cell_type": "code",
   "execution_count": 16,
   "metadata": {},
   "outputs": [],
   "source": [
    "reflection_prompt = \"\"\"You are translating the following Japanese text into Chinese. The original text is a Japanese translation of a Ainu chant, sung by Ainu god telling his story. \n",
    "You have 2 versions of Chinese translations at hand.\n",
    "\n",
    "Here are your tasks:\n",
    "\n",
    "1. Compare the two Chinese translations with the original Japanese text. List out the Pros and Cons of the two Translations.\n",
    "2. Choose a better translation. Accuracy of meaning is the most important criterion. Easy to understand is the second. Poetic flow is the thrid.\n",
    "3. Based on the better translation, translate the Japanese text into Chinese again, incorporating the Pros of the two translations.\n",
    "\n",
    "Use story-telling and poetic tone for the translation. Keep the original Japanese meaning accurately. Use modern Chinese for easy understanding. Display in Traditional Chinese. \n",
    "If a term cannot be translated, keep the original language.\n",
    "\n",
    "This is the Japanese text.\n",
    "{japanese_text}\n",
    "\n",
    "This is the Chinese Translation 1.\n",
    "{chinese_translation_1}\n",
    "\n",
    "This is the Chinese Translation 2.\n",
    "{chinese_translation_2}\n",
    "\"\"\"\n"
   ]
  },
  {
   "cell_type": "code",
   "execution_count": 17,
   "metadata": {},
   "outputs": [],
   "source": [
    "def generate(client: genai.Client,generate_content_config :types.GenerateContentConfig,model :str, /, prompt :str):\n",
    "\n",
    "    text_full_prompt = text1 = types.Part.from_text(text=f\"{prompt}\")\n",
    "\n",
    "    output = \"\"\n",
    "\n",
    "    contents = [\n",
    "      types.Content(\n",
    "        role=\"user\",\n",
    "        parts=[\n",
    "          text_full_prompt\n",
    "        ]\n",
    "      )\n",
    "    ]\n",
    "\n",
    "    for chunk in client.models.generate_content_stream(\n",
    "        model = model,\n",
    "        contents = contents,\n",
    "        config = generate_content_config,\n",
    "        ):\n",
    "        print(chunk.text, end=\"\")\n",
    "        output += chunk.text\n",
    "\n",
    "    return output\n",
    "\n",
    "def get_output_file_name_key(title :str):\n",
    "    # setup the output file name\n",
    "    s = title.split()\n",
    "    md_name_part = s[0]\n",
    "\n",
    "    name_2nd_part = \"\"\n",
    "\n",
    "    for text in s:\n",
    "        if text.startswith('“'):\n",
    "            name_2nd_part = text.replace('“', '').replace('”', '')\n",
    "        \n",
    "    md_name_part += \"_\" + name_2nd_part\n",
    "\n",
    "    return md_name_part\n",
    "\n",
    "\n"
   ]
  },
  {
   "cell_type": "code",
   "execution_count": 18,
   "metadata": {},
   "outputs": [],
   "source": [
    "# Read the markdown template for writing the Chinese translations to Markdown file\n",
    "\n",
    "#read in the template\n",
    "with open(\"templates/iter1_output_md_template\", \"r\", encoding=\"utf8\") as f:\n",
    "    md_template = f.read()\n",
    "    md_template = unicodedata.normalize('NFKC', md_template)"
   ]
  },
  {
   "cell_type": "code",
   "execution_count": 19,
   "metadata": {},
   "outputs": [],
   "source": [
    "# read the content page of Ainu original text and get the original title\n",
    "with open(\"original_Ainu_text/content.txt\", \"r\", encoding=\"utf8\") as f:\n",
    "    ainu_content = f.read()\n",
    "    ainu_content = unicodedata.normalize('NFKC', ainu_content)\n",
    "\n",
    "\n",
    "s=re.split(r'\\n\\n', ainu_content)\n",
    "ainu_titles = re.split(r'\\n', s[1])"
   ]
  },
  {
   "cell_type": "code",
   "execution_count": 20,
   "metadata": {},
   "outputs": [
    {
     "name": "stdout",
     "output_type": "stream",
     "text": [
      "{\n",
      "  \"comment\": \"Analysis of the two Chinese translations:\\n\\nTranslation 1:\\nPros:\\n*   Clear and straightforward language, easy to understand.\\n*   Accurately conveys the literal meaning of the original Japanese text.\\n*   Uses modern Chinese expressions.\\n\\nCons:\\n*   Lacks a poetic or storytelling tone.\\n*   Some phrases are a bit too literal and could be more natural in Chinese.\\n*   Does not retain the original Japanese term Okikirmui.\\n\\nTranslation 2:\\nPros:\\n*   More poetic and descriptive language, creating a better storytelling atmosphere.\\n*   Attempts to capture the emotional tone of the original text.\\n*   Retains the original Japanese term Okikirmui.\\n\\nCons:\\n*   Some phrases are slightly less natural or common in modern Chinese.\\n*   The overall flow is slightly less smooth compared to Translation 1.\\n*   The term \\\"妖冶之氣\\\" might not be the best fit for describing the demon child.\\n\\nChoice of Better Translation:\\nTranslation 1 is slightly better due to its clarity, accuracy, and ease of understanding. However, Translation 2 has merits in its poetic tone and retention of the original term. The updated translation will incorporate the pros of both translations.\\n\",\n",
      "  \"updated_translation\": \"小オキキリムイ親自吟唱的歌謠\\n「這砂，紅豔豔的」\\n\\n〔這砂，紅豔豔的〕\\n某日，小オキキリムイ我溯溪而上，信步遊玩，\\n竟遇見了惡魔之子。\\n那惡魔之子，容貌總是那般俊美，\\n一襲黑衣，更襯托出他的邪氣。\\n他手持胡桃木小弓，背著胡桃木箭，\\n見到我，咧嘴一笑，說道：\\n「小オキキリムイ，來玩耍吧！\\n我這就讓你看看，如何斷絕魚的生路。」\\n說罷，他便搭上胡桃木弓箭，\\n朝水源處射去。\\n頃刻間，水源湧出胡桃色的濁流，\\n鮭魚們奮力逆流而上，\\n卻厭惡這污濁之水，哀號著退回下游。\\n惡魔之子見狀，得意地笑了。\\n我見此情景，怒火中燒，\\n便取出我的銀製小弓，搭上銀製小箭，\\n朝水源射去。\\n頓時，水源湧出銀色的清流，甘甜清冽，\\n原本哭泣退卻的鮭魚們，\\n在這清澈的銀水中恢復了活力，\\n歡笑嬉戲，\\n啪嚓啪嚓地逆流而上。\\n惡魔之子頓時面露怒色，\\n惱羞成怒地說道：\\n「你若真要如此，我就讓你看看，如何斷絕鹿的生路！」\\n說著，他再次搭上胡桃木弓箭，\\n朝著天空射去。\\n霎時間，山林的樹木間，\\n颳起了胡桃木的旋風。\\n雄鹿與雌鹿，各自成群，\\n被狂風捲起，整整齊齊地升向天際。\\n惡魔之子見此，又露出了得意的笑容。\\n我見狀，怒不可遏，\\n便拿起銀製小弓，搭上銀製小箭，\\n朝著鹿群離去的方向射去。\\n從天而降，銀色的清風，\\n雄鹿與雌鹿，各自成群，\\n被吹回山林的木原之上。\\n惡魔之子頓時面露本性，\\n氣急敗壞地說道：\\n「狂妄之徒，你若真要如此，我們就來比試力氣！」\\n說著，他脫下了上衣。\\n我也只剩一件單薄的衣衫，\\n與他扭打在一起。他緊緊抱住我。從那以後，\\n我們互相角力，互不相讓，\\n但我驚訝於惡魔之子那巨大的力量。\\n然而，終於，在某一刻，\\n我聚集腰間和全身的力量，\\n將惡魔之子高高舉起，\\n扛到肩上，\\n然後狠狠地摔在山岩之上，\\n只聽「轟」的一聲巨響。我殺死了他，\\n將他踢入地獄深淵，四周一片寂靜。\\n事畢，我沿著河流返回，\\n只聽見河中鮭魚們歡快的笑聲，\\n嬉戲的聲響，熱鬧非凡，\\n啪嚓啪嚓地迴盪在耳邊。山林的木原之上，\\n雄鹿和雌鹿歡快地鳴叫，\\n嬉戲的聲響，充滿四處，\\n牠們在那裡，在這裡，悠閒地覓食。\\n我見此情景，終於感到安心，便回到了我的家。\\n小オキキリムイ如此講述著。\"\n",
      "}"
     ]
    }
   ],
   "source": [
    "for song_no in range(start_at, end_at + 1):\n",
    "\n",
    "    md_name_part = get_output_file_name_key(ainu_titles[song_no - 1])\n",
    "\n",
    "    with open(f\"Initial_LLM_prompts_and_translations_main_text/Chinese_Translation_JSON/{song_no}_{md_name_part}.json\", \"r\", encoding=\"utf8\") as f:\n",
    "        data_dict = json.load(f)\n",
    "\n",
    "    with open(f\"cross_lingual_LLM_prompts_and_translations_main_text/Chinese_Translation_JSON/{song_no}_{md_name_part}.json\", \"r\", encoding=\"utf8\") as f:\n",
    "        data_dict_2 = json.load(f)\n",
    "\n",
    "    reflection_prompt_formatted = reflection_prompt.format(japanese_text=data_dict['input_text'],\n",
    "                                                           chinese_translation_1=data_dict['chinese_translation'],\n",
    "                                                           chinese_translation_2=data_dict_2['chinese_translation'])\n",
    "\n",
    "    updated_translation = generate(client,generate_content_config,model,prompt = reflection_prompt_formatted)\n",
    "\n",
    "    updated_translation_dict = json.loads(updated_translation)\n",
    "    #print(updated_translation_dict['updated_translation'])\n",
    "    #print(updated_translation_dict['comment'])\n",
    "\n",
    "    data_dict['chinese_translation_1'] = data_dict['chinese_translation']\n",
    "    data_dict['chinese_translation_2'] = data_dict_2['chinese_translation']\n",
    "\n",
    "    del data_dict['chinese_translation']\n",
    "\n",
    "    data_dict['updated_chinese_translation'] = updated_translation_dict['updated_translation']\n",
    "    data_dict['comment'] = updated_translation_dict['comment']\n",
    "    data_dict['japanese_translation'] = data_dict['input_text']\n",
    "    del data_dict['input_text']\n",
    "\n",
    "    md_output = md_template.format(translated_language=\"Chinese\", ainu_title=data_dict['ainu_title'],\n",
    "                formatted_prompt=reflection_prompt_formatted,\n",
    "                japanese_title=data_dict['japanese_title'], input_japanese = data_dict['japanese_translation'],\n",
    "                output= f\"{data_dict['updated_chinese_translation']}\\n\\n{data_dict['comment']}\")\n",
    "\n",
    "    with open(f\"Updated_LLM_prompts_and_translations_main_text/Chinese_Translation_JSON/{song_no}_{md_name_part}.json\", \"w\", encoding=\"utf8\") as f:\n",
    "        json.dump(data_dict, f, ensure_ascii=False, indent=4)\n",
    "\n",
    "    with open(f\"Updated_LLM_prompts_and_translations_main_text/Chinese_Translation/{song_no}_{md_name_part}.md\", \"w\", encoding=\"utf8\") as f:\n",
    "        f.write(md_output)\n",
    "\n"
   ]
  },
  {
   "cell_type": "code",
   "execution_count": null,
   "metadata": {},
   "outputs": [],
   "source": []
  },
  {
   "cell_type": "code",
   "execution_count": null,
   "metadata": {},
   "outputs": [],
   "source": []
  },
  {
   "cell_type": "code",
   "execution_count": null,
   "metadata": {},
   "outputs": [],
   "source": []
  }
 ],
 "metadata": {
  "kernelspec": {
   "display_name": "llama",
   "language": "python",
   "name": "python3"
  },
  "language_info": {
   "codemirror_mode": {
    "name": "ipython",
    "version": 3
   },
   "file_extension": ".py",
   "mimetype": "text/x-python",
   "name": "python",
   "nbconvert_exporter": "python",
   "pygments_lexer": "ipython3",
   "version": "3.11.11"
  }
 },
 "nbformat": 4,
 "nbformat_minor": 2
}
