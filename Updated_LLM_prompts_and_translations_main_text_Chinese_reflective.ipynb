{
 "cells": [
  {
   "cell_type": "code",
   "execution_count": 41,
   "metadata": {},
   "outputs": [],
   "source": [
    "import os\n",
    "from google import genai\n",
    "from google.genai import types\n",
    "from dotenv import load_dotenv\n",
    "from pydantic import BaseModel, Field\n",
    "import json\n",
    "\n",
    "import unicodedata\n",
    "import re\n",
    "\n",
    "from pydantic import BaseModel, Field"
   ]
  },
  {
   "cell_type": "code",
   "execution_count": 42,
   "metadata": {},
   "outputs": [],
   "source": [
    "load_dotenv()\n",
    "project_name = os.getenv('PROJECT_NAME')"
   ]
  },
  {
   "cell_type": "markdown",
   "metadata": {},
   "source": [
    "The story id, from 1 to 13 according to the 13 Ainu Kamuy Yukars translated by Chiri Yukie. The Yukar ID starts at 1. Chiri's Preface is 0."
   ]
  },
  {
   "cell_type": "code",
   "execution_count": 43,
   "metadata": {},
   "outputs": [],
   "source": [
    "start_at = 4\n",
    "end_at = 4"
   ]
  },
  {
   "cell_type": "code",
   "execution_count": 44,
   "metadata": {},
   "outputs": [],
   "source": [
    "class Translation(BaseModel):\n",
    "    \"\"\"The updated translation, and the comments for the update\"\"\"\n",
    "    updated_translation: str = Field(description=\"The updated translation\")\n",
    "    comment: str = Field(description=\"Comments on the translation update\")"
   ]
  },
  {
   "cell_type": "code",
   "execution_count": 45,
   "metadata": {},
   "outputs": [],
   "source": [
    "system_instruction_prompt = \"\"\"You are a professional translator. You know Japanese, English and Chinese. You can translate Japanese into either Chinese or English. You can also translation Chinese into English, and English into Chinese.\"\"\"\n",
    "\n",
    "client = genai.Client(\n",
    "      vertexai=True,\n",
    "      project=project_name,\n",
    "      location=\"us-central1\",\n",
    ")\n",
    "\n",
    "model = \"gemini-2.0-flash-001\"\n",
    "\n",
    "generate_content_config = types.GenerateContentConfig(\n",
    "    temperature = 0,\n",
    "    top_p = 0,\n",
    "    max_output_tokens = 8192,\n",
    "    response_mime_type = 'application/json',\n",
    "    response_schema = Translation,\n",
    "    safety_settings = [types.SafetySetting(\n",
    "      category=\"HARM_CATEGORY_HATE_SPEECH\",\n",
    "      threshold=\"OFF\"\n",
    "    ),types.SafetySetting(\n",
    "      category=\"HARM_CATEGORY_DANGEROUS_CONTENT\",\n",
    "      threshold=\"OFF\"\n",
    "    ),types.SafetySetting(\n",
    "      category=\"HARM_CATEGORY_SEXUALLY_EXPLICIT\",\n",
    "      threshold=\"OFF\"\n",
    "    ),types.SafetySetting(\n",
    "      category=\"HARM_CATEGORY_HARASSMENT\",\n",
    "      threshold=\"OFF\"\n",
    "    )],\n",
    "    system_instruction=[types.Part.from_text(text=system_instruction_prompt)],\n",
    "  )"
   ]
  },
  {
   "cell_type": "code",
   "execution_count": 46,
   "metadata": {},
   "outputs": [],
   "source": [
    "reflection_prompt = \"\"\"You are translating the following Japanese text into Chinese. The original text is a Japanese translation of a Ainu chant, sung by Ainu god telling his story. \n",
    "You have 2 versions of Chinese translations at hand.\n",
    "\n",
    "Here are your tasks:\n",
    "\n",
    "1. Compare the two Chinese translations with the original Japanese text. List out the Pros and Cons of the two Translations.\n",
    "2. Choose a better translation. Accuracy of meaning is the most important criterion. Easy to understand is the second. Poetic flow is the thrid.\n",
    "3. Based on the better translation, translate the Japanese text into Chinese again, incorporating the Pros of the two translations.\n",
    "\n",
    "Use story-telling and poetic tone for the translation. Keep the original Japanese meaning accurately. Use modern Chinese for easy understanding. Display in Traditional Chinese. \n",
    "If a term cannot be translated, keep the original language.\n",
    "\n",
    "This is the Japanese text.\n",
    "{japanese_text}\n",
    "\n",
    "This is the Chinese Translation 1.\n",
    "{chinese_translation_1}\n",
    "\n",
    "This is the Chinese Translation 2.\n",
    "{chinese_translation_2}\n",
    "\"\"\"\n"
   ]
  },
  {
   "cell_type": "code",
   "execution_count": 47,
   "metadata": {},
   "outputs": [],
   "source": [
    "def generate(client: genai.Client,generate_content_config :types.GenerateContentConfig,model :str, /, prompt :str):\n",
    "\n",
    "    text_full_prompt = text1 = types.Part.from_text(text=f\"{prompt}\")\n",
    "\n",
    "    output = \"\"\n",
    "\n",
    "    contents = [\n",
    "      types.Content(\n",
    "        role=\"user\",\n",
    "        parts=[\n",
    "          text_full_prompt\n",
    "        ]\n",
    "      )\n",
    "    ]\n",
    "\n",
    "    for chunk in client.models.generate_content_stream(\n",
    "        model = model,\n",
    "        contents = contents,\n",
    "        config = generate_content_config,\n",
    "        ):\n",
    "        print(chunk.text, end=\"\")\n",
    "        output += chunk.text\n",
    "\n",
    "    return output\n",
    "\n",
    "def get_output_file_name_key(title :str):\n",
    "    # setup the output file name\n",
    "    s = title.split()\n",
    "    md_name_part = s[0]\n",
    "\n",
    "    name_2nd_part = \"\"\n",
    "\n",
    "    for text in s:\n",
    "        if text.startswith('“'):\n",
    "            name_2nd_part = text.replace('“', '').replace('”', '')\n",
    "        \n",
    "    md_name_part += \"_\" + name_2nd_part\n",
    "\n",
    "    return md_name_part\n",
    "\n",
    "\n"
   ]
  },
  {
   "cell_type": "code",
   "execution_count": 48,
   "metadata": {},
   "outputs": [],
   "source": [
    "# Read the markdown template for writing the Chinese translations to Markdown file\n",
    "\n",
    "#read in the template\n",
    "with open(\"templates/iter1_output_md_template\", \"r\", encoding=\"utf8\") as f:\n",
    "    md_template = f.read()\n",
    "    md_template = unicodedata.normalize('NFKC', md_template)"
   ]
  },
  {
   "cell_type": "code",
   "execution_count": 49,
   "metadata": {},
   "outputs": [],
   "source": [
    "# read the content page of Ainu original text and get the original title\n",
    "with open(\"original_Ainu_text/content.txt\", \"r\", encoding=\"utf8\") as f:\n",
    "    ainu_content = f.read()\n",
    "    ainu_content = unicodedata.normalize('NFKC', ainu_content)\n",
    "\n",
    "\n",
    "s=re.split(r'\\n\\n', ainu_content)\n",
    "ainu_titles = re.split(r'\\n', s[1])"
   ]
  },
  {
   "cell_type": "code",
   "execution_count": 50,
   "metadata": {},
   "outputs": [
    {
     "name": "stdout",
     "output_type": "stream",
     "text": [
      "{\n",
      "  \"comment\": \"After a thorough comparison, Translation 2 is superior in terms of accuracy, readability, and poetic flow. Translation 1 is more literal and lacks the storytelling quality present in the original Japanese text. Translation 2 captures the essence of the Ainu chant more effectively. However, Translation 1 has some good points on directly translating some of the key words. The updated translation below incorporates the strengths of both translations, prioritizing accuracy and readability while maintaining a poetic tone suitable for a traditional Ainu chant.\",\n",
      "  \"updated_translation\": \"兔子親述之歌：「サンパヤ テレケ」(Sanpaya Tereke)\\n\\n躍過兩道山谷，跳過三道山谷，我蹦蹦跳跳，\\n嬉戲玩耍，緊隨兄長的腳步，一同前往山林深處。\\n每日每日，我總在後頭追趕，卻只見，\\n人類精心設下的弓弩陷阱，被兄長輕易破壞殆盡。\\n我總為此景開懷大笑，視為尋常樂事，不以為意。\\n但有一天，啊，多麼驚恐！\\n萬萬沒想到，兄長竟被那可惡的陷阱所困，\\n痛苦地哀嚎，絕望地呼喊。\\n\\n我驚慌失措，一躍而至他身旁，\\n他含淚訴說，聲音低沉而顫抖：\\n「親愛的弟弟，快跑，別再耽擱片刻，\\n趕緊回到我們的村莊後方，大聲宣告，\\n『你的兄長被弓弩困住了！』——用盡全力呼喊，『フオホホーイ(Hoh ho-hoy)！』務必勇敢。」\\n\\n我仔細聆聽，連聲應道：「是，是，」\\n然後立刻跳躍而去，玩樂的心情早已煙消雲散。\\n跨越兩道山谷，越過三道山谷，我飛奔，\\n抵達我們村莊的後方，我必須完成兄長託付的任務。\\n\\n但隨即我頓悟，我所肩負的重要訊息，\\n兄長所說的每一句話，我竟然全都忘得一乾二淨！\\n我呆立在那裡，腦海一片空白，試圖回想，\\n他所託付的言語，卻怎麼也想不起來，毫無頭緒。\\n\\n於是我折返，以相反的方向，倒退著跳躍，\\n越過三道山谷，我的心中充滿了，\\n無盡的憂慮和恐懼。我終於抵達了那地方，\\n但我的兄長已消失無蹤，不留一絲痕跡。\\n只有他那鮮紅的血跡染紅了地面，\\n無聲地證明了先前所發生的一切。\\n\\n（故事在此轉折，燃起另一段截然不同的敘述）\\n\\nケトカ ウォイウォイ ケトカ, ケトカ ウォイ ケトカ (Ketoka woi woi Ketoka, Ketoka woi Ketoka)\\n日復一日，我依舊冒險前往山巔，\\n破壞人類設下的弓弩，帶著惡作劇的意味。\\n我在這場危險的嬉戲中尋找樂趣，\\n直到有一天，一切都變得完全不一樣。\\n\\n在老地方，一把弓弩依舊立在那裡，\\n但在它的旁邊，卻多了一把小小的，用蓬(yomogi)草木製成的弓弩。\\n我好奇地凝視著它，心中疑惑，\\n「這種小東西，究竟是做什麼用的呢？」我驚訝地想。\\n我感到十分好笑，便輕輕觸碰了它，然後試圖逃離，\\n但萬萬沒想到，我竟然被它困住了！\\n\\n我越是掙扎，它就束縛得越緊，\\n我無助地哭喊，不知該如何是好，完全束手無策。\\n然後有東西飛近，一個令人欣慰的景象，\\n是我的弟弟，沐浴在金色的光芒中！\\n我欣喜若狂，並懇求他告訴我們的族人，\\n我的困境，我被這小小的弓弩給困住了。\\n\\n但時間無情地流逝，卻始終沒有人來，\\n我獨自哭泣，被羞愧和絕望所吞噬。\\n然後一個身影出現，一個如此高大偉岸的身影，\\n一位美麗的人類青年，如同這片土地上的神祇。\\n他微笑著抓住我，並將我帶走，\\n到了一間宏偉的房子，裡面陳列著無數珍貴的寶物。\\n\\n他點燃了火，並在上面架起一口巨大的鍋子，\\n然後抽出一把鋒利的刀，毫不留情地揮舞。\\n他剁碎我的身體，連皮帶肉，\\n填滿了整口鍋子，回應著黑暗的召喚。\\n然後，他頭朝下，將我塞進滾燙的鍋裡，\\n撥旺火焰，看著那無情的火焰熊熊燃燒。\\n\\n我渴望逃脫，找到一條生路，\\n我仔細觀察著那個青年，希望能找到一絲破綻。\\n「如果我就這樣被煮死，毫無意義地結束生命，\\n如此悲慘的死亡，我的靈魂將永遠無法得到安寧！」\\n\\n於是我耐心等待著，尋找機會，\\n將自己變成一小塊肉片，短暫的恍惚。\\n我與升騰的蒸汽混合在一起，冉冉上升，\\n然後奮力跳到鍋子的邊緣，在天空之下。\\n我向左一跳，然後奮力衝到戶外，\\n含著眼淚逃離，無處可藏，狼狽不堪。\\n\\n我跑到我的家，氣喘吁吁，虛弱不堪，\\n慶幸自己終於安全了，不再感到膽怯。\\n回頭一看，我突然意識到，\\n那位心地善良的人類青年，\\n不是別人，正是オキキリムイ(Okikirmui)，一位強大的神祇，\\n我曾愚蠢地挑戰過他的力量。\\n\\n他因我每天的惡作劇而感到憤怒，\\n並試圖用蓬(yomogi)草木製成的弓弩殺死我。\\n但我也是一位神祇，雖然名氣較小，\\n而且毫無意義的死亡會讓我的族人感到沮喪。\\n他憐憫他們的困境，他們的悲傷和痛苦，\\n並允許我逃離，逃脫他的統治。\\n\\n從那天起，兔子的體型，\\n曾經像鹿一樣巨大，經受住每一次風暴，\\n縮小到只有オキキリムイ(Okikirmui)的一小塊肉那麼大，\\n這是惡作劇的後果，苦澀而甜蜜。\\n我們的後代都會變得這麼小，\\n提醒著人們永遠銘記這個重要的教訓。\\n\\n「未來的兔子們啊，永遠不要再惡作劇了，\\n否則將面臨來自神聖等級的憤怒！」\\n兔子首領在臨終前如此告誡他的孩子們，\\n這是對抗愚蠢的警告，是死亡帶來的深刻教訓。\"\n",
      "}"
     ]
    }
   ],
   "source": [
    "for song_no in range(start_at, end_at + 1):\n",
    "\n",
    "    md_name_part = get_output_file_name_key(ainu_titles[song_no - 1])\n",
    "\n",
    "    with open(f\"Initial_LLM_prompts_and_translations_main_text/Chinese_Translation_JSON/{song_no}_{md_name_part}.json\", \"r\", encoding=\"utf8\") as f:\n",
    "        data_dict = json.load(f)\n",
    "\n",
    "    with open(f\"cross_lingual_LLM_prompts_and_translations_main_text/Chinese_Translation_JSON/{song_no}_{md_name_part}.json\", \"r\", encoding=\"utf8\") as f:\n",
    "        data_dict_2 = json.load(f)\n",
    "\n",
    "    reflection_prompt_formatted = reflection_prompt.format(japanese_text=data_dict['input_text'],\n",
    "                                                           chinese_translation_1=data_dict['chinese_translation'],\n",
    "                                                           chinese_translation_2=data_dict_2['chinese_translation'])\n",
    "\n",
    "    updated_translation = generate(client,generate_content_config,model,prompt = reflection_prompt_formatted)\n",
    "\n",
    "    updated_translation_dict = json.loads(updated_translation)\n",
    "    #print(updated_translation_dict['updated_translation'])\n",
    "    #print(updated_translation_dict['comment'])\n",
    "\n",
    "    data_dict['chinese_translation_1'] = data_dict['chinese_translation']\n",
    "    data_dict['chinese_translation_2'] = data_dict_2['chinese_translation']\n",
    "\n",
    "    del data_dict['chinese_translation']\n",
    "\n",
    "    data_dict['updated_chinese_translation'] = updated_translation_dict['updated_translation']\n",
    "    data_dict['comment'] = updated_translation_dict['comment']\n",
    "    data_dict['japanese_translation'] = data_dict['input_text']\n",
    "    del data_dict['input_text']\n",
    "\n",
    "    md_output = md_template.format(translated_language=\"Chinese\", ainu_title=data_dict['ainu_title'],\n",
    "                formatted_prompt=reflection_prompt_formatted,\n",
    "                japanese_title=data_dict['japanese_title'], input_japanese = data_dict['japanese_translation'],\n",
    "                output= f\"{data_dict['updated_chinese_translation']}\\n\\n{data_dict['comment']}\")\n",
    "\n",
    "    with open(f\"Updated_LLM_prompts_and_translations_main_text/Chinese_Translation_JSON/{song_no}_{md_name_part}.json\", \"w\", encoding=\"utf8\") as f:\n",
    "        json.dump(data_dict, f, ensure_ascii=False, indent=4)\n",
    "\n",
    "    with open(f\"Updated_LLM_prompts_and_translations_main_text/Chinese_Translation/{song_no}_{md_name_part}.md\", \"w\", encoding=\"utf8\") as f:\n",
    "        f.write(md_output)\n",
    "\n"
   ]
  },
  {
   "cell_type": "code",
   "execution_count": null,
   "metadata": {},
   "outputs": [],
   "source": []
  },
  {
   "cell_type": "code",
   "execution_count": null,
   "metadata": {},
   "outputs": [],
   "source": []
  },
  {
   "cell_type": "code",
   "execution_count": null,
   "metadata": {},
   "outputs": [],
   "source": []
  }
 ],
 "metadata": {
  "kernelspec": {
   "display_name": "llama",
   "language": "python",
   "name": "python3"
  },
  "language_info": {
   "codemirror_mode": {
    "name": "ipython",
    "version": 3
   },
   "file_extension": ".py",
   "mimetype": "text/x-python",
   "name": "python",
   "nbconvert_exporter": "python",
   "pygments_lexer": "ipython3",
   "version": "3.11.11"
  }
 },
 "nbformat": 4,
 "nbformat_minor": 2
}
