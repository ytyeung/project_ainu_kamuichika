{
 "cells": [
  {
   "cell_type": "code",
   "execution_count": 12,
   "metadata": {},
   "outputs": [],
   "source": [
    "from google import genai\n",
    "from google.genai import types\n",
    "import base64\n",
    "import json\n",
    "import os\n",
    "from dotenv import load_dotenv\n",
    "\n",
    "from pydantic import BaseModel, Field\n",
    "\n",
    "import unicodedata\n",
    "import re"
   ]
  },
  {
   "cell_type": "code",
   "execution_count": 13,
   "metadata": {},
   "outputs": [],
   "source": [
    "load_dotenv()\n",
    "project_name = os.getenv('PROJECT_NAME')"
   ]
  },
  {
   "cell_type": "markdown",
   "metadata": {},
   "source": [
    "The story id, from 1 to 13 according to the 13 Ainu Kamuy Yukars translated by Chiri Yukie. The Yukar ID starts at 1. Chiri's Preface is 0."
   ]
  },
  {
   "cell_type": "code",
   "execution_count": 14,
   "metadata": {},
   "outputs": [],
   "source": [
    "start_at = 1\n",
    "end_at = 13"
   ]
  },
  {
   "cell_type": "code",
   "execution_count": 15,
   "metadata": {},
   "outputs": [],
   "source": [
    "class Translation(BaseModel):\n",
    "    \"\"\"The translation, and the comments\"\"\"\n",
    "    translation: str = Field(description=\"The translation\")\n",
    "    comment: str = Field(description=\"Comments on the translation\")"
   ]
  },
  {
   "cell_type": "code",
   "execution_count": 16,
   "metadata": {},
   "outputs": [],
   "source": [
    "system_instruction_prompt = \"\"\"You are a professional translator. You know Japanese, English and Chinese. You can translate Japanese into either Chinese or English. You can also translate Chinese into English, and English into Chinese.\"\"\"\n",
    "\n",
    "client = genai.Client(\n",
    "      vertexai=True,\n",
    "      project=project_name,\n",
    "      location=\"us-central1\",\n",
    ")\n",
    "\n",
    "model = \"gemini-2.0-flash-001\"\n",
    "\n",
    "generate_content_config = types.GenerateContentConfig(\n",
    "    temperature = 0,\n",
    "    top_p = 0,\n",
    "    max_output_tokens = 8192,\n",
    "    response_mime_type = 'application/json',\n",
    "    response_schema = Translation,\n",
    "    safety_settings = [types.SafetySetting(\n",
    "      category=\"HARM_CATEGORY_HATE_SPEECH\",\n",
    "      threshold=\"OFF\"\n",
    "    ),types.SafetySetting(\n",
    "      category=\"HARM_CATEGORY_DANGEROUS_CONTENT\",\n",
    "      threshold=\"OFF\"\n",
    "    ),types.SafetySetting(\n",
    "      category=\"HARM_CATEGORY_SEXUALLY_EXPLICIT\",\n",
    "      threshold=\"OFF\"\n",
    "    ),types.SafetySetting(\n",
    "      category=\"HARM_CATEGORY_HARASSMENT\",\n",
    "      threshold=\"OFF\"\n",
    "    )],\n",
    "    system_instruction=[types.Part.from_text(text=system_instruction_prompt)],\n",
    "  )"
   ]
  },
  {
   "cell_type": "code",
   "execution_count": 17,
   "metadata": {},
   "outputs": [],
   "source": [
    "poetic_translation_prompt = \"\"\"Translate the following text from Chinese to English. The original text is translation from Japanese which is a footnotes of Ainu chants. \n",
    "Keep the original meaning. Use modern and simple English.\n",
    "If a term cannot be translated, keep the original language.\"\"\"\n",
    "\n",
    "#descriptive_translation_prompt = \"Translate the following text from Japanese to Chinese. Keep the original meanings. Display in Traditional Chinese.\""
   ]
  },
  {
   "cell_type": "code",
   "execution_count": 18,
   "metadata": {},
   "outputs": [],
   "source": [
    "# read the content page of Japanese translation and get the Japanese translated title\n",
    "with open(\"Chiri_Japanese_Translation/content.txt\", \"r\", encoding=\"utf8\") as f:\n",
    "    japanese_content = f.read()\n",
    "    japanese_content = unicodedata.normalize('NFKC', japanese_content)\n",
    "\n",
    "\n",
    "s=re.split(r'\\n\\n', japanese_content)\n",
    "japanese_titles = re.split(r'\\n', s[1])"
   ]
  },
  {
   "cell_type": "code",
   "execution_count": 19,
   "metadata": {},
   "outputs": [],
   "source": [
    "# read the content page of Ainu original text and get the original title\n",
    "with open(\"original_Ainu_text/content.txt\", \"r\", encoding=\"utf8\") as f:\n",
    "    ainu_content = f.read()\n",
    "    ainu_content = unicodedata.normalize('NFKC', ainu_content)\n",
    "\n",
    "\n",
    "s=re.split(r'\\n\\n', ainu_content)\n",
    "ainu_titles = re.split(r'\\n', s[1])"
   ]
  },
  {
   "cell_type": "code",
   "execution_count": 20,
   "metadata": {},
   "outputs": [],
   "source": [
    "# Read the markdown template for writing the Chinese translations to Markdown file\n",
    "\n",
    "#read in the template\n",
    "with open(\"templates/raw_output_md_template_cross_lingual\", \"r\", encoding=\"utf8\") as f:\n",
    "    md_template = f.read()\n",
    "    md_template = unicodedata.normalize('NFKC', md_template)"
   ]
  },
  {
   "cell_type": "code",
   "execution_count": 21,
   "metadata": {},
   "outputs": [],
   "source": [
    "def generate(client: genai.Client,generate_content_config :types.GenerateContentConfig,model :str, /,input_text :str, prompt :str):\n",
    "\n",
    "    text_full_prompt = text1 = types.Part.from_text(text=f\"{prompt}\\n\\n{input_text}\")\n",
    "\n",
    "    output = \"\"\n",
    "\n",
    "    contents = [\n",
    "      types.Content(\n",
    "        role=\"user\",\n",
    "        parts=[\n",
    "          text_full_prompt\n",
    "        ]\n",
    "      )\n",
    "    ]\n",
    "\n",
    "    for chunk in client.models.generate_content_stream(\n",
    "        model = model,\n",
    "        contents = contents,\n",
    "        config = generate_content_config,\n",
    "        ):\n",
    "        print(chunk.text, end=\"\")\n",
    "        output += chunk.text\n",
    "\n",
    "    return output\n",
    "\n",
    "def get_output_file_name_key(title :str):\n",
    "    # setup the output file name\n",
    "    s = title.split()\n",
    "    md_name_part = s[0]\n",
    "\n",
    "    name_2nd_part = \"\"\n",
    "\n",
    "    for text in s:\n",
    "        if text.startswith('“'):\n",
    "            name_2nd_part = text.replace('“', '').replace('”', '')\n",
    "        \n",
    "    md_name_part += \"_\" + name_2nd_part\n",
    "\n",
    "    return md_name_part\n",
    "\n"
   ]
  },
  {
   "cell_type": "code",
   "execution_count": 22,
   "metadata": {},
   "outputs": [
    {
     "name": "stdout",
     "output_type": "stream",
     "text": [
      "{\n",
      "  \"comment\": \"Translation from Chinese to English of Ainu chant footnotes, maintaining original meaning with simple, modern English. Terms that cannot be translated are kept in the original language.\",\n",
      "  \"translation\": \"(1) In the past, when boys grew up a little, they would be given small bows and arrows. The children would use them to shoot at trees or birds as targets for play, and unknowingly master the art of archery. ak... is archery, shinot is play, ponai is a small arrow.\\n\\n(2) shiktumorke... eyes. When you want to understand a person's nature, looking at their eyes is the clearest way. If they glance around too much, they would be scolded.\\n\\n(3) achikara... means 'dirty'.\\n\\n(4) A bird or beast is shot down because it wanted a person to make an arrow for it, saying it was to retrieve the arrow.\\n\\n(5) kotankorkamui... a god who owns a country or village. In the mountains, there is nupurikorkamui... a god who owns the mountain (bear), and nupuripakorkamui... a god who owns the east side of the mountain (wolf), etc. The owl's position is second only to the bear and wolf. kotankorkamui is not as rough and flustered as the mountain gods or the gods of the east side of the mountain. Therefore, they are usually calm and composed, always with their eyes closed, and only open them when there is something very important.\\n\\n(6) eharkiso... the left seat.\\n\\n(7) eshiso... the right seat. There is a hearth in the center of the house, and the side with the window is the seat of honor. Looking from the seat of honor, the right side is eshiso, and the left side is harkiso. Only men can sit in the seat of honor. If it is a guest, someone of lower status than the host will avoid sitting in the seat of honor. The host and his wife always sit side by side in the right seat. Next to the right seat is the left seat, and the seat on the west side (near the entrance) is the lowest seat.\\n\\n(8) hayokpe helmet. When birds or beasts are in the mountains, they are invisible to human eyes, but they each have houses like humans, and they all live the same lives as humans. When they come to human villages, they wear helmets. The corpses of birds or beasts are helmets, and the main body is invisible, but it is between the ears and ears of the corpse.\\n\\n(9) otuipe... a guy with a broken tail. Short tails, like dogs with broken tails, are not highly valued. wenpe... bad guy, otuipe... a guy with a broken tail, are used to insult extremely useless people.\\n\\n(10) chikashnukar. When a god likes someone very much, they bestow great happiness on that person in a completely unexpected place, and that person will say ikashnukar an to express their joy.\\n\\n(11) apehuchi... the old woman of fire. The fire god is the most honorable god in the house and must be an old woman. When mountain gods, sea gods, and other various gods come to the house as guests like owls, this apehuchi presides over the reception and conversation. She can also be called kamuihuchi (god old woman) directly.\\n\\n(12) neusar talking to each other. Talking to each other about various worldly matters is also called neusar. Generally speaking, things like kamuiyukar (god tales) or uwepeker (old tales) are called neusar.\\n\\n(13) ashke a uk. ashke is finger, hand. a uk is to take. It refers to inviting people when there is a celebration.\\n\\n(14) kakkokhau... the call of the cuckoo. The call of the cuckoo is clear and loud, so the cuckoo is used to describe someone who speaks clearly and understandably to everyone.\\n\\n(15) chisekorkamui... a god who owns the house. The fire god is the housewife, and the house god is like the master of the house. Men are called chisekorekashi... the old man who owns the house.\\n\\n(16) nusakorkamui... a god who owns the altar, an old woman. The god of the altar must be female. When something happens, she will appear to humans, and it is said that she will borrow the shape of a snake to appear. Therefore, if a snake appears near the altar or near the east window, people will say, \\\"The old woman of the altar must have gone out on business,\\\" and they will never kill the snake. It is said that killing it will be punished.\"\n",
      "}{\n",
      "  \"comment\": \"Translation from Chinese to English of Ainu chant footnotes, maintaining original meaning and using simple, modern English. Terms that cannot be translated are kept in the original language.\",\n",
      "  \"translation\": \"(1) isoeonkami.iso refers to good fortune from the sea, eonkami means apology or gratitude.\\nWhen a whale is beached, people firmly believe that the sea god brought it ashore as a gift to humans. At this time, a respected person will dress formally and offer prayers facing the sea.\\n(2) ononno. These are words spoken in unison by people welcoming hunters returning from the sea or mountains with their prey.\\n(3) uniwente... A ritual held after various natural disasters such as floods, fires, and volcanic eruptions, or in cases of accidental injury or death, such as someone being eaten by a bear or falling into the sea or river.\\nDuring the ritual, people point guns or knives at each other while exchanging words of condolence. If a village has suffered a disaster, representatives from neighboring villages will gather to hold the ritual, even if only one person is affected.\\n(4) hokokse... A male cry for help to the gods during uniwente or other major emergencies. フオホホーイ, exclusively for men.\\n(5) ashur refers to news of an incident, ek means arrival.\\n...When someone traveling far from the village becomes ill or dies, a messenger is sent to inform their home village. Or, when someone from another village comes to report a death or incident, this situation is called ashur.\\nThe messenger is called ashurkorkur (the person carrying news of the incident).\\nWhen ashurkorkur approaches the village, they first shout hokokse (フオホホーイ). Hearing the shout, the villagers also shout loudly and go to the edge of the village to greet them and inquire about the news.\\n(6) uchishkar... Crying together. This is a form of greeting between women when they reunite after a long separation, when a close relative dies, or when someone narrowly escapes a dangerous situation. The women hold hands or embrace each other's heads or shoulders and cry.\\n(7) matrimimse (female cry)... In emergencies or during uniwente, men make a rough hokokse (フオホホーイ) sound, while women make a soft ホーイ sound.\\nIt is said that women's voices are higher and louder than men's, so they can reach the gods' ears first. Therefore, in an emergency, even men will make a soft sound like women, shouting two or three times.\\n(8) peutanke... Has the same meaning as rimimse, but it is a more commonly used word. rimimse is a slightly more difficult word.\"\n",
      "}{\n",
      "  \"comment\": \"Translated from Chinese to English, maintaining the original meaning and using simple, modern language. Terms that could not be directly translated were kept in their original form.\",\n",
      "  \"translation\": \"(1) pau: An onomatopoeia for the sound a fox makes.\\n(2) pushtotta: A bag-like item used during sea hunting to store fire-making tools, medicine, and other small necessities. Similar items include piuchiop and karop, but these are made from reeds or attush and used on land. pushtotta is made from bear skin, seal skin, or other fur, making it waterproof and suitable for use at sea.\\n(3) noya ai: An arrow made of mugwort. Mugwort is a sacred grass to the Ainu. It is said that being shot by a mugwort arrow prevents one from floating, making it the thing that demons fear most. Therefore, it is considered an essential item for long journeys.\\n(4) Originally, men's and women's toilets were separate. ashinru and eosineru both mean toilet.\\nAmong foxes, the black fox is considered the most noble. Capes protruding into the sea are often the territory of black foxes, and it is said that a black fox will not allow its voice to be heard unless something very significant is happening.\\nOkikurumi (Okikirmui), Samayunkur, and Shupunramka are cousins. Shupunramka is the oldest, and Okikirmui is the youngest. Shupunramka is gentle and introverted, so there are not many stories about him. Samayunkur is hot-tempered, lacks wisdom, and is reckless, cowardly, and has a bad personality. Okikirmui, on the other hand, is wise like a god, compassionate, brave, and great, so there are countless stories about him.\"\n",
      "}{\n",
      "  \"comment\": \"Translation from Chinese to English, based on Japanese footnotes about Ainu chants. Keeping original meaning and using simple English.\",\n",
      "  \"translation\": \"(1) Amatupo (弩いしゆみ), which is the installation of \\\"mechanism bow\\\". (2) Swords. These are different from the swords used in war. Usually, they are hung at the right seat where treasures are piled up at home. They are not used in war, but they are used in occasions such as uniwente.\"\n",
      "}{\n",
      "  \"comment\": \"Okay, I will translate the Chinese text into English, keeping the original meaning and using simple, modern language. I will preserve any untranslatable terms in their original language.\",\n",
      "  \"translation\": \"Please provide the Chinese text you would like me to translate.\"\n",
      "}{\n",
      "  \"comment\": \"The user requested a translation from Chinese to English of a text that is originally a translation from Japanese.\",\n",
      "  \"translation\": \"Footnotes explaining Ainu chants.\"\n",
      "}{\n",
      "  \"comment\": \"Translated from Chinese to English, keeping the original meaning and using simple language. 'katken' is kept as is since it's an Ainu term.\",\n",
      "  \"translation\": \"katken: River Glass. It has been regarded as a very auspicious bird since ancient times.\"\n",
      "}{\n",
      "  \"comment\": \"Translated from Chinese to English, maintaining the original meaning and using simple, modern language. Terms that are difficult to translate are kept in their original form.\",\n",
      "  \"translation\": \"This object, decorated with gohei, is used when offering sacred sake to the gods. This kike-ush-pashui acts as a proxy for humans and is said to convey the messages that humans want to send to the gods. Ordinary chopsticks without gohei decorations are called iku pashui (chopsticks for feasts).\"\n",
      "}{\n",
      "  \"comment\": \"The user requested a translation from Chinese to English of a text that is originally a translation from Japanese.\",\n",
      "  \"translation\": \"Footnotes explaining Ainu chants.\"\n",
      "}{\n",
      "  \"comment\": \"The user requested a translation from Chinese to English of a text that is originally a translation from Japanese.\",\n",
      "  \"translation\": \"Please provide the Chinese text you would like me to translate into English.\"\n",
      "}{\n",
      "  \"comment\": \"Translated from Chinese to English, keeping the original meaning and using simple language. 'iwan poknashir' is kept as is since it's a specific term.\",\n",
      "  \"translation\": \"iwan poknashir......Six Hells. There are six layers of worlds beneath the ground, inhabited by all kinds of demons.\"\n",
      "}{\n",
      "  \"comment\": \"Translated from Chinese to English, keeping the original meaning and using simple language. Terms that are difficult to translate are kept in the original language.\",\n",
      "  \"translation\": \"(1) achikara......means \\\"dirty.\\\" It carries a sense of strangeness and arrogance.\\nIn this story, Okikirmui's father and pon nitnekamui's father had a very fierce war before, so pon okikirmui and pon nitnekamui are in a hostile relationship. The details of their fathers' war are described in detail in another story.\"\n",
      "}{\n",
      "  \"comment\": \"Translation from Chinese to English of Ainu chant footnotes, maintaining original meaning and using simple language. Terms that cannot be translated are kept in the original language.\",\n",
      "  \"translation\": \"(1) kinatantuka......A bundle of cattails. Cattails are woven into a mat-like bedding. However, dry cattails cannot be woven directly, so they need to be slightly moistened before use. In this story, the woman probably brought the cattails to the river for this reason.\\n\\n(2) i-okapushpa. People highly avoid saying the names of deceased parents or relatives, or even talking about them in general. This is called i-okapushpa. In addition, digging up someone's hidden secrets and telling everyone, or revealing their embarrassing past actions, is also called i-okapushpa.\\n\\n(3) nimakitara......Baring fangs. This refers to dogs. Hunters in the mountains bring dogs when hunting. Being attacked by a dog baring its teeth is the most terrifying thing, so dogs are called by this name to express fear.\"\n",
      "}"
     ]
    }
   ],
   "source": [
    "# process the translation in batch mode\n",
    "\n",
    "for song_no in range(start_at, end_at + 1):\n",
    "\n",
    "    md_name_part = get_output_file_name_key(ainu_titles[song_no - 1])\n",
    "\n",
    "    with open(f\"Initial_LLM_prompts_and_translations_footnotes/Chinese_Translation_JSON/{song_no}_{md_name_part}.json\", \"r\", encoding=\"utf8\") as f:\n",
    "        data_dict = json.load(f)\n",
    "\n",
    "        poetic_translation = generate(client,generate_content_config,model,input_text=data_dict['chinese_translation'],prompt=poetic_translation_prompt)\n",
    "\n",
    "        poetic_translation_dict = json.loads(poetic_translation)\n",
    "\n",
    "        #descriptive_translation = generate(client,generate_content_config,model,input_text=japanese_story,prompt=descriptive_translation_prompt)\n",
    "\n",
    "        md_output = md_template.format(translated_language=\"English\", original_language=\"Chinese\", ainu_title=ainu_titles[song_no - 1],\n",
    "                                poetic_prompt=poetic_translation_prompt,\n",
    "                                japanese_title=japanese_titles[song_no],\n",
    "                                input_text = data_dict['chinese_translation'],\n",
    "                                output_poetic=poetic_translation_dict['translation'])\n",
    "\n",
    "        data_dict['english_translation'] = poetic_translation_dict['translation']\n",
    "        data_dict['comment'] = poetic_translation_dict['comment']\n",
    "        #data_dict['japanese_translation'] = data_dict['input_text']\n",
    "        #del data_dict['input_text']\n",
    "\n",
    "        with open(f\"cross_lingual_LLM_prompts_and_translations_footnotes/English_Translation_JSON/{song_no}_{md_name_part}.json\", \"w\", encoding=\"utf8\") as f:\n",
    "            json.dump(data_dict, f, ensure_ascii=False, indent=4)\n",
    "\n",
    "        with open(f\"cross_lingual_LLM_prompts_and_translations_footnotes/English_Translation/{song_no}_{md_name_part}_to_English.md\", \"w\", encoding=\"utf8\") as f:\n",
    "            f.write(md_output)\n",
    "\n"
   ]
  },
  {
   "cell_type": "code",
   "execution_count": null,
   "metadata": {},
   "outputs": [],
   "source": []
  },
  {
   "cell_type": "code",
   "execution_count": null,
   "metadata": {},
   "outputs": [],
   "source": []
  },
  {
   "cell_type": "code",
   "execution_count": null,
   "metadata": {},
   "outputs": [],
   "source": []
  }
 ],
 "metadata": {
  "kernelspec": {
   "display_name": "llama",
   "language": "python",
   "name": "python3"
  },
  "language_info": {
   "codemirror_mode": {
    "name": "ipython",
    "version": 3
   },
   "file_extension": ".py",
   "mimetype": "text/x-python",
   "name": "python",
   "nbconvert_exporter": "python",
   "pygments_lexer": "ipython3",
   "version": "3.11.11"
  }
 },
 "nbformat": 4,
 "nbformat_minor": 2
}
