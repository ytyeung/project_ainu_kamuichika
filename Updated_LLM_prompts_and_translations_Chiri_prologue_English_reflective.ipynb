{
 "cells": [
  {
   "cell_type": "code",
   "execution_count": 19,
   "metadata": {},
   "outputs": [],
   "source": [
    "import os\n",
    "from google import genai\n",
    "from google.genai import types\n",
    "from dotenv import load_dotenv\n",
    "from pydantic import BaseModel, Field\n",
    "import json\n",
    "\n",
    "import unicodedata\n",
    "import re\n",
    "\n",
    "from pydantic import BaseModel, Field"
   ]
  },
  {
   "cell_type": "code",
   "execution_count": 20,
   "metadata": {},
   "outputs": [],
   "source": [
    "load_dotenv()\n",
    "project_name = os.getenv('PROJECT_NAME')"
   ]
  },
  {
   "cell_type": "markdown",
   "metadata": {},
   "source": [
    "The story id, from 1 to 13 according to the 13 Ainu Kamuy Yukars translated by Chiri Yukie. The Yukar ID starts at 1. Chiri's Preface is 0."
   ]
  },
  {
   "cell_type": "code",
   "execution_count": 21,
   "metadata": {},
   "outputs": [],
   "source": [
    "class Translation(BaseModel):\n",
    "    \"\"\"The updated translation, and the comments for the update\"\"\"\n",
    "    updated_translation: str = Field(description=\"The updated translation\")\n",
    "    comment: str = Field(description=\"Comments on the translation update\")"
   ]
  },
  {
   "cell_type": "code",
   "execution_count": 22,
   "metadata": {},
   "outputs": [],
   "source": [
    "system_instruction_prompt = \"\"\"You are a professional translator. You know Japanese, English and Chinese. You can translate Japanese into either Chinese or English. You can also translation Chinese into English, and English into Chinese.\"\"\"\n",
    "\n",
    "client = genai.Client(\n",
    "      vertexai=True,\n",
    "      project=project_name,\n",
    "      location=\"us-central1\",\n",
    ")\n",
    "\n",
    "model = \"gemini-2.0-flash-001\"\n",
    "\n",
    "generate_content_config = types.GenerateContentConfig(\n",
    "    temperature = 0,\n",
    "    top_p = 0,\n",
    "    max_output_tokens = 8192,\n",
    "    response_mime_type = 'application/json',\n",
    "    response_schema = Translation,\n",
    "    safety_settings = [types.SafetySetting(\n",
    "      category=\"HARM_CATEGORY_HATE_SPEECH\",\n",
    "      threshold=\"OFF\"\n",
    "    ),types.SafetySetting(\n",
    "      category=\"HARM_CATEGORY_DANGEROUS_CONTENT\",\n",
    "      threshold=\"OFF\"\n",
    "    ),types.SafetySetting(\n",
    "      category=\"HARM_CATEGORY_SEXUALLY_EXPLICIT\",\n",
    "      threshold=\"OFF\"\n",
    "    ),types.SafetySetting(\n",
    "      category=\"HARM_CATEGORY_HARASSMENT\",\n",
    "      threshold=\"OFF\"\n",
    "    )],\n",
    "    system_instruction=[types.Part.from_text(text=system_instruction_prompt)],\n",
    "  )"
   ]
  },
  {
   "cell_type": "code",
   "execution_count": 23,
   "metadata": {},
   "outputs": [],
   "source": [
    "reflection_prompt = \"\"\"You are translating the following Japanese text into English. The original text is a prologue. \n",
    "You have 2 versions of English translations at hand.\n",
    "\n",
    "Here are your tasks:\n",
    "\n",
    "1. Compare the two English translations with the original Japanese text. List out the Pros and Cons of the two Translations.\n",
    "2. Choose a better translation. Accuracy of meaning is the most important criterion. Easy to understand is the second.\n",
    "3. Based on the better translation, translate the Japanese text into English again, incorporating the Pros of the two translations.\n",
    "\n",
    "Keep the original Japanese meaning accurately. Use modern and simple English for easy understanding. \n",
    "If a term cannot be translated, keep the original language.\n",
    "\n",
    "This is the Japanese text.\n",
    "{japanese_text}\n",
    "\n",
    "This is the English Translation 1.\n",
    "{english_translation_1}\n",
    "\n",
    "This is the English Translation 2.\n",
    "{english_translation_2}\n",
    "\"\"\"\n"
   ]
  },
  {
   "cell_type": "code",
   "execution_count": 24,
   "metadata": {},
   "outputs": [],
   "source": [
    "def generate(client: genai.Client,generate_content_config :types.GenerateContentConfig,model :str, /, prompt :str):\n",
    "\n",
    "    text_full_prompt = text1 = types.Part.from_text(text=f\"{prompt}\")\n",
    "\n",
    "    output = \"\"\n",
    "\n",
    "    contents = [\n",
    "      types.Content(\n",
    "        role=\"user\",\n",
    "        parts=[\n",
    "          text_full_prompt\n",
    "        ]\n",
    "      )\n",
    "    ]\n",
    "\n",
    "    for chunk in client.models.generate_content_stream(\n",
    "        model = model,\n",
    "        contents = contents,\n",
    "        config = generate_content_config,\n",
    "        ):\n",
    "        print(chunk.text, end=\"\")\n",
    "        output += chunk.text\n",
    "\n",
    "    return output\n",
    "\n",
    "def get_output_file_name_key(title :str):\n",
    "    # setup the output file name\n",
    "    s = title.split()\n",
    "    md_name_part = s[0]\n",
    "\n",
    "    name_2nd_part = \"\"\n",
    "\n",
    "    for text in s:\n",
    "        if text.startswith('“'):\n",
    "            name_2nd_part = text.replace('“', '').replace('”', '')\n",
    "        \n",
    "    md_name_part += \"_\" + name_2nd_part\n",
    "\n",
    "    return md_name_part\n",
    "\n",
    "\n"
   ]
  },
  {
   "cell_type": "code",
   "execution_count": 25,
   "metadata": {},
   "outputs": [],
   "source": [
    "# Read the markdown template for writing the Chinese translations to Markdown file\n",
    "\n",
    "#read in the template\n",
    "with open(\"templates/iter1_output_md_template\", \"r\", encoding=\"utf8\") as f:\n",
    "    md_template = f.read()\n",
    "    md_template = unicodedata.normalize('NFKC', md_template)"
   ]
  },
  {
   "cell_type": "code",
   "execution_count": 26,
   "metadata": {},
   "outputs": [],
   "source": [
    "# read the content page of Ainu original text and get the original title\n",
    "with open(\"original_Ainu_text/content.txt\", \"r\", encoding=\"utf8\") as f:\n",
    "    ainu_content = f.read()\n",
    "    ainu_content = unicodedata.normalize('NFKC', ainu_content)\n",
    "\n",
    "\n",
    "s=re.split(r'\\n\\n', ainu_content)\n",
    "ainu_titles = re.split(r'\\n', s[1])"
   ]
  },
  {
   "cell_type": "code",
   "execution_count": 27,
   "metadata": {},
   "outputs": [
    {
     "name": "stdout",
     "output_type": "stream",
     "text": [
      "{\n",
      "  \"comment\": \"## Analysis of the Two Translations:\\n\\n**Translation 1: Pros**\\n*   Flows well and reads naturally in English.\\n*   Uses vivid language and imagery.\\n*   Captures the overall tone and sentiment of the original text.\\n\\n**Translation 1: Cons**\\n*   Some minor inaccuracies in translating specific details (e.g., the description of autumn).\\n*   Could benefit from including some of the original Japanese terms for cultural elements to preserve authenticity.\\n\\n**Translation 2: Pros**\\n*   More literal and accurate in translating specific details and cultural references.\\n*   Includes original Japanese terms (Fuki, Susuki) which adds authenticity.\\n\\n**Translation 2: Cons**\\n*   The English is slightly less natural and fluid compared to Translation 1.\\n*   Some sentences are a bit clunky and could be phrased more elegantly.\\n\\n**Choice of Better Translation:**\\n\\nTranslation 2 is slightly better because accuracy is the most important criterion. It includes more specific details and cultural references from the original text. However, it needs improvement in terms of fluency and naturalness.\\n\\n## Updated Translation Strategy:\\n\\nThe updated translation will be based on Translation 2, incorporating the strengths of Translation 1 to improve readability and flow. The goal is to maintain accuracy while making the English more natural and engaging. I will keep the original Japanese terms where appropriate and provide explanations if necessary.\",\n",
      "  \"updated_translation\": \"Prologue\\n\\nLong ago, this vast Hokkaido was the free land of our ancestors. Like innocent children, they were embraced by beautiful nature, living leisurely and happily. They were truly the darlings of nature, such fortunate people!\\n\\nIn winter, they kicked away the thick snow covering the forests, braving the freezing cold to hunt bears across mountains and fields. In summer, accompanied by the songs of white gulls on the breezy, green-waved sea, they floated on leaf-like canoes, fishing all day long. In the flower-filled spring, they basked in the gentle sunlight, celebrating with the ever-singing birds, picking *Fuki* (butterbur) and mugwort. In the autumn of fiery red leaves, they parted the wind-blown, neatly aligned *Susuki* (pampas grass), and until the bonfires for salmon fishing died out late at night, they dreamed under the bright moon, accompanied by the deer's calls in the valleys. Ah, what a joyful life! That peaceful state is now a thing of the past. Dreams shattered for decades, this land has undergone drastic changes, with mountains and fields becoming villages, and villages becoming towns, gradually being developed.\\n\\nThe natural scenery of ancient times has gradually disappeared, and where have the many people who once lived happily in the fields and mountains gone? We, the few remaining of our people, can only stare in astonishment at the ever-advancing world. Moreover, the light of the beautiful souls, once governed by religious beliefs in every action, has vanished from those eyes, filled with anxiety and dissatisfaction, becoming dull and dim, unable to see the road ahead, forced to rely on the mercy of others. What a pitiful sight! Ah, things on the verge of extinction... that is our current name, what a sad name we bear!\\n\\nLong ago, our happy ancestors could never have imagined that their homeland would eventually become so miserable.\\n\\nTime flows on, and the world develops infinitely. In the fierce arena of competition, even as we now expose the ugly sight of defeat, someday, if two or three strong individuals emerge to walk alongside the ever-advancing era, that day will surely come. That is truly our fervent wish, the thing we pray for day and night.\\n\\nBut... our beloved ancestors, the many languages they used to communicate with each other in daily life, will all those beautiful words, worn out and left behind, also disappear mercilessly along with the weak who are about to perish? Ah, what a painful and regrettable thing that would be!\\n\\nAs an Ainu, raised in the Ainu language, on rainy nights and snowy nights, whenever I have free time, I gather together and record, with clumsy strokes, a very small part of the various stories told by our ancestors.\\n\\nIf these words can be read by the many who understand us, I will, together with our Ainu ancestors, feel immense joy and supreme happiness.\\n\\nMarch 1, Taisho 11 (1922)\\n\\nChiri Yukie\"\n",
      "}"
     ]
    }
   ],
   "source": [
    "with open(f\"Initial_LLM_prompts_and_translations_main_text/English_Translation_JSON/Chiri_Yukie_prologue.json\", \"r\", encoding=\"utf8\") as f:\n",
    "    data_dict = json.load(f)\n",
    "\n",
    "with open(f\"cross_lingual_LLM_prompts_and_translations_main_text/English_Translation_JSON/Chiri_Yukie_prologue.json\", \"r\", encoding=\"utf8\") as f:\n",
    "     data_dict_2 = json.load(f)\n",
    "\n",
    "reflection_prompt_formatted = reflection_prompt.format(japanese_text=data_dict['japanese_translation'],\n",
    "                                                           english_translation_1=data_dict['english_translation'],\n",
    "                                                           english_translation_2=data_dict_2['english_translation'])\n",
    "\n",
    "updated_translation = generate(client,generate_content_config,model,prompt = reflection_prompt_formatted)\n",
    "\n",
    "updated_translation_dict = json.loads(updated_translation)\n",
    "#print(updated_translation_dict['updated_translation'])\n",
    "#print(updated_translation_dict['comment'])\n",
    "\n",
    "data_dict['english_translation_1'] = data_dict['english_translation']\n",
    "data_dict['english_translation_2'] = data_dict_2['english_translation']\n",
    "\n",
    "del data_dict['english_translation']\n",
    "\n",
    "data_dict['updated_english_translation'] = updated_translation_dict['updated_translation']\n",
    "data_dict['comment'] = updated_translation_dict['comment']\n",
    "\n",
    "\n",
    "md_output = md_template.format(translated_language=\"English\", ainu_title=data_dict['ainu_title'],\n",
    "                formatted_prompt=reflection_prompt_formatted,\n",
    "                japanese_title=data_dict['japanese_title'], input_japanese = data_dict['japanese_translation'],\n",
    "                output= f\"{data_dict['updated_english_translation']}\\n\\n{data_dict['comment']}\")\n",
    "\n",
    "with open(f\"Updated_LLM_prompts_and_translations_main_text/English_Translation_JSON/Chiri_Yukie_prologue.json\", \"w\", encoding=\"utf8\") as f:\n",
    "    json.dump(data_dict, f, ensure_ascii=False, indent=4)\n",
    "\n",
    "with open(f\"Updated_LLM_prompts_and_translations_main_text/English_Translation/Chiri_Yukie_prologue.md\", \"w\", encoding=\"utf8\") as f:\n",
    "    f.write(md_output)\n",
    "\n"
   ]
  },
  {
   "cell_type": "code",
   "execution_count": null,
   "metadata": {},
   "outputs": [],
   "source": []
  },
  {
   "cell_type": "code",
   "execution_count": null,
   "metadata": {},
   "outputs": [],
   "source": []
  },
  {
   "cell_type": "code",
   "execution_count": null,
   "metadata": {},
   "outputs": [],
   "source": []
  }
 ],
 "metadata": {
  "kernelspec": {
   "display_name": "llama",
   "language": "python",
   "name": "python3"
  },
  "language_info": {
   "codemirror_mode": {
    "name": "ipython",
    "version": 3
   },
   "file_extension": ".py",
   "mimetype": "text/x-python",
   "name": "python",
   "nbconvert_exporter": "python",
   "pygments_lexer": "ipython3",
   "version": "3.11.11"
  }
 },
 "nbformat": 4,
 "nbformat_minor": 2
}
