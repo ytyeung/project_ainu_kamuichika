{
 "cells": [
  {
   "cell_type": "code",
   "execution_count": 11,
   "metadata": {},
   "outputs": [],
   "source": [
    "import os\n",
    "from google import genai\n",
    "from google.genai import types\n",
    "from dotenv import load_dotenv\n",
    "from pydantic import BaseModel, Field\n",
    "import json\n",
    "\n",
    "import unicodedata\n",
    "import re\n",
    "\n",
    "from pydantic import BaseModel, Field"
   ]
  },
  {
   "cell_type": "code",
   "execution_count": 12,
   "metadata": {},
   "outputs": [],
   "source": [
    "load_dotenv()\n",
    "project_name = os.getenv('PROJECT_NAME')"
   ]
  },
  {
   "cell_type": "markdown",
   "metadata": {},
   "source": [
    "The story id, from 1 to 13 according to the 13 Ainu Kamuy Yukars translated by Chiri Yukie. The Yukar ID starts at 1. Chiri's Preface is 0."
   ]
  },
  {
   "cell_type": "code",
   "execution_count": 13,
   "metadata": {},
   "outputs": [],
   "source": [
    "start_at = 13\n",
    "end_at = 13"
   ]
  },
  {
   "cell_type": "code",
   "execution_count": 14,
   "metadata": {},
   "outputs": [],
   "source": [
    "class Translation(BaseModel):\n",
    "    \"\"\"The updated translation, and the comments for the update\"\"\"\n",
    "    updated_translation: str = Field(description=\"The updated translation\")\n",
    "    comment: str = Field(description=\"Comments on the translation update\")"
   ]
  },
  {
   "cell_type": "code",
   "execution_count": 15,
   "metadata": {},
   "outputs": [],
   "source": [
    "system_instruction_prompt = \"\"\"You are a professional translator. You know Japanese, English and Chinese. You can translate Japanese into either Chinese or English. You can also translation Chinese into English, and English into Chinese.\"\"\"\n",
    "\n",
    "client = genai.Client(\n",
    "      vertexai=True,\n",
    "      project=project_name,\n",
    "      location=\"us-central1\",\n",
    ")\n",
    "\n",
    "model = \"gemini-2.0-flash-001\"\n",
    "\n",
    "generate_content_config = types.GenerateContentConfig(\n",
    "    temperature = 0,\n",
    "    top_p = 0,\n",
    "    max_output_tokens = 8192,\n",
    "    response_mime_type = 'application/json',\n",
    "    response_schema = Translation,\n",
    "    safety_settings = [types.SafetySetting(\n",
    "      category=\"HARM_CATEGORY_HATE_SPEECH\",\n",
    "      threshold=\"OFF\"\n",
    "    ),types.SafetySetting(\n",
    "      category=\"HARM_CATEGORY_DANGEROUS_CONTENT\",\n",
    "      threshold=\"OFF\"\n",
    "    ),types.SafetySetting(\n",
    "      category=\"HARM_CATEGORY_SEXUALLY_EXPLICIT\",\n",
    "      threshold=\"OFF\"\n",
    "    ),types.SafetySetting(\n",
    "      category=\"HARM_CATEGORY_HARASSMENT\",\n",
    "      threshold=\"OFF\"\n",
    "    )],\n",
    "    system_instruction=[types.Part.from_text(text=system_instruction_prompt)],\n",
    "  )"
   ]
  },
  {
   "cell_type": "code",
   "execution_count": 16,
   "metadata": {},
   "outputs": [],
   "source": [
    "reflection_prompt = \"\"\"You are translating the following Japanese text into Chinese. The original text is a prologue. \n",
    "You have 2 versions of Chinese translations at hand.\n",
    "\n",
    "Here are your tasks:\n",
    "\n",
    "1. Compare the two Chinese translations with the original Japanese text. List out the Pros and Cons of the two Translations.\n",
    "2. Choose a better translation. Accuracy of meaning is the most important criterion. Easy to understand is the second.\n",
    "3. Based on the better translation, translate the Japanese text into Chinese again, incorporating the Pros of the two translations.\n",
    "\n",
    "Keep the original Japanese meaning accurately. Use modern Chinese for easy understanding. Display in Traditional Chinese. \n",
    "If a term cannot be translated, keep the original language.\n",
    "\n",
    "This is the Japanese text.\n",
    "{japanese_text}\n",
    "\n",
    "This is the Chinese Translation 1.\n",
    "{chinese_translation_1}\n",
    "\n",
    "This is the Chinese Translation 2.\n",
    "{chinese_translation_2}\n",
    "\"\"\"\n"
   ]
  },
  {
   "cell_type": "code",
   "execution_count": 17,
   "metadata": {},
   "outputs": [],
   "source": [
    "def generate(client: genai.Client,generate_content_config :types.GenerateContentConfig,model :str, /, prompt :str):\n",
    "\n",
    "    text_full_prompt = text1 = types.Part.from_text(text=f\"{prompt}\")\n",
    "\n",
    "    output = \"\"\n",
    "\n",
    "    contents = [\n",
    "      types.Content(\n",
    "        role=\"user\",\n",
    "        parts=[\n",
    "          text_full_prompt\n",
    "        ]\n",
    "      )\n",
    "    ]\n",
    "\n",
    "    for chunk in client.models.generate_content_stream(\n",
    "        model = model,\n",
    "        contents = contents,\n",
    "        config = generate_content_config,\n",
    "        ):\n",
    "        print(chunk.text, end=\"\")\n",
    "        output += chunk.text\n",
    "\n",
    "    return output\n",
    "\n",
    "def get_output_file_name_key(title :str):\n",
    "    # setup the output file name\n",
    "    s = title.split()\n",
    "    md_name_part = s[0]\n",
    "\n",
    "    name_2nd_part = \"\"\n",
    "\n",
    "    for text in s:\n",
    "        if text.startswith('“'):\n",
    "            name_2nd_part = text.replace('“', '').replace('”', '')\n",
    "        \n",
    "    md_name_part += \"_\" + name_2nd_part\n",
    "\n",
    "    return md_name_part\n",
    "\n",
    "\n"
   ]
  },
  {
   "cell_type": "code",
   "execution_count": 18,
   "metadata": {},
   "outputs": [],
   "source": [
    "# Read the markdown template for writing the Chinese translations to Markdown file\n",
    "\n",
    "#read in the template\n",
    "with open(\"templates/iter1_output_md_template\", \"r\", encoding=\"utf8\") as f:\n",
    "    md_template = f.read()\n",
    "    md_template = unicodedata.normalize('NFKC', md_template)"
   ]
  },
  {
   "cell_type": "code",
   "execution_count": 19,
   "metadata": {},
   "outputs": [],
   "source": [
    "# read the content page of Ainu original text and get the original title\n",
    "with open(\"original_Ainu_text/content.txt\", \"r\", encoding=\"utf8\") as f:\n",
    "    ainu_content = f.read()\n",
    "    ainu_content = unicodedata.normalize('NFKC', ainu_content)\n",
    "\n",
    "\n",
    "s=re.split(r'\\n\\n', ainu_content)\n",
    "ainu_titles = re.split(r'\\n', s[1])"
   ]
  },
  {
   "cell_type": "code",
   "execution_count": 20,
   "metadata": {},
   "outputs": [
    {
     "name": "stdout",
     "output_type": "stream",
     "text": [
      "{\n",
      "  \"comment\": \"## Analysis of the Two Chinese Translations of the Japanese Prologue\\n\\n**Translation 1: Pros and Cons**\\n\\n*   **Pros:**\\n    *   More literal translation, closely following the original Japanese sentence structure.\\n    *   Uses more classical Chinese vocabulary, which can add a sense of historical depth.\\n    *   Generally accurate in conveying the core meaning.\\n*   **Cons:**\\n    *   Sometimes overly literal, resulting in slightly awkward phrasing in modern Chinese.\\n    *   The classical vocabulary, while adding depth, might make it slightly less accessible to a modern reader.\\n\\n**Translation 2: Pros and Cons**\\n\\n*   **Pros:**\\n    *   More natural and fluent in modern Chinese.\\n    *   Easier to understand due to simpler sentence structures and vocabulary.\\n    *   Effectively captures the overall tone and sentiment of the original.\\n*   **Cons:**\\n    *   Less literal, with some minor paraphrasing that might slightly deviate from the original's nuances.\\n    *   The simplification might lose some of the original's poetic quality.\\n\\n**Choice of Better Translation:**\\n\\nTranslation 2 is slightly better because it prioritizes readability and fluency in modern Chinese, while still maintaining a good level of accuracy. The goal is to make the text accessible to a contemporary audience, and Translation 2 achieves this more effectively.\\n\\n**Incorporating Pros and Translation:**\\n\\nI will use Translation 2 as a base and incorporate elements from Translation 1 to enhance accuracy and retain some of the original's nuances where appropriate. The goal is to create a translation that is both accurate and easy to understand.\",\n",
      "  \"updated_translation\": \"## 序\\n\\n很久以前，這片廣闊的北海道土地是我們祖先自由的國度。他們像天真的孩子一樣，被美麗的大自然擁抱，悠閒快樂地生活著。 真的，他們是大自然的寵兒，是如此幸福的人們。\\n\\n在冬天，他們踢開覆蓋森林的厚厚積雪，冒著冰凍天地的寒氣，穿越一座又一座山去獵熊。 在夏天，他們在涼風吹拂、綠波蕩漾的海面上，與白鷗的歌聲為伴，漂浮在如樹葉般的小舟上，終日捕魚。 在百花盛開的春天，他們沐浴在柔和的陽光下，與永遠鳴叫的鳥兒一起歌唱，採集蜂斗菜和艾蒿。 在深紅色的秋天，他們分開芒草叢，芒草的穗在秋風中搖曳，直到捕鮭魚的篝火在傍晚消失。 鹿的叫聲在山谷中迴盪，他們在圓月下編織夢想。 啊，多麼快樂的生活啊！\\n\\n那個和平的世界現在已經成為過去。 自那些夢想破滅以來，已經過去了幾十年。 這片土地經歷了快速的轉變，山野逐漸讓位於村莊，村莊讓位於城鎮。\\n\\n在我們還沒意識到的時候，太古時代的自然風貌已經褪色，曾經在田野和山脈中快樂生活的人們都到哪裡去了？ 我們僅存的族人只能驚訝地看著這個變化中的世界。 然而，那些古代人美麗的靈魂，他們的一舉一動都受到宗教情感的支配，現在已經從他們的眼中消失了，取而代之的是焦慮和不滿，變得遲鈍和陰暗，無法看清前進的方向。 他們不得不依靠別人的憐憫，真是可悲的景象。 哦，那些正在消亡的人……那就是我們現在的名字。 我們背負著多麼悲傷的名字啊！\\n\\n過去，我們幸福的祖先無論如何也無法想像，自己的這片故鄉有一天會淪落到如此淒慘的境地。\\n\\n時間不停地流逝，世界無限地前進。 在我們這些正在這激烈的競爭舞台上暴露失敗者醜態的人中，也許有一天會出現兩三個堅強的個體，最終有一天我們可以跟上這個前進的世界。 這確實是我們熱切的希望，我們日夜為此祈禱。\\n\\n但是……我們敬愛的祖先過去每天用來互相交流的那麼多語言，他們口耳相傳下來的古老而美麗的文字，會不會隨著消亡的弱者一起消失呢？ 哦，那太令人心碎和遺憾了！\\n\\n我生為Ainu人，在Ainu語中長大，每當我有空閒時間，我就用笨拙的文字寫下我們的祖先過去常在下雨的夜晚和下雪的夜晚聚集在一起欣賞的許多故事中的一兩個非常小的故事。\\n\\n如果許多了解我們的人都能讀到這篇文章，我和我們的祖先都會感到無比的喜悅和至高的幸福。\\n\\n大正十一年三月一日\\n\\nChiri Yukie\"\n",
      "}"
     ]
    }
   ],
   "source": [
    "with open(f\"Initial_LLM_prompts_and_translations_main_text/Chinese_Translation_JSON/Chiri_Yukie_prologue.json\", \"r\", encoding=\"utf8\") as f:\n",
    "    data_dict = json.load(f)\n",
    "\n",
    "with open(f\"cross_lingual_LLM_prompts_and_translations_main_text/Chinese_Translation_JSON/Chiri_Yukie_prologue.json\", \"r\", encoding=\"utf8\") as f:\n",
    "     data_dict_2 = json.load(f)\n",
    "\n",
    "reflection_prompt_formatted = reflection_prompt.format(japanese_text=data_dict['japanese_translation'],\n",
    "                                                           chinese_translation_1=data_dict['chinese_translation'],\n",
    "                                                           chinese_translation_2=data_dict_2['chinese_translation'])\n",
    "\n",
    "updated_translation = generate(client,generate_content_config,model,prompt = reflection_prompt_formatted)\n",
    "\n",
    "updated_translation_dict = json.loads(updated_translation)\n",
    "#print(updated_translation_dict['updated_translation'])\n",
    "#print(updated_translation_dict['comment'])\n",
    "\n",
    "data_dict['chinese_translation_1'] = data_dict['chinese_translation']\n",
    "data_dict['chinese_translation_2'] = data_dict_2['chinese_translation']\n",
    "\n",
    "del data_dict['chinese_translation']\n",
    "\n",
    "data_dict['updated_chinese_translation'] = updated_translation_dict['updated_translation']\n",
    "data_dict['comment'] = updated_translation_dict['comment']\n",
    "\n",
    "\n",
    "md_output = md_template.format(translated_language=\"Chinese\", ainu_title=data_dict['ainu_title'],\n",
    "                formatted_prompt=reflection_prompt_formatted,\n",
    "                japanese_title=data_dict['japanese_title'], input_japanese = data_dict['japanese_translation'],\n",
    "                output= f\"{data_dict['updated_chinese_translation']}\\n\\n{data_dict['comment']}\")\n",
    "\n",
    "with open(f\"Updated_LLM_prompts_and_translations_main_text/Chinese_Translation_JSON/Chiri_Yukie_prologue.json\", \"w\", encoding=\"utf8\") as f:\n",
    "    json.dump(data_dict, f, ensure_ascii=False, indent=4)\n",
    "\n",
    "with open(f\"Updated_LLM_prompts_and_translations_main_text/Chinese_Translation/Chiri_Yukie_prologue.md\", \"w\", encoding=\"utf8\") as f:\n",
    "    f.write(md_output)\n",
    "\n"
   ]
  },
  {
   "cell_type": "code",
   "execution_count": null,
   "metadata": {},
   "outputs": [],
   "source": []
  },
  {
   "cell_type": "code",
   "execution_count": null,
   "metadata": {},
   "outputs": [],
   "source": []
  },
  {
   "cell_type": "code",
   "execution_count": null,
   "metadata": {},
   "outputs": [],
   "source": []
  }
 ],
 "metadata": {
  "kernelspec": {
   "display_name": "llama",
   "language": "python",
   "name": "python3"
  },
  "language_info": {
   "codemirror_mode": {
    "name": "ipython",
    "version": 3
   },
   "file_extension": ".py",
   "mimetype": "text/x-python",
   "name": "python",
   "nbconvert_exporter": "python",
   "pygments_lexer": "ipython3",
   "version": "3.11.11"
  }
 },
 "nbformat": 4,
 "nbformat_minor": 2
}
