{
 "cells": [
  {
   "cell_type": "code",
   "execution_count": 12,
   "metadata": {},
   "outputs": [],
   "source": [
    "from google import genai\n",
    "from google.genai import types\n",
    "import base64\n",
    "import json\n",
    "import os\n",
    "from dotenv import load_dotenv\n",
    "\n",
    "from pydantic import BaseModel, Field\n",
    "\n",
    "import unicodedata\n",
    "import re"
   ]
  },
  {
   "cell_type": "code",
   "execution_count": 13,
   "metadata": {},
   "outputs": [],
   "source": [
    "load_dotenv()\n",
    "project_name = os.getenv('PROJECT_NAME')"
   ]
  },
  {
   "cell_type": "markdown",
   "metadata": {},
   "source": [
    "The story id, from 1 to 13 according to the 13 Ainu Kamuy Yukars translated by Chiri Yukie. The Yukar ID starts at 1. Chiri's Preface is 0."
   ]
  },
  {
   "cell_type": "code",
   "execution_count": 14,
   "metadata": {},
   "outputs": [],
   "source": [
    "start_at = 11\n",
    "end_at = 11"
   ]
  },
  {
   "cell_type": "code",
   "execution_count": 15,
   "metadata": {},
   "outputs": [],
   "source": [
    "class Translation(BaseModel):\n",
    "    \"\"\"The translation, and the comments\"\"\"\n",
    "    translation: str = Field(description=\"The translation\")\n",
    "    comment: str = Field(description=\"Comments on the translation\")"
   ]
  },
  {
   "cell_type": "code",
   "execution_count": 16,
   "metadata": {},
   "outputs": [],
   "source": [
    "system_instruction_prompt = \"\"\"You are a professional translator. You know Japanese, English and Chinese. You can translate Japanese into either Chinese or English. You can also translate Chinese into English, and English into Chinese.\"\"\"\n",
    "\n",
    "client = genai.Client(\n",
    "      vertexai=True,\n",
    "      project=project_name,\n",
    "      location=\"us-central1\",\n",
    ")\n",
    "\n",
    "model = \"gemini-2.0-flash-001\"\n",
    "\n",
    "generate_content_config = types.GenerateContentConfig(\n",
    "    temperature = 0,\n",
    "    top_p = 0,\n",
    "    max_output_tokens = 8192,\n",
    "    response_mime_type = 'application/json',\n",
    "    response_schema = Translation,\n",
    "    safety_settings = [types.SafetySetting(\n",
    "      category=\"HARM_CATEGORY_HATE_SPEECH\",\n",
    "      threshold=\"OFF\"\n",
    "    ),types.SafetySetting(\n",
    "      category=\"HARM_CATEGORY_DANGEROUS_CONTENT\",\n",
    "      threshold=\"OFF\"\n",
    "    ),types.SafetySetting(\n",
    "      category=\"HARM_CATEGORY_SEXUALLY_EXPLICIT\",\n",
    "      threshold=\"OFF\"\n",
    "    ),types.SafetySetting(\n",
    "      category=\"HARM_CATEGORY_HARASSMENT\",\n",
    "      threshold=\"OFF\"\n",
    "    )],\n",
    "    system_instruction=[types.Part.from_text(text=system_instruction_prompt)],\n",
    "  )"
   ]
  },
  {
   "cell_type": "code",
   "execution_count": 17,
   "metadata": {},
   "outputs": [],
   "source": [
    "translation_prompt = \"\"\"Translate the following text from English to Chinese. The original text is translation from Japanese which is footnotes of Ainu chant. \n",
    "Keep the original meaning. Use modern Chinese. Display in Traditional Chinese. Only allow Chinese and English characters.\n",
    "If a term cannot be translated, keep the original language.\"\"\"\n",
    "\n",
    "#descriptive_translation_prompt = \"Translate the following text from Japanese to Chinese. Keep the original meanings. Display in Traditional Chinese.\""
   ]
  },
  {
   "cell_type": "code",
   "execution_count": 18,
   "metadata": {},
   "outputs": [],
   "source": [
    "# read the content page of Japanese translation and get the Japanese translated title\n",
    "with open(\"Chiri_Japanese_Translation/content.txt\", \"r\", encoding=\"utf8\") as f:\n",
    "    japanese_content = f.read()\n",
    "    japanese_content = unicodedata.normalize('NFKC', japanese_content)\n",
    "\n",
    "\n",
    "s=re.split(r'\\n\\n', japanese_content)\n",
    "japanese_titles = re.split(r'\\n', s[1])"
   ]
  },
  {
   "cell_type": "code",
   "execution_count": 19,
   "metadata": {},
   "outputs": [],
   "source": [
    "# read the content page of Ainu original text and get the original title\n",
    "with open(\"original_Ainu_text/content.txt\", \"r\", encoding=\"utf8\") as f:\n",
    "    ainu_content = f.read()\n",
    "    ainu_content = unicodedata.normalize('NFKC', ainu_content)\n",
    "\n",
    "\n",
    "s=re.split(r'\\n\\n', ainu_content)\n",
    "ainu_titles = re.split(r'\\n', s[1])"
   ]
  },
  {
   "cell_type": "code",
   "execution_count": 20,
   "metadata": {},
   "outputs": [],
   "source": [
    "# Read the markdown template for writing the Chinese translations to Markdown file\n",
    "\n",
    "#read in the template\n",
    "with open(\"templates/raw_output_md_template_cross_lingual\", \"r\", encoding=\"utf8\") as f:\n",
    "    md_template = f.read()\n",
    "    md_template = unicodedata.normalize('NFKC', md_template)"
   ]
  },
  {
   "cell_type": "code",
   "execution_count": 21,
   "metadata": {},
   "outputs": [],
   "source": [
    "def generate(client: genai.Client,generate_content_config :types.GenerateContentConfig,model :str, /,input_text :str, prompt :str):\n",
    "\n",
    "    text_full_prompt = text1 = types.Part.from_text(text=f\"{prompt}\\n\\n{input_text}\")\n",
    "\n",
    "    output = \"\"\n",
    "\n",
    "    contents = [\n",
    "      types.Content(\n",
    "        role=\"user\",\n",
    "        parts=[\n",
    "          text_full_prompt\n",
    "        ]\n",
    "      )\n",
    "    ]\n",
    "\n",
    "    for chunk in client.models.generate_content_stream(\n",
    "        model = model,\n",
    "        contents = contents,\n",
    "        config = generate_content_config,\n",
    "        ):\n",
    "        print(chunk.text, end=\"\")\n",
    "        output += chunk.text\n",
    "\n",
    "    return output\n",
    "\n",
    "def get_output_file_name_key(title :str):\n",
    "    # setup the output file name\n",
    "    s = title.split()\n",
    "    md_name_part = s[0]\n",
    "\n",
    "    name_2nd_part = \"\"\n",
    "\n",
    "    for text in s:\n",
    "        if text.startswith('“'):\n",
    "            name_2nd_part = text.replace('“', '').replace('”', '')\n",
    "        \n",
    "    md_name_part += \"_\" + name_2nd_part\n",
    "\n",
    "    return md_name_part\n",
    "\n"
   ]
  },
  {
   "cell_type": "code",
   "execution_count": 22,
   "metadata": {},
   "outputs": [
    {
     "name": "stdout",
     "output_type": "stream",
     "text": [
      "{\n",
      "  \"comment\": \"Translated from English to Traditional Chinese, keeping the original meaning and using modern Chinese. Terms that are difficult to translate are kept in the original language.\",\n",
      "  \"translation\": \"iwan poknashir......六層地獄。 在地底下有六層，各種惡魔居住在那裡。\"\n",
      "}"
     ]
    }
   ],
   "source": [
    "# process the translation in batch mode\n",
    "\n",
    "for song_no in range(start_at, end_at + 1):\n",
    "\n",
    "    md_name_part = get_output_file_name_key(ainu_titles[song_no - 1])\n",
    "\n",
    "    with open(f\"Initial_LLM_prompts_and_translations_footnotes/English_Translation_JSON/{song_no}_{md_name_part}.json\", \"r\", encoding=\"utf8\") as f:\n",
    "        data_dict = json.load(f)\n",
    "\n",
    "        poetic_translation = generate(client,generate_content_config,model,input_text=data_dict['english_translation'],prompt=translation_prompt)\n",
    "\n",
    "        poetic_translation_dict = json.loads(poetic_translation)\n",
    "\n",
    "        #descriptive_translation = generate(client,generate_content_config,model,input_text=japanese_story,prompt=descriptive_translation_prompt)\n",
    "\n",
    "        md_output = md_template.format(translated_language=\"Chinese\", original_language=\"English\", ainu_title=ainu_titles[song_no - 1],\n",
    "                                poetic_prompt=translation_prompt,\n",
    "                                japanese_title=japanese_titles[song_no],\n",
    "                                input_text = data_dict['english_translation'],\n",
    "                                output_poetic=poetic_translation_dict['translation'])\n",
    "\n",
    "        data_dict['chinese_translation'] = poetic_translation_dict['translation']\n",
    "        data_dict['comment'] = poetic_translation_dict['comment']\n",
    "        #data_dict['japanese_translation'] = data_dict['input_text']\n",
    "        #del data_dict['input_text']\n",
    "\n",
    "        with open(f\"cross_lingual_LLM_prompts_and_translations_footnotes/Chinese_Translation_JSON/{song_no}_{md_name_part}.json\", \"w\", encoding=\"utf8\") as f:\n",
    "            json.dump(data_dict, f, ensure_ascii=False, indent=4)\n",
    "\n",
    "        with open(f\"cross_lingual_LLM_prompts_and_translations_footnotes/Chinese_Translation/{song_no}_{md_name_part}_to_Chinese.md\", \"w\", encoding=\"utf8\") as f:\n",
    "            f.write(md_output)\n",
    "\n"
   ]
  },
  {
   "cell_type": "code",
   "execution_count": null,
   "metadata": {},
   "outputs": [],
   "source": []
  },
  {
   "cell_type": "code",
   "execution_count": null,
   "metadata": {},
   "outputs": [],
   "source": []
  },
  {
   "cell_type": "code",
   "execution_count": null,
   "metadata": {},
   "outputs": [],
   "source": []
  }
 ],
 "metadata": {
  "kernelspec": {
   "display_name": "llama",
   "language": "python",
   "name": "python3"
  },
  "language_info": {
   "codemirror_mode": {
    "name": "ipython",
    "version": 3
   },
   "file_extension": ".py",
   "mimetype": "text/x-python",
   "name": "python",
   "nbconvert_exporter": "python",
   "pygments_lexer": "ipython3",
   "version": "3.11.11"
  }
 },
 "nbformat": 4,
 "nbformat_minor": 2
}
