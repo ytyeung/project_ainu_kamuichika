{
 "cells": [
  {
   "cell_type": "code",
   "execution_count": 1,
   "metadata": {},
   "outputs": [],
   "source": [
    "import os\n",
    "from google import genai\n",
    "from google.genai import types\n",
    "from dotenv import load_dotenv\n",
    "from pydantic import BaseModel, Field\n",
    "import json\n",
    "\n",
    "import unicodedata\n",
    "import re\n",
    "\n",
    "from pydantic import BaseModel, Field"
   ]
  },
  {
   "cell_type": "code",
   "execution_count": 2,
   "metadata": {},
   "outputs": [],
   "source": [
    "load_dotenv()\n",
    "project_name = os.getenv('PROJECT_NAME')"
   ]
  },
  {
   "cell_type": "markdown",
   "metadata": {},
   "source": [
    "The story id, from 1 to 13 according to the 13 Ainu Kamuy Yukars translated by Chiri Yukie. The Yukar ID starts at 1. Chiri's Preface is 0."
   ]
  },
  {
   "cell_type": "code",
   "execution_count": 3,
   "metadata": {},
   "outputs": [],
   "source": [
    "start_at = 1\n",
    "end_at = 13"
   ]
  },
  {
   "cell_type": "code",
   "execution_count": 4,
   "metadata": {},
   "outputs": [],
   "source": [
    "class Translation(BaseModel):\n",
    "    \"\"\"The updated translation, and the comments for the update\"\"\"\n",
    "    updated_translation: str = Field(description=\"The updated translation\")\n",
    "    comment: str = Field(description=\"Comments on the translation update\")"
   ]
  },
  {
   "cell_type": "code",
   "execution_count": 5,
   "metadata": {},
   "outputs": [],
   "source": [
    "system_instruction_prompt = \"\"\"You are a professional translator. You know Japanese, English and Chinese. You can translate Japanese into either Chinese or English. You can also translation Chinese into English, and English into Chinese.\"\"\"\n",
    "\n",
    "client = genai.Client(\n",
    "      vertexai=True,\n",
    "      project=project_name,\n",
    "      location=\"us-central1\",\n",
    ")\n",
    "\n",
    "model = \"gemini-2.0-flash-001\"\n",
    "\n",
    "generate_content_config = types.GenerateContentConfig(\n",
    "    temperature = 0,\n",
    "    top_p = 0,\n",
    "    max_output_tokens = 8192,\n",
    "    response_mime_type = 'application/json',\n",
    "    response_schema = Translation,\n",
    "    safety_settings = [types.SafetySetting(\n",
    "      category=\"HARM_CATEGORY_HATE_SPEECH\",\n",
    "      threshold=\"OFF\"\n",
    "    ),types.SafetySetting(\n",
    "      category=\"HARM_CATEGORY_DANGEROUS_CONTENT\",\n",
    "      threshold=\"OFF\"\n",
    "    ),types.SafetySetting(\n",
    "      category=\"HARM_CATEGORY_SEXUALLY_EXPLICIT\",\n",
    "      threshold=\"OFF\"\n",
    "    ),types.SafetySetting(\n",
    "      category=\"HARM_CATEGORY_HARASSMENT\",\n",
    "      threshold=\"OFF\"\n",
    "    )],\n",
    "    system_instruction=[types.Part.from_text(text=system_instruction_prompt)],\n",
    "  )"
   ]
  },
  {
   "cell_type": "code",
   "execution_count": 6,
   "metadata": {},
   "outputs": [],
   "source": [
    "reflection_prompt = \"\"\"You are translating the following Japanese text into English. The original text is a Japanese translation of footnotes a Ainu chant. \n",
    "You have 2 versions of English translations at hand.\n",
    "\n",
    "Here are your tasks:\n",
    "\n",
    "1. Compare the two English translations with the original Japanese text. List out the Pros and Cons of the two Translations.\n",
    "2. Choose a better translation. Accuracy of meaning is the most important criterion. Easy to understand is the second.\n",
    "3. Based on the better translation, translate the Japanese text into English again, incorporating the Pros of the two translations.\n",
    "\n",
    "Keep the original Japanese meaning accurately. Use modern and simple English for easy understanding. \n",
    "If a term cannot be translated, keep the original language.\n",
    "For the text which are not in Japanese, keep the original form. \n",
    "\n",
    "This is the Japanese text.\n",
    "{japanese_text}\n",
    "\n",
    "This is the English Translation 1.\n",
    "{english_translation_1}\n",
    "\n",
    "This is the English Translation 2.\n",
    "{english_translation_2}\n",
    "\"\"\"\n"
   ]
  },
  {
   "cell_type": "code",
   "execution_count": 7,
   "metadata": {},
   "outputs": [],
   "source": [
    "def generate(client: genai.Client,generate_content_config :types.GenerateContentConfig,model :str, /, prompt :str):\n",
    "\n",
    "    text_full_prompt = text1 = types.Part.from_text(text=f\"{prompt}\")\n",
    "\n",
    "    output = \"\"\n",
    "\n",
    "    contents = [\n",
    "      types.Content(\n",
    "        role=\"user\",\n",
    "        parts=[\n",
    "          text_full_prompt\n",
    "        ]\n",
    "      )\n",
    "    ]\n",
    "\n",
    "    for chunk in client.models.generate_content_stream(\n",
    "        model = model,\n",
    "        contents = contents,\n",
    "        config = generate_content_config,\n",
    "        ):\n",
    "        print(chunk.text, end=\"\")\n",
    "        output += chunk.text\n",
    "\n",
    "    return output\n",
    "\n",
    "def get_output_file_name_key(title :str):\n",
    "    # setup the output file name\n",
    "    s = title.split()\n",
    "    md_name_part = s[0]\n",
    "\n",
    "    name_2nd_part = \"\"\n",
    "\n",
    "    for text in s:\n",
    "        if text.startswith('“'):\n",
    "            name_2nd_part = text.replace('“', '').replace('”', '')\n",
    "        \n",
    "    md_name_part += \"_\" + name_2nd_part\n",
    "\n",
    "    return md_name_part\n",
    "\n",
    "\n"
   ]
  },
  {
   "cell_type": "code",
   "execution_count": 8,
   "metadata": {},
   "outputs": [],
   "source": [
    "# Read the markdown template for writing the Chinese translations to Markdown file\n",
    "\n",
    "#read in the template\n",
    "with open(\"templates/iter1_output_md_template\", \"r\", encoding=\"utf8\") as f:\n",
    "    md_template = f.read()\n",
    "    md_template = unicodedata.normalize('NFKC', md_template)"
   ]
  },
  {
   "cell_type": "code",
   "execution_count": 9,
   "metadata": {},
   "outputs": [],
   "source": [
    "# read the content page of Ainu original text and get the original title\n",
    "with open(\"original_Ainu_text/content.txt\", \"r\", encoding=\"utf8\") as f:\n",
    "    ainu_content = f.read()\n",
    "    ainu_content = unicodedata.normalize('NFKC', ainu_content)\n",
    "\n",
    "\n",
    "s=re.split(r'\\n\\n', ainu_content)\n",
    "ainu_titles = re.split(r'\\n', s[1])"
   ]
  },
  {
   "cell_type": "code",
   "execution_count": 10,
   "metadata": {},
   "outputs": [
    {
     "name": "stdout",
     "output_type": "stream",
     "text": [
      "{\n",
      "  \"comment\": \"Here's a comparison of the two English translations, a selection of the better one, and a revised translation incorporating the strengths of both:\\n\\n**Analysis of Translations:**\\n\\n**Translation 1:**\\n\\n*   **Pros:**\\n    *   More verbose, providing slightly more context in certain explanations.\\n    *   Clear and easy to understand.\\n*   **Cons:**\\n    *   Sometimes a bit too wordy, which can reduce clarity.\\n\\n**Translation 2:**\\n\\n*   **Pros:**\\n    *   More concise and direct.\\n    *   Good flow and readability.\\n*   **Cons:**\\n    *   Can be slightly less detailed in explanations compared to Translation 1.\\n\\n**Choice of Better Translation:**\\n\\nTranslation 2 is slightly better due to its conciseness and readability. Accuracy is similar in both, but Translation 2 presents the information more efficiently.\\n\\n**Revised Translation (incorporating Pros from both):**\",\n",
      "  \"updated_translation\": \"(1) In the past, when boys grew up a little, they were given small bows and arrows. The children would use these to shoot at trees or birds as targets, unknowingly mastering archery. ak... is archery, shinot is play, ponai is a small arrow.\\n\\n(2) shiktumorke... the look in one's eyes. It is said that to understand a person's true nature, looking at their eyes is the clearest way. If someone glances around too much, they would be scolded.\\n\\n(3) achikara... means 'dirty'.\\n\\n(4) Birds or animals are shot down because they wanted a person to make an arrow for them; they say it's to retrieve the arrow.\\n\\n(5) kotankorkamui... a god who owns a country or village. In the mountains, there is nupurikorkamui... a god who owns the mountain (bear), and nupuripakorkamui... a god who owns the east side of the mountain (wolf), etc. The owl's position is second only to the bear and wolf. kotankorkamui is not as rough or hasty as the mountain gods or the gods of the east side of the mountain. Therefore, they are usually calm and composed, always with their eyes closed, and only open them when something very important occurs.\\n\\n(6) eharkiso... the left seat.\\n\\n(7) eshiso... the right seat. There is a hearth in the center of the house, and the side with the window (※(「窗/心」)) is the seat of honor. Looking from the seat of honor, the right side is eshiso, and the left side is harkiso. Only men can sit in the seat of honor. Guests of lower status than the host will avoid sitting in the seat of honor. The host and his wife traditionally sit side by side in the right seat. Next to the right seat is the left seat, and the seat on the west side (near the entrance) is the lowest seat.\\n\\n(8) hayokpe helmet. When birds or animals are in the mountains, they are invisible to human eyes, but they each have houses like humans, and they all live the same lives as humans. When they come to human villages, they wear helmets. The corpses of birds or animals are the helmets; the main body is invisible but resides between the ears of the corpse.\\n\\n(9) otuipe... a guy with a broken tail. Short tails, like those of dogs with broken tails, are not highly valued. wenpe... bad guy, and otuipe... a guy with a broken tail, are used to insult extremely insignificant people.\\n\\n(10) chikashnukar. When a god likes someone very much, they bestow great happiness on that person unexpectedly, and that person will say ikashnukar an to express their joy.\\n\\n(11) apehuchi... the old woman of fire. The fire goddess is the most honorable god in the house and is always an old woman. When mountain gods, sea gods, and other various gods come to the house as guests (like owls), this apehuchi presides over the reception and conversation. She can also be called kamuihuchi (god old woman) directly.\\n\\n(12) neusar talking to each other. Talking about various worldly matters is also called neusar. Generally speaking, things like kamuiyukar (god tales) or uwepeker (old tales) are called neusar.\\n\\n(13) ashke a uk. ashke is finger, hand. a uk is to take. It refers to inviting people when there is a celebration.\\n\\n(14) kakkokhau... the call of the cuckoo. The call of the cuckoo is clear and loud, so the cuckoo is used to describe someone who speaks clearly and understandably to everyone.\\n\\n(15) chisekorkamui... a god who owns the house. The fire god is like the housewife, and the house god is like the master of the house. Men are called chisekorekashi... the old man who owns the house.\\n\\n(16) nusakorkamui... a god who owns the altar, an old woman. The god of the altar must be female. When something happens, she will appear to humans, and it is said that she will borrow the shape of a snake to appear. Therefore, if a snake appears near the altar or near the east window, people will say, \\\"The old woman of the altar must have gone out on business,\\\" and they will never kill the snake. It is said that killing it will be punished.\"\n",
      "}{\n",
      "  \"comment\": \"Here's a comparison of the two translations, a choice of the better one, and an improved translation incorporating the best aspects of both.\\n\\n**Analysis of Translations:**\\n\\n**Translation 1:**\\n*   **Pros:**\\n    *   More literal in some instances, preserving the original sentence structure.\\n    *   Clear and straightforward language.\\n*   **Cons:**\\n    *   Sometimes lacks nuance in word choice (e.g., \\\"apologizing for something\\\" for *eonkami*).\\n    *   Can be slightly repetitive or wordy.\\n\\n**Translation 2:**\\n*   **Pros:**\\n    *   More nuanced and accurate word choices (e.g., \\\"good fortune from the sea\\\" for *isoeonkami.iso*, \\\"apology or gratitude\\\" for *eonkami*).\\n    *   More concise and natural-sounding English.\\n*   **Cons:**\\n    *   Occasionally less literal, potentially losing some of the original emphasis.\\n\\n**Choice of Better Translation:**\\nTranslation 2 is generally better because of its more accurate and nuanced word choices, and its more natural flow in English. Accuracy and clarity are prioritized.\\n\\n**Improved Translation:**\",\n",
      "  \"updated_translation\": \"(1) isoeonkami.iso refers to good fortune from the sea; eonkami signifies apology or gratitude.\\nIt is believed that when a whale is beached, the sea god brings it ashore as a gift to humans. On this occasion, a respected person will dress formally and offer prayers facing the sea.\\n\\n(2) ononno. These are words spoken in unison by people welcoming hunters returning from the sea or mountains with their prey.\\n\\n(3) uniwente... A ritual held after various natural disasters such as floods, fires, and volcanic eruptions, or in cases of accidental injury or death, such as someone being eaten by a bear or falling into the sea or river.\\nDuring the ritual, people point spears or knives at each other while exchanging words of condolence. If a village has suffered a disaster, representatives from neighboring villages will gather to hold the ritual, even if only one person is affected.\\n\\n(4) hokokse... A male cry for help to the gods during uniwente or other major emergencies. フオホホーイ, exclusively for men.\\n\\n(5) ashur refers to news of an incident; ek means arrival.\\n...When someone traveling far from the village becomes ill or dies, a messenger is sent to inform their home village. Or, when someone from another village comes to report a death or incident, this situation is called ashur.\\nThe messenger is called ashurkorkur (the person carrying news of the incident).\\nWhen ashurkorkur approaches the village, they first shout hokokse (フオホホーイ). Hearing the shout, the villagers also shout loudly and go to the edge of the village to greet them and inquire about the news.\\n\\n(6) uchishkar... Crying together. This is a form of greeting between women when they reunite after a long separation, when a close relative dies, or when someone narrowly escapes a dangerous situation. The women hold hands or embrace each other's heads or shoulders and cry.\\n\\n(7) matrimimse (female cry)... In emergencies or during uniwente, men make a rough hokokse (フオホホーイ) sound, while women make a soft ホーイ sound.\\nIt is said that women's voices are higher and louder than men's, so they can reach the gods' ears first. Therefore, in an emergency, even men will make a soft sound like women, shouting two or three times.\\n\\n(8) peutanke... Has the same meaning as rimimse, but it is a more commonly used word. rimimse is a slightly more difficult word.\"\n",
      "}{\n",
      "  \"comment\": \"## Analysis of the Two Translations:\\n\\n**Translation 1:**\\n\\n*   **Pros:**\\n    *   More literal translation, preserving specific details (e.g., \\\"cattail matting (*gama*) or *attush* woven fabric\\\").\\n    *   Clearer explanation of the relationship between the cousins.\\n*   **Cons:**\\n    *   Slightly less fluent in certain areas.\\n    *   The phrase \\\"making it an essential item for long journeys\\\" is a bit redundant.\\n\\n**Translation 2:**\\n\\n*   **Pros:**\\n    *   More concise and fluent in general.\\n    *   Uses simpler language (e.g., \\\"reeds\\\" instead of \\\"cattail matting\\\").\\n*   **Cons:**\\n    *   Less detailed in some explanations (e.g., omits the parenthetical explanation of *gama*).\\n    *   The description of Samayunkur is slightly less vivid.\\n\\n**Choice of Better Translation:**\\n\\nTranslation 1 is slightly better due to its greater accuracy and detail, which are crucial for understanding the nuances of the original text. However, Translation 2 has better flow and simpler language in some instances.\\n\\n## Updated Translation Strategy:\\n\\nThe updated translation will primarily use Translation 1 as a base, incorporating the strengths of Translation 2 to improve fluency and readability. The goal is to maintain accuracy while making the text more accessible to a modern English-speaking audience.\",\n",
      "  \"updated_translation\": \"(1) pau: Onomatopoeia for the sound of a fox's cry.\\n\\n(2) pushtotta: A bag-like item used when going sea hunting, to carry fire-making tools, medicines, and other small necessities. Similar items for the same purpose include *piuchiop* and *karop*, but these are made from cattail matting (*gama*) or *attush* woven fabric, so they are used on land. *pushtotta* are made from bear skin, seal skin, or other fur, making them waterproof and suitable for taking to sea.\\n\\n(3) noya ai: Arrow made of mugwort. Mugwort is a plant revered by the Ainu. It is said that demons fear being struck by a mugwort arrow because it prevents them from floating away, making it an essential item for long journeys.\\n\\n(4) Originally, men's and women's toilets were separate. *ashinru* and *eosineru* both refer to toilets.\\n\\nAmong foxes, the black fox is considered the most revered. Capes jutting out into the sea are generally considered the territory of black foxes, and it is said that a black fox will not make its presence known to humans unless something very serious is happening.\\n\\n*Okikurumi (Okikirmui)*, *Samayunkur*, and *Shupunramka* are cousins, with *Shupunramka* being the oldest and *Okikirmui* the youngest. *Shupunramka* is gentle and timid, so there are not many stories about him. *Samayunkur* is short-tempered, lacks wisdom, is hasty, has a bad nature, and is a coward. *Okikirmui*, on the other hand, is wise like a god, compassionate, courageous, and a great person, so there are countless stories about him.\"\n",
      "}{\n",
      "  \"comment\": \"Analysis of the two translations:\\n\\nTranslation 1:\\nPros: Simple and direct. Uses the term \\\"trick bow\\\" which is easily understandable.\\nCons: Less descriptive, doesn't fully explain the context of the swords.\\n\\nTranslation 2:\\nPros: More descriptive, providing more context about where the swords are kept. \\\"Mechanism bow\\\" is a more literal translation.\\nCons: Slightly less fluent than Translation 1. \\\"Mechanism bow\\\" is less common than \\\"trick bow\\\".\\n\\nChoice of Better Translation: Translation 2 is slightly better due to its greater accuracy and detail.\\n\\nImprovements: Combining the strengths of both translations, using \\\"trick bow\\\" for clarity and incorporating the descriptive details from Translation 2.\",\n",
      "  \"updated_translation\": \"(1) Amatupo (弩いしゆみ): This refers to setting up a \\\"trick bow\\\" (mechanism bow).\\n(2) Swords. These are different from the swords used in war. They are usually hung above the pile of treasures on the right side of the house. They are not used in war, but are used during occasions such as *uniwente*.\"\n",
      "}{\n",
      "  \"comment\": \"Since only the Japanese text is provided, and English Translation 1 is stated to have no numbered items, and English Translation 2 is missing, I cannot perform the requested comparison, evaluation, and combined translation. I need the actual Japanese text and both English translations to complete the task.\",\n",
      "  \"updated_translation\": \"Translation cannot be provided without the original Japanese text and the two English translations.\"\n",
      "}{\n",
      "  \"comment\": \"Both translations are extremely brief and lack the actual content of the footnotes. Translation 1 is too vague to be useful. Translation 2 is slightly better as it specifies the content is about Ainu chants, but still doesn't provide any actual translation. Since there's no actual content to compare, I'll create a placeholder translation assuming the footnotes explain Ainu chants and provide context. A proper translation would require the actual Ainu chant and the corresponding footnotes.\",\n",
      "  \"updated_translation\": \"Footnotes provide explanations and context for the Ainu chants.\"\n",
      "}{\n",
      "  \"comment\": \"Analysis of the two translations:\\n\\nTranslation 1:\\nPros: More literal and provides a clearer explanation of why the bird is important.\\nCons: \\\"River Dipper\\\" might not be immediately recognizable to all readers. The phrase \\\"very good bird\\\" is a bit awkward.\\n\\nTranslation 2:\\nPros: Uses the more evocative term \\\"River Glass\\\" (though less accurate). \\\"Auspicious bird\\\" is a more sophisticated way of saying \\\"good bird.\\\"\\nCons: Less literal translation of \\\"川ガラス\\\". Doesn't explicitly state the reason for the bird's importance.\\n\\nChoice of Better Translation: Translation 1 is slightly better because it prioritizes accuracy. However, it can be improved by incorporating elements from Translation 2.\\n\\n\",\n",
      "  \"updated_translation\": \"(1) katken......River Dipper. This bird has been highly respected as an auspicious bird since ancient times.\"\n",
      "}{\n",
      "  \"comment\": \"Analysis of the two translations:\\n\\nTranslation 1:\\nPros: More literal translation of \\\"御幣で飾りをつけたもの\\\" as \\\"an ornament decorated with *gohei* (paper streamers)\\\". Explicitly defines *gohei* as \\\"paper streamers\\\".\\nCons: Slightly awkward phrasing in places, such as \\\"acts as a representative of humans\\\" instead of \\\"acts as a proxy for humans\\\".\\n\\nTranslation 2:\\nPros: More natural and fluent English. Uses \\\"proxy\\\" instead of \\\"representative,\\\" which is better.\\nCons: Less literal translation of \\\"御幣で飾りをつけたもの\\\" as \\\"decorated with gohei\\\". Doesn't define *gohei*. \\\"Sacred sake\\\" is not necessarily implied in the original Japanese.\\n\\nChoice of Better Translation: Translation 2 is slightly better due to its more natural English and accurate conveyance of meaning. However, it misses the opportunity to define *gohei*.\\n\\nUpdated Translation Strategy: Combine the strengths of both translations. Use the natural language of Translation 2 while incorporating the explicit definition of *gohei* from Translation 1.\",\n",
      "  \"updated_translation\": \"This is an object decorated with *gohei* (paper streamers), and it is used when offering sake to the gods. This *kike-ush-pashui* acts as a proxy for humans and is said to convey the messages that humans want to send to the gods. Ordinary chopsticks without *gohei* decorations are called *iku pashui* (chopsticks for feasts).\"\n",
      "}{\n",
      "  \"comment\": \"Both translations are extremely brief and lack the actual content of the footnotes. Translation 1 is completely empty. Translation 2 only mentions the topic. Therefore, neither translation is useful. Since there is no actual content to compare, I will create a placeholder translation indicating the need for the actual footnotes to be provided.\",\n",
      "  \"updated_translation\": \"Ainu Chant Footnotes: [Please provide the actual content of the Ainu chant footnotes here for accurate translation.]\"\n",
      "}{\n",
      "  \"comment\": \"Since only one English translation is provided, I can't compare two versions. Please provide the Japanese text and the two English translations for a comprehensive comparison and improved translation.\",\n",
      "  \"updated_translation\": \"Please provide the Japanese text for translation.\"\n",
      "}{\n",
      "  \"comment\": \"Analysis of the two translations:\\n\\nTranslation 1 Pros:\\n*   Simple and direct.\\n\\nTranslation 1 Cons:\\n*   Slightly less descriptive.\\n\\nTranslation 2 Pros:\\n*   More descriptive, using \\\"layers of worlds\\\" to convey the meaning of \\\"六段の世界\\\".\\n*   \\\"all kinds of demons\\\" is a good translation of \\\"種々な悪魔\\\".\\n\\nTranslation 2 Cons:\\n*   Slightly more verbose.\\n\\nChoice of Better Translation:\\nTranslation 2 is slightly better because it provides a more descriptive and nuanced translation of the original Japanese text, especially with \\\"layers of worlds\\\" and \\\"all kinds of demons.\\\"\\n\\nUpdated Translation Rationale:\\nI will combine the strengths of both translations to create a final version that is both accurate and easy to understand. I will use the descriptive elements from Translation 2 while maintaining the simplicity of Translation 1.\",\n",
      "  \"updated_translation\": \"iwan poknashir......Six Hells. Beneath the ground, there are six layers of worlds, inhabited by all kinds of demons.\"\n",
      "}{\n",
      "  \"comment\": \"Analysis of the two translations:\\n\\nTranslation 1:\\nPros: Directly provides the Japanese word \\\"kitanai\\\" and its literal translation \\\"dirty,\\\" which can be helpful for understanding the nuance. It also explicitly states that \\\"achikara\\\" includes multiple meanings.\\nCons: Uses somewhat awkward phrasing like \\\"Includes meanings such as strange, impertinent.\\\" The sentence structure in the second paragraph is a bit clunky.\\n\\nTranslation 2:\\nPros: More natural and fluent English. The phrasing is more concise and easier to understand.\\nCons: Doesn't explicitly provide the Japanese word \\\"kitanai.\\\" The explanation of \\\"achikara\\\" is slightly less detailed.\\n\\nChoice of Better Translation:\\nTranslation 2 is slightly better because of its clarity and natural flow. Accuracy is comparable between the two.\\n\\nImprovements:\\nCombining the strengths of both translations, we can create a more accurate and understandable version.\",\n",
      "  \"updated_translation\": \"(1) achikara......means \\\"dirty\\\" (kitanai). It also implies strangeness and impertinence.\\n\\nIn this story, Okikirmui's father and pon nitnekamui's father had a very fierce war in the past. As a result, pon okikirmui and pon nitnekamui are enemies. The details of their fathers' war are described in detail in another story.\"\n",
      "}{\n",
      "  \"comment\": \"Here's a comparison of the two translations, a choice of the better one, and a revised translation incorporating the best aspects of both.\\n\\n**Analysis of Translations:**\\n\\n**(1) kinatantuka**\\n*   **Translation 1:**\\n    *   **Pros:** Clear and straightforward.\\n    *   **Cons:** \\\"mats and other coverings\\\" is slightly vague.\\n*   **Translation 2:**\\n    *   **Pros:** More specific with \\\"mat-like bedding\\\".\\n    *   **Cons:** None significant.\\n*   **Choice:** Translation 2 is slightly better due to its specificity.\\n\\n**(2) i-okapushpa**\\n*   **Translation 1:**\\n    *   **Pros:** Includes the nuance of speaking about the deceased in everyday conversation.\\n    *   **Cons:** Slightly wordy.\\n*   **Translation 2:**\\n    *   **Pros:** More concise.\\n    *   **Cons:** Loses some of the nuance of Translation 1.\\n*   **Choice:** Translation 1 is better because it captures more of the original meaning.\\n\\n**(3) nimakitara**\\n*   **Translation 1:**\\n    *   **Pros:** Clear and direct.\\n    *   **Cons:** None significant.\\n*   **Translation 2:**\\n    *   **Pros:** \\\"to express fear\\\" adds a bit more context.\\n    *   **Cons:** None significant.\\n*   **Choice:** Translation 2 is slightly better for the added context.\\n\\n**Overall Choice:**\\nI will primarily use Translation 1 as the base, incorporating elements from Translation 2 where they improve clarity or accuracy.\\n\",\n",
      "  \"updated_translation\": \"(1) kinatantuka...... A bundle of cattails. Cattails are woven into mat-like bedding. However, dry cattails cannot be woven directly, so they need to be slightly moistened before use. In this story, the woman probably brought them to the river for this reason.\\n\\n(2) i-okapushpa. People greatly dislike saying the names of deceased parents or relatives, or even talking about them in everyday conversation, which is called *i-okapushpa*. Also, digging up things that people have kept hidden and telling everyone, or bringing up past actions that are difficult for the person to hear, especially in front of them, is also called *i-okapushpa*.\\n\\n(3) nimakitara...... Baring fangs. This refers to a dog. When people go hunting in the mountains, they take dogs with them, and being attacked by a dog baring its teeth is the most frightening thing. Therefore, dogs are given this name to express fear.\"\n",
      "}"
     ]
    }
   ],
   "source": [
    "for song_no in range(start_at, end_at + 1):\n",
    "\n",
    "    md_name_part = get_output_file_name_key(ainu_titles[song_no - 1])\n",
    "\n",
    "    with open(f\"Initial_LLM_prompts_and_translations_footnotes/English_Translation_JSON/{song_no}_{md_name_part}.json\", \"r\", encoding=\"utf8\") as f:\n",
    "        data_dict = json.load(f)\n",
    "\n",
    "    with open(f\"cross_lingual_LLM_prompts_and_translations_footnotes/English_Translation_JSON/{song_no}_{md_name_part}.json\", \"r\", encoding=\"utf8\") as f:\n",
    "        data_dict_2 = json.load(f)\n",
    "\n",
    "    reflection_prompt_formatted = reflection_prompt.format(japanese_text=data_dict['japanese_translation'],\n",
    "                                                           english_translation_1=data_dict['english_translation'],\n",
    "                                                           english_translation_2=data_dict_2['english_translation'])\n",
    "\n",
    "    updated_translation = generate(client,generate_content_config,model,prompt = reflection_prompt_formatted)\n",
    "\n",
    "    updated_translation_dict = json.loads(updated_translation)\n",
    "    #print(updated_translation_dict['updated_translation'])\n",
    "    #print(updated_translation_dict['comment'])\n",
    "\n",
    "    data_dict['english_translation_1'] = data_dict['english_translation']\n",
    "    data_dict['english_translation_2'] = data_dict_2['english_translation']\n",
    "\n",
    "    del data_dict['chinese_translation']\n",
    "\n",
    "    data_dict['updated_english_translation'] = updated_translation_dict['updated_translation']\n",
    "    data_dict['comment'] = updated_translation_dict['comment']\n",
    "\n",
    "    md_output = md_template.format(translated_language=\"English\", ainu_title=data_dict['ainu_title'],\n",
    "                formatted_prompt=reflection_prompt_formatted,\n",
    "                japanese_title=data_dict['japanese_title'], input_japanese = data_dict['japanese_translation'],\n",
    "                output= f\"{data_dict['updated_english_translation']}\\n\\n{data_dict['comment']}\")\n",
    "\n",
    "    with open(f\"Updated_LLM_prompts_and_translations_footnotes/English_Translation_JSON/{song_no}_{md_name_part}.json\", \"w\", encoding=\"utf8\") as f:\n",
    "        json.dump(data_dict, f, ensure_ascii=False, indent=4)\n",
    "\n",
    "    with open(f\"Updated_LLM_prompts_and_translations_footnotes/English_Translation/{song_no}_{md_name_part}.md\", \"w\", encoding=\"utf8\") as f:\n",
    "        f.write(md_output)\n",
    "\n"
   ]
  },
  {
   "cell_type": "code",
   "execution_count": null,
   "metadata": {},
   "outputs": [],
   "source": []
  },
  {
   "cell_type": "code",
   "execution_count": null,
   "metadata": {},
   "outputs": [],
   "source": []
  },
  {
   "cell_type": "code",
   "execution_count": null,
   "metadata": {},
   "outputs": [],
   "source": []
  }
 ],
 "metadata": {
  "kernelspec": {
   "display_name": "llama",
   "language": "python",
   "name": "python3"
  },
  "language_info": {
   "codemirror_mode": {
    "name": "ipython",
    "version": 3
   },
   "file_extension": ".py",
   "mimetype": "text/x-python",
   "name": "python",
   "nbconvert_exporter": "python",
   "pygments_lexer": "ipython3",
   "version": "3.11.11"
  }
 },
 "nbformat": 4,
 "nbformat_minor": 2
}
