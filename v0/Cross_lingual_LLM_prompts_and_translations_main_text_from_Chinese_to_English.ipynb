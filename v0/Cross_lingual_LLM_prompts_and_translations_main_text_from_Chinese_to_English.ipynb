{
 "cells": [
  {
   "cell_type": "code",
   "execution_count": 1,
   "metadata": {},
   "outputs": [],
   "source": [
    "from google import genai\n",
    "from google.genai import types\n",
    "import base64\n",
    "import json\n",
    "import os\n",
    "from dotenv import load_dotenv\n",
    "\n",
    "from pydantic import BaseModel, Field\n",
    "\n",
    "import unicodedata\n",
    "import re"
   ]
  },
  {
   "cell_type": "code",
   "execution_count": 2,
   "metadata": {},
   "outputs": [],
   "source": [
    "load_dotenv()\n",
    "project_name = os.getenv('PROJECT_NAME')"
   ]
  },
  {
   "cell_type": "markdown",
   "metadata": {},
   "source": [
    "The story id, from 1 to 13 according to the 13 Ainu Kamuy Yukars translated by Chiri Yukie. The Yukar ID starts at 1. Chiri's Preface is 0."
   ]
  },
  {
   "cell_type": "code",
   "execution_count": 3,
   "metadata": {},
   "outputs": [],
   "source": [
    "start_at = 1\n",
    "end_at = 13"
   ]
  },
  {
   "cell_type": "code",
   "execution_count": 4,
   "metadata": {},
   "outputs": [],
   "source": [
    "class Translation(BaseModel):\n",
    "    \"\"\"The translation, and the comments\"\"\"\n",
    "    translation: str = Field(description=\"The translation\")\n",
    "    comment: str = Field(description=\"Comments on the translation\")"
   ]
  },
  {
   "cell_type": "code",
   "execution_count": 5,
   "metadata": {},
   "outputs": [],
   "source": [
    "system_instruction_prompt = \"\"\"You are a professional translator. You know Japanese, English and Chinese. You can translate Japanese into either Chinese or English. You can also translate Chinese into English, and English into Chinese.\"\"\"\n",
    "\n",
    "client = genai.Client(\n",
    "      vertexai=True,\n",
    "      project=project_name,\n",
    "      location=\"us-central1\",\n",
    ")\n",
    "\n",
    "model = \"gemini-2.0-flash-001\"\n",
    "\n",
    "generate_content_config = types.GenerateContentConfig(\n",
    "    temperature = 0,\n",
    "    top_p = 0,\n",
    "    max_output_tokens = 8192,\n",
    "    response_mime_type = 'application/json',\n",
    "    response_schema = Translation,\n",
    "    safety_settings = [types.SafetySetting(\n",
    "      category=\"HARM_CATEGORY_HATE_SPEECH\",\n",
    "      threshold=\"OFF\"\n",
    "    ),types.SafetySetting(\n",
    "      category=\"HARM_CATEGORY_DANGEROUS_CONTENT\",\n",
    "      threshold=\"OFF\"\n",
    "    ),types.SafetySetting(\n",
    "      category=\"HARM_CATEGORY_SEXUALLY_EXPLICIT\",\n",
    "      threshold=\"OFF\"\n",
    "    ),types.SafetySetting(\n",
    "      category=\"HARM_CATEGORY_HARASSMENT\",\n",
    "      threshold=\"OFF\"\n",
    "    )],\n",
    "    system_instruction=[types.Part.from_text(text=system_instruction_prompt)],\n",
    "  )"
   ]
  },
  {
   "cell_type": "code",
   "execution_count": 6,
   "metadata": {},
   "outputs": [],
   "source": [
    "poetic_translation_prompt = \"\"\"Translate the following text from Chinese to English. The original text is translation from Japanese which is a Japanese translation of a Ainu chant, sung by Ainu god telling his story. \n",
    "Use story-telling and poetic tone. Keep the original meaning. Use modern and simple English.\n",
    "If a term cannot be translated, keep the original language.\"\"\"\n",
    "\n",
    "#descriptive_translation_prompt = \"Translate the following text from Japanese to Chinese. Keep the original meanings. Display in Traditional Chinese.\""
   ]
  },
  {
   "cell_type": "code",
   "execution_count": 7,
   "metadata": {},
   "outputs": [],
   "source": [
    "# read the content page of Japanese translation and get the Japanese translated title\n",
    "with open(\"Chiri_Japanese_Translation/content.txt\", \"r\", encoding=\"utf8\") as f:\n",
    "    japanese_content = f.read()\n",
    "    japanese_content = unicodedata.normalize('NFKC', japanese_content)\n",
    "\n",
    "\n",
    "s=re.split(r'\\n\\n', japanese_content)\n",
    "japanese_titles = re.split(r'\\n', s[1])"
   ]
  },
  {
   "cell_type": "code",
   "execution_count": 8,
   "metadata": {},
   "outputs": [],
   "source": [
    "# read the content page of Ainu original text and get the original title\n",
    "with open(\"original_Ainu_text/content.txt\", \"r\", encoding=\"utf8\") as f:\n",
    "    ainu_content = f.read()\n",
    "    ainu_content = unicodedata.normalize('NFKC', ainu_content)\n",
    "\n",
    "\n",
    "s=re.split(r'\\n\\n', ainu_content)\n",
    "ainu_titles = re.split(r'\\n', s[1])"
   ]
  },
  {
   "cell_type": "code",
   "execution_count": 9,
   "metadata": {},
   "outputs": [],
   "source": [
    "# Read the markdown template for writing the Chinese translations to Markdown file\n",
    "\n",
    "#read in the template\n",
    "with open(\"templates/raw_output_md_template_cross_lingual\", \"r\", encoding=\"utf8\") as f:\n",
    "    md_template = f.read()\n",
    "    md_template = unicodedata.normalize('NFKC', md_template)"
   ]
  },
  {
   "cell_type": "code",
   "execution_count": 10,
   "metadata": {},
   "outputs": [],
   "source": [
    "def generate(client: genai.Client,generate_content_config :types.GenerateContentConfig,model :str, /,input_text :str, prompt :str):\n",
    "\n",
    "    text_full_prompt = text1 = types.Part.from_text(text=f\"{prompt}\\n\\n{input_text}\")\n",
    "\n",
    "    output = \"\"\n",
    "\n",
    "    contents = [\n",
    "      types.Content(\n",
    "        role=\"user\",\n",
    "        parts=[\n",
    "          text_full_prompt\n",
    "        ]\n",
    "      )\n",
    "    ]\n",
    "\n",
    "    for chunk in client.models.generate_content_stream(\n",
    "        model = model,\n",
    "        contents = contents,\n",
    "        config = generate_content_config,\n",
    "        ):\n",
    "        print(chunk.text, end=\"\")\n",
    "        output += chunk.text\n",
    "\n",
    "    return output\n",
    "\n",
    "def get_output_file_name_key(title :str):\n",
    "    # setup the output file name\n",
    "    s = title.split()\n",
    "    md_name_part = s[0]\n",
    "\n",
    "    name_2nd_part = \"\"\n",
    "\n",
    "    for text in s:\n",
    "        if text.startswith('“'):\n",
    "            name_2nd_part = text.replace('“', '').replace('”', '')\n",
    "        \n",
    "    md_name_part += \"_\" + name_2nd_part\n",
    "\n",
    "    return md_name_part\n",
    "\n"
   ]
  },
  {
   "cell_type": "code",
   "execution_count": 11,
   "metadata": {},
   "outputs": [
    {
     "name": "stdout",
     "output_type": "stream",
     "text": [
      "{\n",
      "  \"comment\": \"Translated from Chinese to English, maintaining a storytelling and poetic tone, while keeping the original meaning and using modern, simple English. Some terms like 'Inau' and 'Nispa' were kept in their original form due to lack of direct English equivalents.\",\n",
      "  \"translation\": \"The Song of the Owl God's Self-Narration:\\n\\n\\\"Silver drops, falling all around...\\\"\\n\\nI sing the song of \\\"Silver drops, falling all around, golden drops, falling all around,\\\" drifting down the river. As I pass over human villages, gazing down, I see the once impoverished now wealthy, and the formerly rich reduced to poverty.\\n\\nBy the sea, children play with toy bows and arrows.\\n\\nI sing the song of \\\"Silver drops, falling all around, golden drops, falling all around,\\\" flying over their heads. They run beneath me, crying out:\\n\\n\\\"What a beautiful bird! A god's bird! Quick, shoot it! Whoever hits this divine bird first will be the true hero, the true strong one!\\\"\\n\\nAnd so, the children, once poor but now rich, nock golden arrows onto golden bows and shoot at me. I let the golden arrows pass above and below me.\\n\\nAmong them, one child, with a simple wooden bow and arrow, joins the fray. I see him, dressed in the clothes of the poor. But looking closely at his eyes, I glimpse the spirit of a great ancestor. He is different, set apart, joining the children's game alone. He, too, aims his simple bow and arrow at me.\\n\\nThe children, once poor but now rich, laugh loudly, saying:\\n\\n\\\"How ridiculous, child of poverty! That bird, a god's bird, scorns even our golden arrows. Why would it pay attention to your rotten wooden stick? How could you ever hit that bird, a god's bird?\\\"\\n\\nThey kick and shove the poor child as they speak.\\n\\nBut the poor child pays them no mind, focusing intently on his aim. Seeing this, I feel pity.\\n\\nI sing the song of \\\"Silver drops, falling all around, golden drops, falling all around,\\\" slowly circling in the sky. The poor child, one foot forward, the other back, bites his lip and takes aim, then releases his arrow. The small arrow flies beautifully towards me, and I reach out and catch it.\\n\\nI spin, cutting through the sky, and descend gracefully. The children, seeing this, run, kicking up dust, scrambling to be first.\\n\\nAs I land, the poor child is the first to reach me, grabbing me tightly. The children, once poor but now rich, arrive moments later, shouting and shoving, striking the poor child.\\n\\n\\\"You wretch, child of poverty! Stealing from us!\\\"\\n\\nThe poor child clutches me tightly, pressing me to his stomach. He struggles, finally breaking free from the crowd, and runs.\\n\\nThe children, once poor but now rich, throw stones and wood at him, but the poor child ignores them, kicking up dust as he runs to the door of a small hut. He slips me through the first window and breathlessly tells the story to those inside.\\n\\nThe old couple inside shield their eyes and come out. Though poor, they possess the air of gentlefolk. Seeing me, they bow deeply, astonished.\\n\\nThe old man adjusts his belt and bows to me, saying:\\n\\n\\\"Owl God, great God, thank you for gracing our humble home. We were once wealthy, but now we are reduced to this. To have the nation's God, a great God, stay here fills us with trepidation. But as it is late, please rest here tonight, great God. Tomorrow, we will send you off with only Inau.\\\"\\n\\nHe bows again and again as he speaks. The old woman spreads a mat beneath the east window and places me there. Then, everyone sleeps, soon snoring loudly.\\n\\nI sit between my body, my ears, and after midnight, I rise.\\n\\nI quietly sing the song of \\\"Silver drops, falling all around, golden drops, falling all around,\\\" flying to the left and right of the house, making beautiful sounds. As I flap my wings, beautiful treasures, divine treasures, scatter around me with a clear sound.\\n\\nIn an instant, I transform the small hut into a place filled with magnificent treasures, divine treasures.\\n\\nI sing the song of \\\"Silver drops, falling all around, golden drops, falling all around,\\\" and in a flash, transform the small hut into a golden, spacious home, filled with magnificent treasures, divine treasures, and quickly create exquisite clothing, adorning the house.\\n\\nI decorate the spacious home more lavishly than a rich man's house. Having done all this, I return to my original form, sitting between my helmet, my ears.\\n\\nI give the family a dream, letting them know that the Ainu Nispa became poor due to bad luck, and was mocked and bullied by those once poor but now rich. Seeing this, I felt pity. Though I am but a humble god, I stayed in their home and bestowed blessings upon them.\\n\\nHaving done this, after a while, dawn breaks. The family rises together, rubbing their eyes, and look inside. They are all paralyzed with shock. The old woman cries loudly, and the old man sheds large tears.\\n\\nSoon, the old man rises and comes before me, bowing again and again, and says:\\n\\n\\\"We thought it was just a dream, but it is all real. We are grateful that you would grace our humble home. The nation's God, the great God, has pitied our misfortune and bestowed upon us great blessings.\\\" He says, weeping.\\n\\nThen, the old man cuts Inau wood and makes beautiful Inau, decorating me. The old woman also dresses up and has the child help her chop wood, draw water, and prepare to brew sake. In the blink of an eye, six barrels of sake are placed in the upper seat.\\n\\nThen, I speak of various stories with the old woman of fire, the old goddess, and various gods.\\n\\nAfter two days or so, because it is a food beloved by the gods, the house is filled with the aroma of sake.\\n\\nSo, I deliberately have the child put on old clothes and go to the village to invite the villagers who were once poor but now rich.\\n\\nAfter seeing the child off, the child goes from house to house, explaining the purpose. The villagers, once poor but now rich, laugh loudly.\\n\\n\\\"How strange, what sake can these poor people brew, what delicious food do they have that they would invite us? Let's go see what's so funny.\\\"\\n\\nThey come in groups, and from afar, just seeing the house, they are shocked and ashamed, and some return directly. Others come to the house and are paralyzed with shock.\\n\\nAt this time, the mistress of the house comes out, takes everyone's hand, and invites them inside. Everyone crawls forward, no one daring to look up.\\n\\nAt this time, the master of the house rises and speaks in a voice as beautiful as a cuckoo.\\n\\nHe tells the story from beginning to end.\\n\\n\\\"Like this, we poor people cannot interact with each other without barriers, but the great God has pitied us. We have no evil thoughts, so we have received such blessings. From now on, all the people in our village are one family, so I hope everyone can get along and interact with each other.\\\"\\n\\nAfter hearing this, people rub their hands again and again, apologize to the master of the house, and discuss getting along from now on.\\n\\nEveryone also bows to me.\\n\\nHaving done these things, people's hearts become gentle, and a grand banquet is held.\\n\\nI talk with the fire god, the house god, and the gods of the gohei shelf, while enjoying the sight of people dancing and singing, and I am very happy. Then, after two or three days, the banquet ends.\\n\\nSeeing the people getting along, I feel relieved, and I say goodbye to the fire god, the house god, and the gods of the gohei shelf.\\n\\nHaving done these things, I return to my home. Before I return, my home is already filled with beautiful gohei and delicious sake.\\n\\nSo, I send messengers to invite the gods from far and near, and hold a grand banquet. At the banquet, I tell the gods in detail about the village conditions and what happened when I visited the human village. The gods all praise me greatly.\\n\\nWhen the gods leave, I give them two or three beautiful gohei.\\n\\nLooking at that Ainu village, it has now returned to peace, and the people are getting along. That Nispa has become the leader of the village. His children are now grown, married, and have children, and are filial to their parents.\\n\\nWhenever and wherever they brew sake, they send me gohei and delicious sake at the beginning of the banquet.\\n\\nI also sit behind the humans, protecting the human country at all times.\\n\\nThe Owl God tells it this way.\"\n",
      "}{\n",
      "  \"comment\": \"Translated from Chinese to English, maintaining a storytelling and poetic tone, preserving the original meaning, and using modern, simple English. Some Japanese terms are retained where direct translation is not suitable.\",\n",
      "  \"translation\": \"The Fox's Own Ballad: \\\"Towatowato\\\"\\n\\nTowatowato,\\n\\nOne day, I went to the shore in search of food.\\n\\nAmong the pebbles, a 'charachara' sound,\\nAmong the driftwood, a 'charachara' sigh.\\n\\nI walked on, gazing ahead,\\nAnd saw a whale, stranded on the beach.\\n\\nPeople dressed in finery,\\nCelebrating the sea's bounty with joyful dance,\\nCutters of meat, carriers of meat, bustling to and fro,\\nThe esteemed ones, giving thanks and offering prayers,\\nSharpeners of knives, a dark mass upon the sand.\\n\\nSeeing this, my heart was filled with joy.\\n\\n\\\"Ah, how I long to reach that place,\\nEven a small piece would suffice,\\\"\\nI thought, as I cried, \\\"Banzai! Banzai!\\\"\\n\\nAnd so,\\nAmong the pebbles, a 'charachara' sound,\\nAmong the driftwood, a 'charachara' sigh.\\n\\nI walked and walked, drawing closer, only to find,\\n\\nIt was not a whale stranded there,\\nBut a mound of canine dung upon the shore,\\nA mountain of excrement.\\n\\nI had mistaken it for a whale.\\n\\nI thought people were celebrating the sea's bounty with joyful dance,\\nCutting and carrying whale meat,\\nBut it was crows,\\nPecking at the dung, scattering it wide,\\nFlying here, flying there.\\n\\nI was consumed by rage.\\n\\n\\\"Blind fool that I am,\\nBlind villain,\\nStinking from the tail,\\nRotting from the tail,\\nResin flowing from the anus,\\nFilth flowing from the anus,\\nHow could I have seen things so wrong!\\\"\\n\\nThen again,\\nAmong the pebbles, a 'charachara' sound,\\nAmong the driftwood, a 'charachara' sigh.\\n\\nI ran from the shore,\\nAnd in the distance, I saw\\nA boat with two figures,\\nExchanging words of sorrow.\\n\\n\\\"Alas, what misfortune has befallen them,\\nThat they should act in such a way? Perhaps\\nA boat has capsized, taking souls with it?\\nAh, how I long to draw near,\\nTo hear what they lament.\\\"\\n\\nSo I thought, and cried, \\\"Hohhohooi!\\\"\\n\\nAmong the pebbles, a 'charachara' sound,\\nAmong the driftwood, a 'charachara' sigh.\\n\\nI rushed onward, only to find\\nThe boat I saw was but\\nA rock upon the shore, and the figures,\\nTwo great pelicans.\\n\\nTwo great pelicans, stretching and shrinking their necks,\\nI had mistaken them for mourners.\\n\\n\\\"Blind fool that I am,\\nBlind villain,\\nStinking from the tail,\\nRotting from the tail,\\nResin flowing from the anus,\\nFilth flowing from the anus,\\nHow could I have seen things so wrong!\\\"\\n\\nAfter that, I again,\\nAmong the pebbles, a 'charachara' sound,\\nAmong the driftwood, a 'charachara' sigh.\\n\\nRan swiftly upstream,\\nAnd far in the river's upper reaches, I saw two women\\nStanding in the shallows, weeping face to face.\\n\\nSeeing this, I was greatly alarmed.\\n\\n\\\"Alas, what ill has befallen them,\\nWhat dire news has arrived, that they should weep so?\\nAh, how I long to reach them,\\nTo hear what they lament.\\\"\\n\\nSo I thought,\\nAmong the pebbles, a 'charachara' sound,\\nAmong the driftwood, a 'charachara' sigh.\\n\\nI rushed onward, only to find\\nTwo 'yana' weirs in the river's heart,\\nThe stakes of the two 'yana' weirs, buffeted by the current, swayed,\\nI had mistaken them for two women, heads bowed or raised,\\nWeeping face to face.\\n\\n\\\"Blind fool that I am,\\nBlind villain,\\nStinking from the tail,\\nRotting from the tail,\\nResin flowing from the anus,\\nFilth flowing from the anus,\\nHow could I have seen things so wrong!\\\"\\n\\nAfter that, I went upstream again,\\nAmong the pebbles, a 'charachara' sound,\\nAmong the driftwood, a 'charachara' sigh.\\n\\nI hurried home.\\n\\nLooking ahead,\\nFor some reason,\\nMy house was ablaze,\\nThe smoke rising to the sky,\\nLike piled-up clouds. Seeing this,\\nI was shocked and dismayed.\\n\\nI let out a woman's scream,\\nAnd jumped up, only to see someone\\nShouting \\\"Hoi!\\\" and running towards me.\\nLooking closely, it was my wife,\\nHer face filled with terror, gasping for breath, she said:\\n\\n\\\"What is wrong, my lord?\\\"\\n\\nLooking again,\\nThe scene of the fire,\\nMy house stood there,\\nUntouched. No fire, no smoke.\\n\\nIt turned out my wife was hulling millet,\\nThe wind was strong, scattering the rising\\nChaff of the millet,\\nI had mistaken it for smoke.\\n\\nI went out in search of food, but found nothing, and\\nBecause of my shouting, my wife\\nWas startled, and threw away the millet she was winnowing,\\nTogether with the winnowing basket.\\nTonight, we will likely have nothing to eat.\\n\\nI was overcome with anger, and fell under the bed,\\nAnd slept.\\n\\n\\\"Blind fool that I am,\\nBlind villain,\\nStinking from the tail,\\nRotting from the tail,\\nResin flowing from the anus,\\nFilth flowing from the anus,\\nHow could I have seen things so wrong!\\\"\\n\\nSo spoke the Fox's chieftain.\"\n",
      "}{\n",
      "  \"comment\": \"Translated from Chinese to English, maintaining a storytelling and poetic tone, while keeping the original meaning intact. Some terms like 'Okikirmui' are kept as is, as requested.\",\n",
      "  \"translation\": \"The Song of the Fox, Sung by Himself\\n\\\"Haikunteleke Haikoshitemutori\\\"\\n\\nHaikunteleke Haikoshitemutori\\nUpon the Cape of the Land, the Cape of the Gods,\\nI sat in my place.\\nOne day, I stepped outside,\\nAnd saw the sea, serene and vast. Upon it,\\nOkikirmui, Shupunkamuka, and Samayunkuru\\nSailed out to hunt. Seeing this,\\nA wicked thought arose within me.\\nOn this cape, the Cape of the Land, the Cape of the Gods,\\nI ran lightly, with a supple waist.\\nIn a heavy voice, like splintering wood, I cried, \\\"Pah-woo, pah-woo!\\\"\\nI glared at the river's source, summoning the magic of the storm.\\nAnd then it came, from the river's\\nsource, a fierce wind, a whirlwind,\\nThat rushed upon the sea, and at once\\nthe sea churned, upside down. Okikirmui and his companions'\\nFishing boat, at the meeting place of those from the near shore and the far (the sea's center),\\nMet with sudden change, spinning in the waves.\\nGreat waves, like mountains,\\nCovered the boat. And so,\\nOkikirmui, Samayunkuru, Shupunkamuka\\nCried out in desperation, rowing with all their might.\\nThe small boat was tossed like a fallen leaf,\\nOn the verge of capsizing.\\nYet, admirable were these men, full of strength,\\nAs the small boat sailed on the wind,\\nUpon the waves.\\nSeeing this, the wicked thought arose in me again.\\nI ran lightly, with a supple waist,\\nIn a heavy voice, like splintering wood, I cried, \\\"Pah-woo, pah-woo!\\\"\\nStriving with all my power to aid the storm's magic.\\nAnd as I did, at last, Samayunkuru's\\nhands, his arms, ran with blood,\\nAnd he collapsed in exhaustion.\\nSeeing this, I chuckled to myself.\\nThen, I strained with all my might,\\nRunning lightly, with a supple waist,\\nIn a heavy voice, like splintering wood, I cried,\\nTo aid the storm's magic.\\nOkikirmui and Shupunkamuka encouraged each other,\\nRowing bravely on, when suddenly,\\nShupunkamuka's\\nhands, his arms, ran with blood,\\nAnd he collapsed in exhaustion. Seeing this,\\nI chuckled to myself.\\nThen, I leaped and ran lightly, with a supple waist,\\nIn a heavy voice, like the cracking of hard wood,\\nStraining with all my power.\\nBut Okikirmui showed no sign of weariness.\\nHe wore only a thin garment,\\nAnd rowed on, until,\\nThe oar in his hands, it broke.\\nAnd so, he lunged at the exhausted and fallen Samayunkuru,\\nSeized the oar from his hands, and alone,\\nHe rowed on.\\nSeeing this, the wicked thought arose in me again.\\nIn a heavy voice, like the cracking of hard wood, I cried,\\nRunning lightly, with a supple waist,\\nStriving with all my power to aid the storm's magic.\\nAnd as I did, Samayunkuru's rudder,\\nIt broke. Okikirmui lunged at Shupunkamuka,\\nSeized his oar,\\nAnd rowed on bravely.\\nBut his oar, too, was broken by the waves.\\nAnd so, Okikirmui stood\\nIn the boat, in the raging wind,\\nNever imagining that a human like him would see me,\\nHe gazed at the Cape of the Land, the Cape of the Gods,\\nAnd into my eyes.\\nHis gentle face turned to anger,\\nAnd he rummaged in his bag,\\nAnd from it, he took a small bow of mugwort,\\nAnd a small arrow of mugwort.\\nSeeing this, I chuckled to myself.\\n\\\"What can a human do? What is there to fear?\\nWhat use is such a small arrow of mugwort?\\\"\\nI thought, and on this cape,\\nThe Cape of the Land, the Cape of the Gods,\\nI ran up and down, lightly,\\nWith a supple waist, in a heavy voice,\\nLike the cracking of hard wood, I cried, \\\"Pah-woo, pah-woo!\\\"\\nPraising the storm's magic.\\nAnd then, the arrow shot by Okikirmui flew,\\nAnd struck me right in the collar.\\nFrom then on, I knew nothing more.\\nWhen I came to my senses,\\nThe weather was fair, and the sea\\nWas vast and serene. Okikirmui's fishing boat was gone.\\nWhat had happened? From the top of my head\\nTo the tips of my toes, I ached as if scorched.\\nNever had I imagined that a small arrow shot by a human could torment me so. And so I struggled,\\nOn this cape, the Cape of the Land, the Cape of the Gods,\\nI ran up and down, crying out,\\nStruggling, day and night, sometimes living,\\nSometimes dying. And as I did, I knew not\\nWhat had happened.\\nWhen I came to my senses,\\nI was between the ears of a great black fox.\\nAbout two days later, Okikirmui came as a divine spirit,\\nSmiling, and said,\\n\\\"How beautiful! The black fox god, guarding the Cape of the Land, the Cape of the Gods,\\nBecause he possessed a kind heart, a divine heart,\\nHe died so honorably.\\\"\\nSaying this, he took my head,\\nBrought it back to his home, and used my upper jawbone\\nAs the foundation of his toilet, and my lower jaw\\nAs the cornerstone of his wife's toilet.\\nMy body, as it was, rotted with the earth.\\nFrom then on, day and night,\\nI suffered the torment of foul odors. I died without worth, I died miserably.\\nI was not merely a low-ranking god,\\nBut because I harbored an extremely wicked heart, I was worthless.\\nI died miserably.\\nAnd so, from now on, you foxes, never,\\nNever harbor a wicked heart.\\n\\nThus spoke the fox god.\"\n",
      "}{\n",
      "  \"comment\": \"Translated from Chinese to English, maintaining a storytelling and poetic tone, while keeping the original meaning and using modern, simple English. Some terms are kept in their original language where direct translation is difficult.\",\n",
      "  \"translation\": \"The Song of the Rabbit, Sung by Himself: \\\"Sanpaya Tereke\\\"\\n\\nSanpaya Tereke,\\nAcross two valleys I leaped, over three I hopped,\\nPlaying and frolicking, following my elder brother into the mountains.\\nDay after day, behind my brother, I saw\\nThe crossbow traps set by humans. My brother would\\nDestroy them all, and I would laugh at this.\\nOne day, as usual, I went along, but\\nNever did I imagine\\nMy brother would be caught in a crossbow, wailing in pain.\\nStartled, I rushed to his side.\\nMy brother cried out:\\n\\\"Little brother, quickly now,\\nRun back behind our village\\nAnd shout loudly – Brother is trapped by a crossbow, hoo-ooh-hoo!\\\"\\nI listened,\\nResponding, \\\"Yes! Yes!\\\" and then\\nAcross two valleys I leaped, over three I hopped,\\nPlaying and frolicking, arriving\\nBehind our village.\\nIt was then I remembered why my brother had sent me.\\nI was about to shout,\\nBut I completely forgot the words he wanted me to convey.\\nI stood there, trying to recall,\\nBut I couldn't remember at all.\\nThen, I\\nLeaped across two valleys, hopped over three,\\nBackwards, jumping,\\nReturning to where my brother was,\\nBut he was nowhere to be found.\\nOnly his blood scattered all around.\\n\\n(The story shifts in a new direction)\\n\\nKetoka woiwoi ketoka, ketoka woi ketoka,\\nDay after day, I went into the mountains,\\nDestroying the crossbow traps set by humans,\\nTaking pleasure in it.\\nOne day, I came to the usual place and found\\nA crossbow set there, and beside it\\nA small *yomogi* (艾草) crossbow.\\nSeeing it, I thought,\\n\\\"What use is something like this?\\\"\\nFinding it laughable, I\\nTouched it slightly, intending to run away immediately,\\nBut never did I imagine\\nI would be tightly,\\nFirmly trapped by that crossbow.\\nThe more I struggled,\\nThe tighter the bonds became, and I was helpless,\\nOnly able to weep.\\nThen, something\\nFlew to my side. I looked and saw it was my younger brother.\\nOverjoyed, I told him to\\nInform our people of this,\\nBut after waiting a long time, there was no news.\\nI wept, and then\\nA figure appeared. I looked closely and saw\\nA human youth, as beautiful as a god.\\nSmiling, he seized me\\nAnd took me to a certain place. I discovered\\nIt was a huge house, filled with sacred treasures.\\nThat youth lit a fire,\\nPlaced a large pot over the flames, drew a hanging knife,\\nChopped my body, skin and bones, into small pieces,\\nFilled the entire pot, then placed the pot on my head\\nAnd began to cook me. I thought only of\\nEscaping from here, and looked for an opening in the human youth's watchfulness,\\nBut he watched me closely.\\n\\\"If the pot boils and I am cooked to pieces, it will be\\nA meaningless, ugly death.\\\"\\nThinking this, I looked for a moment of carelessness from the human youth,\\nAnd finally, I transformed myself into a slice of meat,\\nMixed into the rising steam, climbed to the edge of the pot,\\nJumped onto the seat to the left, and then immediately\\nDashed outside, weeping,\\nPanting, I fled back\\nTo my home,\\nFinally relieved, grateful to have escaped.\\nLooking back,\\nI realized that what I thought was just a human, an ordinary youth,\\nWas actually *Okikirmui*, a being as powerful as a god.\\nWhat I thought were just human crossbows,\\nWhich I mischievously destroyed every day, angered *Okikirmui*.\\nHe wanted to kill me with a small *yomogi* crossbow, but I am not\\nJust a low-ranking god. If I were to die meaninglessly, die ugly,\\nMy kin would be troubled.\\nHe pitied my situation,\\nSo even though I escaped, he did not pursue me.\\nFrom then on, originally\\nThe rabbit had a body as large as a deer,\\nBut because I played such a prank,\\nI became as small as a slice of meat from *Okikirmui*.\\nFrom now on, our companions will probably all become this small\\nIn body.\\nFrom now on, rabbits, never play pranks again.\\nThe rabbit leader taught his children this, and then passed away.\"\n",
      "}{\n",
      "  \"comment\": \"Translated from Chinese to English, maintaining a storytelling and poetic tone while simplifying the language. Terms like 'Okikirmui' are kept in their original form due to their cultural significance.\",\n",
      "  \"translation\": \"The Song of Harits Kunna, sung by the Marsh Demon himself:\\n\\nHarits Kunna,\\nOne bright day,\\nFrom my swamp, with just eyes and mouth peeking,\\nI gazed out.\\nIn the distance, from the shore, I heard voices.\\nI saw two young men approaching side by side.\\nThe one in front seemed a hero, possessing a hero's aura,\\nBeautiful as a god.\\nBut the one behind looked gaunt,\\nHis complexion poor. They walked and talked,\\nPassing by my swamp.\\nJust as they reached me, the pale-faced man\\nStopped, pinching his nose.\\n\\\"Oh, how foul! This wretched swamp! Passing through this awful place\\nIs so filthy! What is that stench? It's disgusting!\\\"\\nI listened, and rage swelled within me, almost forgetting myself.\\nI burst from the mire. I leaped up,\\nThe earth cracked, the ground crumbled. I roared with fangs bared,\\nFerociously chasing after them.\\nThe one in front, sensing danger,\\nTurned with the agility of a fish, darting under the pale man's\\nArm and fleeing swiftly.\\nI pursued the sickly man for a few steps,\\nQuickly catching up and swallowing him whole.\\nThen, with all my might, I chased after the one who had fled,\\nReaching a human village, a large village.\\nI saw approaching from there\\nThe old woman of fire, the divine crone, dressed in red, six layers of robes,\\nWith a sash, draped in six layers,\\nLeaning on a red staff, rushing towards me.\\n\\\"Hey, hey! What brings you to our Ainu village?\\nGo back! Go back!\\\"\\nShe cried, raising her red staff, her golden staff, striking\\nAt me, the flames burning on the staff\\nFalling upon me like rain.\\nBut I was unmoved,\\nRoaring with fangs bared, I continued to chase\\nThe man, who ran through the village\\nLike a spinning wheel. I pursued relentlessly,\\nThe earth cracked, the ground crumbled. The whole village was in chaos,\\nSome pulling their wives' hands, some pulling their children's hands, crying out\\nAnd fleeing, a scene of turmoil.\\nBut I paid no heed, stirring up clouds of dust.\\nThe fire goddess ran to my side,\\nGreat flames dancing around me.\\nIn the midst of it, the man darted into a house\\nAnd immediately ran out again.\\nI saw him, holding a small mugwort bow, nocking a mugwort arrow,\\nFrom there, smiling, aiming at me.\\nSeeing that, I found it amusing.\\n\\\"Such a tiny mugwort arrow could never harm me!\\\"\\nI thought, roaring with fangs bared,\\nJust as I was about to swallow him whole,\\nThat man struck my neck hard.\\nFrom then on, I knew nothing more.\\nWhen I suddenly came to, I found\\nMyself between the huge ears of a dragon.\\nThe villagers gathered, and the young man I had chased\\nCommanded loudly, carefully cutting my corpse into pieces,\\nCarrying them to a place to burn, then casting the ashes\\nBehind the mountain rocks.\\nNow I understand that the one I thought was merely a human,\\nA simple young man,\\nWas Okikirmui, the divine hero.\\nI am the terrible evil god, the demon god, and because I was\\nNear the human village,\\nOkikirmui deliberately provoked me for the village's safety,\\nCausing me to chase him, then killing me with a mugwort arrow.\\nAnd the pale-faced man I swallowed earlier,\\nWhom I thought was human,\\nWas a humanoid created by Okikirmui from his excrement,\\nBrought along.\\nI am the demon god, now sent to\\nThe terrible, evil realm of hell.\\nFrom now on, the human realm will be free from danger\\nAnd without hindrance.\\nI am the terrible demon god,\\nYet I was defeated by a human's scheme,\\nAnd now I can only die a boring death, a miserable death.\\nSo spoke the Marsh Demon.\"\n",
      "}{\n",
      "  \"comment\": \"Translated from Chinese to English, maintaining a storytelling and poetic tone, while preserving the original meaning and using simple, modern English. Some terms like 'hotenao' and 'okikirmui' are kept in their original form due to lack of direct English equivalents.\",\n",
      "  \"translation\": \"The Song Sung by the Wolf Cub God Himself\\n\\\"Hotenao\\\"\\n\\nHotenao.\\nOne day, seized by utter boredom, I wandered to the seaside.\\nAs I played, a little dwarf approached.\\nWhen I went down the river, he followed.\\nWhen I went up the river, he blocked my path.\\nSix times we went back and forth down the river,\\nSix times up the river, until the little dwarf,\\nHis innate impatience showing, declared:\\n\\\"Pii pii!\\nYou little brat, you wicked imp! If you continue like this,\\ntell me the past and present names of this cape!\\\"\\nI listened, and laughing, replied:\\n\\\"Who doesn't know the past and present names of this cape!\\nLong ago, because noble and great gods and humans dwelled here,\\nthis cape was called the Cape of Gods.\\nBut now, in these degenerate times,\\nit is known as the Cape of Gohei!\\\"\\nHearing this, the little dwarf said:\\n\\\"Pii ton, pii ton!\\nYou little brat, if you're so clever,\\ntell me the past and present names of this river.\\\"\\nI listened, and replied:\\n\\\"Who doesn't know the past and present names of this river!\\nLong ago, in that great era, this river was called\\nThe River of Rushing Waters.\\nBut now, in these declining times, it is known as the River of Slow Waters.\\\"\\nHearing this, the little dwarf said:\\n\\\"Pii ton ton, pii ton ton!\\nIf you're so clever,\\nlet us reveal each other's true nature.\\\"\\nI listened, and replied:\\n\\\"Who doesn't know your true nature!\\nLong ago, when Okikirmui went to the mountains\\nto build a hunting lodge, he made a hearth frame of hazel wood.\\nThe frame was dried by the fire.\\nWhen Okikirmui stepped on one end, the other\\nwould rise up. Annoyed by this,\\nOkikirmui took the frame to the riverbank\\nand discarded it.\\nAfterward, the frame floated down the river,\\ntoward the sea. The gods saw it being tossed by the distant waves, the nearby waves,\\nand thought,\\n'It is a pity that something made by the esteemed and great Okikirmui\\nis so uselessly lost, rotting with the seawater.' So the gods\\ntransformed the frame into a fish,\\nand named it Hearth Frame Fish.\\nHowever, that Hearth Frame Fish, unaware of its origins,\\ntransformed into human form and wandered about.\\nYou are that Hearth Frame Fish.\\\"\\nHearing this, the little dwarf's face\\nchanged many times,\\n\\\"Pii ton ton, pii ton ton!\\nYou are a small, wolf cub.\\\"\\nAs soon as he said this, he plunged into the sea with a splash.\\nI watched him go, and saw a red fish\\nswimming far away, wagging its tail fin.\\nThis is the story told by the young Wolf God.\"\n",
      "}{\n",
      "  \"comment\": \"Translated from Chinese to English, maintaining a storytelling and poetic tone, while keeping the original meaning and using modern, simple English. Some terms like 'shintoko' and 'nusa' are kept in their original form due to lack of direct English equivalents.\",\n",
      "  \"translation\": \"The Song of the Owl God Himself: \\n\\n\\\"Konkwa\\\"\\n\\n\\\"Konkwa,\\nIn days of old, when I spoke, my voice resonated like a bowstring wrapped with cherry bark,\\nechoing from the center of the bow's handle.\\nBut now, I have grown old, my years advancing.\\nYet, if there be one eloquent and confident\\nto undertake the task of a messenger,\\nI shall dispatch them to the heavens to negotiate five and two-fifths of a matter.\\\"\\n\\nAs I tapped the rim of my inlaid *shintoko* lid, I spoke these words. Just then, a voice arose from the entrance:\\n\\\"Who but I is so eloquent and confident as to bear the weight of this messenger's task?\\\"\\n\\nI looked and saw it was a young crow.\\nI welcomed it inside, and as I tapped the rim of my inlaid *shintoko* lid,\\nI began to explain the details of the negotiation to this young crow,\\nThree days passed,\\nand as I spoke of the third point of negotiation, I noticed\\nthe young crow had fallen asleep by the hearth. Enraged, I seized\\nthe young crow by its wings and beat it to death.\\n\\nThen, I tapped the rim of my inlaid *shintoko* lid once more:\\n\\\"If there be one confident in the task of a messenger,\\nI shall dispatch them to the heavens to negotiate five and two-fifths of a matter.\\\"\\n\\nNo sooner had I spoken than another voice called from the entrance:\\n\\\"Who but I is so eloquent,\\nso capable of being a messenger to the heavens?\\\"\\n\\nI looked and saw it was a magpie.\\nI welcomed it inside, and again\\nTapped the rim of my inlaid *shintoko* lid,\\nexplaining the five and two-fifths of the negotiation.\\nFour days passed, and as I spoke of the fourth point,\\nthe magpie fell asleep by the hearth.\\nI was overcome with rage, seized the magpie by its wings, and beat it to death.\\n\\nAfterward, I tapped the rim of my inlaid *shintoko* lid again:\\n\\\"If there be one eloquent and confident\\nin the task of a messenger, I shall dispatch them to the heavens,\\nbearing five and two-fifths of a negotiation.\\\"\\n\\nAt that moment, one entered with a respectful demeanor. I looked closely and saw\\nit was a young dipper, graceful in form,\\nseated to my left. And so,\\nI tapped the rim of my inlaid *shintoko* lid,\\nexplaining the five and two-fifths of the matter, day and night.\\n\\nThe young dipper, showing no sign of weariness,\\nlistened quietly, tirelessly,\\nand on the sixth day,\\nas soon as I finished speaking, it flew\\nfrom the skylight, heading for the heavens.\\n\\nThe essence of this negotiation was that the human world\\nwas suffering from famine, its people on the verge\\nof starvation. The reason for this,\\nwas that the gods of the heavens,\\nthe god of deer and the god of fish,\\nhad decided not to send down deer and fish,\\nignoring all pleas from the people.\\nThus, the people went to the mountains\\nto hunt, but found nothing, and went to the rivers\\nto fish, but returned empty-handed.\\n\\nSeeing this, I was filled with rage,\\nand so I dispatched a messenger to the deer god and the fish god.\\n\\nDays passed,\\nand a faint sound echoed from the sky,\\nand one entered. I looked closely and saw\\nit was the young dipper, now more beautiful than before,\\nradiating an aura of courage,\\nand it began to recount the negotiated response.\\n\\nThe deer god and the fish god of the heavens\\nhad ceased sending down deer and fish\\nbecause humans, when catching deer,\\nwould strike their heads with wood, and after skinning them,\\nwould carelessly discard the deer heads in the mountains.\\nAnd when catching fish,\\nwould strike their heads with rotten wood until they died.\\nThus, the herds of deer, naked and weeping,\\nreturned to the deer god, and the schools of fish,\\nmouths filled with rotten wood, returned to the fish god.\\nThe deer god and the fish god,\\novercome with rage, decided to no longer send down deer and fish.\\n\\nBut if, from now on,\\nhumans treat the deer and fish with kindness,\\nthen they would once again send down deer and fish,\\nso said the deer god and the fish god, explaining the reason in detail.\\n\\nHearing this, I expressed my admiration to the young dipper,\\nand realized that\\nhumans had indeed\\ntreated the deer and fish too harshly.\\n\\nFrom that day on, to prevent people from repeating their mistakes,\\nI warned them in their dreams as they slept.\\nThe humans realized\\ntheir errors, and from then on,\\nthey crafted fishing tools as exquisitely as they would *nusa* offerings,\\nusing them to catch fish. When catching deer, they would also\\ncarefully adorn and offer the deer heads in ritual. Thus,\\nthe fish joyfully carried beautiful *gohei* offerings\\nto the fish god, and the deer\\nhappily groomed their *sakayaki* hairlines, returning to the deer god.\\nThe deer god and the\\nfish god, seeing this, were overjoyed,\\nsending down abundant fish, sending down abundant deer.\\n\\nThe humans now faced no more hardship,\\nnor did they suffer from hunger,\\nand seeing this, I felt at peace.\\n\\nI have grown old and frail,\\nand had intended to go to the heavens,\\nbut thinking of the human realm I protect,\\nsuffering from famine, its people on the verge of starvation,\\nI could not ignore them,\\nand so I remained here. But now,\\nI have no more attachments. I shall choose the strongest,\\nyoungest warrior to inherit my position, protecting the human world,\\nand I, today, shall depart for the heavens.\\\"\\n\\nThe guardian deity of the land, the old Owl God,\\nhaving finished speaking, departed for the heavens. And so, the story ends.\"\n",
      "}{\n",
      "  \"comment\": \"Translated from Chinese to English, maintaining a storytelling and poetic tone, while keeping the original meaning and using modern, simple English. Unfamiliar terms are kept in their original language.\",\n",
      "  \"translation\": \"The song of the Sea God himself, \\\"Atoika Tomatoma ki Kuntoteashi Hum Hum!\\\"\\n\\nAtoika Tomatoma ki Kuntoteashi Hum Hum!\\nMy eldest brother, six brothers, my eldest sister, six sisters.\\nMy younger brother, six brothers, my younger sister, six sisters.\\nThey raised me, and what did I do?\\nIn a place overflowing with treasures, I built a high platform, and upon that platform,\\nI quietly carved scabbards,\\nDay after day, making my living thus.\\nEvery morning, my brothers would\\nCarry their quivers, going out with my sisters,\\nAnd every evening, they would return weary,\\nTheir hands empty. My sisters, though tired, would still prepare meals, setting the food before me,\\nAnd after eating themselves, they would clean up,\\nWhile my brothers busied themselves making bows and arrows.\\nOnce the quivers were full, everyone, exhausted,\\nWould fall asleep, their snores shaking the heavens.\\nThe next day, before dawn,\\nEveryone would rise, my sisters preparing meals, setting the food before me,\\nAnd after eating, they would carry their quivers,\\nAnd go out again. In the evening, they would\\nReturn weary, their hands empty,\\nMy sisters preparing meals, my brothers making bows and arrows,\\nDay after day, year after year, always repeating the same things.\\nOne day, my brothers and sisters again\\nCarried their quivers and went out.\\nI, who had been carving treasures, soon\\nRose and stood upon the high platform, holding a golden bow\\nAnd golden arrows, and went outside.\\nLooking out, the sea was vast and calm,\\nWhales frolicked in the east and west,\\nPlaying and enjoying themselves. At that moment,\\nIn the east, my eldest sister and six sisters held hands, forming a circle,\\nWhile my younger sister and six sisters drove the whales into the circle,\\nMy eldest brother and six brothers, my younger brother and six brothers,\\nAimed their arrows at the whales within the circle, the arrows\\nPassing beneath the whales, skimming above them.\\nEvery day, they did this.\\nI saw in the center of the sea,\\nA giant whale and her child, rising and falling on the waves,\\nPlaying and enjoying themselves,\\nSo from afar, I nocked a golden arrow to my golden bow,\\nAimed, and shot, an arrow\\nPiercing both the mother and child at once.\\nThen, I cut one of the whales in half,\\nThrowing half into my sisters' circle.\\nAnd the other half of the whale,\\nI placed tail-down and pushed it towards the land of humans,\\nReaching the village of Otasutsu,\\nAnd pushed that half-whale\\nOnto the village's beach.\\nAfter that, I leisurely\\nSwam in the sea, returning,\\nWhen I heard someone\\nRunning breathlessly beside me,\\nLooking closely, I saw it was a seagull.\\nIt said, gasping for air:\\n\\\"Tomin karikuru Kamui karikuru Iso yangke kuru\\nBrave God, Great God,\\nWhy would you bestow such abundant sea bounty upon lowly humans, wicked humans?\\nLowly humans, wicked humans, are using axes\\nAnd sickles to cut, stab,\\nAnd scrape the great sea bounty! Brave God,\\nGreat God, please take back\\nThe sea bounty! You have given them so much,\\nBut lowly humans, wicked humans,\\nAre ungrateful and do such things!\\\"\\nHearing this, I laughed and said:\\n\\\"Now that I have given the sea bounty to humans,\\nIt is theirs. Whether humans\\nStab it with sickles or\\nScrape it with axes, it is up to them,\\nThey can eat it however they wish,\\nWhat does it matter?\\\"\\nThe seagull, hearing this, was somewhat bewildered,\\nBut I paid it no mind, continuing to\\nSwim leisurely in the sea,\\nAs the sun began to set, I returned to my sea.\\nThere,\\nTwelve brothers, twelve\\nSisters, were struggling to carry\\nThat half-whale, exhausted, shouting together,\\nStill slowly carrying it on the east side of the sea.\\nI was speechless.\\nI ignored them, returning directly\\nHome, and sat upon the high platform.\\nThen I looked back towards the human world,\\nAnd saw that around the half-whale\\nI had pushed onto the beach, were gathered\\nWell-dressed men and\\nWomen, celebrating the sea bounty with joy,\\nOn the dunes behind,\\nWere spread magnificent carpets,\\nThe village chief of Otasutsu,\\nWearing six kimonos, tightening his belt,\\nWith a splendid crown of the gods, the crown of ancestors,\\nA divine sword at his waist,\\nIn a godlike, solemn, and beautiful pose, raised both hands,\\nAnd offered prayers. The humans wept with joy,\\nCelebrating the sea bounty.\\nThe seagull said that humans\\nWere stabbing the whale I pushed onto the beach with axes and sickles,\\nBut in fact,\\nThe village chief and\\nThe villagers were taking out\\nThe divine sword, considered the most precious treasure since ancient times,\\nUsing it to cut the whale meat and carry it away.\\nMoreover, my brothers and sisters showed no sign of\\nReturning.\\nTwo or three days passed, and I saw something\\nNear the window, so I\\nTurned to look, and saw on the window\\nWas placed a golden cup filled with\\nFine sake, with\\nDecorated chopsticks laid across it,\\nA messenger pacing back and forth, chanting:\\n\\\"I am from the village of Otasutsu,\\nThough it is presumptuous, I must offer this fine sake.\\\"\\nThe village chief of Otasutsu, representing\\nAll the villagers, expressed their gratitude in detail,\\nSaying:\\n\\\"Tomin karikuru Kamui karikuru Iso yangke kuru\\nIf not for the Great God, the Brave God,\\nWho would have had pity on our village, suffering from famine,\\nHaving reached the end of our rope?\\nYou have given our village life,\\nWe are so grateful! We celebrate the sea bounty,\\nAnd have made a little sake,\\nAnd attached a small offering of inao,\\nTo express our gratitude to the Great God.\\\"\\nThe decorated chopsticks moved back and forth, stating this.\\nSo I rose, took the\\nGolden cup, raised it above my head,\\nOpened the lids of the six sake barrels above my seat,\\nAnd poured the fine sake little by little into the\\nGolden cup, then placed the golden cup on the window.\\nHaving done this, I sat on the high platform,\\nAnd the golden cup and chopsticks had\\nDisappeared. After that, I continued to carve scabbards,\\nCarving scabbards, and unconsciously\\nLooked up,\\nAnd saw the room filled with beautiful inao,\\nWhite clouds swirling within, white lightning\\nFlashing. I thought it was truly beautiful.\\nTwo or three days passed again,\\nAnd then, I finally heard\\nOutside the door, my brothers and\\nSisters shouting loudly, pulling that whale back. I was very surprised.\\nI watched them enter the house,\\nAnd saw that my brothers and sisters\\nWere very tired, their faces haggard.\\nEveryone entered the house, saw so many inao,\\nAnd repeatedly bowed in surprise.\\nSoon, the six sake barrels on the east side\\nOverflowed, and the fragrance of the gods' beloved\\nSake filled the room.\\nAfter that, I decorated the room with beautiful inao,\\nInvited distant gods, neighboring gods,\\nAnd held a grand banquet. My sisters\\nCooked whale meat, offering it to the gods,\\nWho praised it endlessly, very pleased.\\nAs the banquet was in full swing, I rose,\\nAnd explained in detail how the human world was suffering from famine,\\nAnd how I had pity on them, pushing the sea bounty onto the beach,\\nAnd how I had treated humans kindly, but was envied by evil gods,\\nAnd how the seagull slandered me,\\nAnd how the village chief of Otasutsu\\nExpressed his gratitude in such and such words,\\nAnd how the chopsticks decorated with inao came as messengers, and so on.\\nThe gods listened,\\nAnd unanimously nodded in agreement,\\nPraising me.\\nAfter that, I held another grand banquet,\\nThe gods'\\ndancing, singing,\\nIntertwined into beautiful music, my sisters\\nHolding pitchers, pouring sake at the tables,\\nSome singing with the goddesses.\\nTwo or three days passed, and the banquet ended.\\nI gave two or three beautiful inao\\nTo the gods, who bowed,\\nRepeatedly, and\\nReturned to their homes.\\nAfter that, I was always with my eldest brother, six brothers,\\nEldest sister, six sisters, younger sister, six sisters,\\nYounger brother, six brothers,\\nAnd every time humans brewed sake,\\nThey would send me sake and inao.\\nNow, humans no longer have to worry about a lack of food,\\nLiving a peaceful\\nLife, and I am at ease.\"\n",
      "}{\n",
      "  \"comment\": \"Translation from Chinese to English, maintaining a storytelling and poetic tone, preserving original meaning, and using modern, simple English. Terms like 'yukar' and 'sakehau' are kept in their original form as requested.\",\n",
      "  \"translation\": \"The Frog's Self-Sung Ballad:\\n\\\"Tororo Hanroku Hanroku!\\\"\\n\\nTororo Hanroku Hanroku!\\n\\\"One day, as I hopped and played in the meadow,\\nI spied a dwelling and went to its door to peek.\\nInside, treasures piled high, beside a raised bed.\\nA young man sat upon it, head bent, carving a knife sheath.\\nA mischievous thought struck me, so I sat upon the threshold,\\nAnd sang: \\\"Tororo Hanroku Hanroku!\\\"\\nThe young man, hearing my voice, raised his knife-holding hand,\\nLooked at me, smiled brightly, and asked:\\n\\\"Is this your song? Your joyful tune?\\nI long to hear it again.\\\"\\nOverjoyed, I sang once more: \\\"Tororo Hanroku Hanroku!\\\"\\nThe young man then said:\\n\\\"Is this your yukar? Your sakehau?\\nI wish to hear it closer.\\\"\\nAt these words, my heart bloomed, and I leaped to the lower hearth's edge,\\nSinging: \\\"Tororo Hanroku Hanroku!\\\"\\nThe young man persisted:\\n\\\"Is this your yukar? Your sakehau?\\nI wish to hear it closer still.\\\"\\nHearing this, I was beside myself with glee, and hopped to the corner of the upper hearth,\\nSinging loudly: \\\"Tororo Hanroku Hanroku!\\\"\\n\\nSuddenly! The young man rose with a start,\\nSwift as the wind, he seized a massive, burning log,\\nAnd hurled it at me, and all went black,\\nAnd I knew no more.\\n\\nWhen I awoke again,\\nI found myself at the edge of a garbage heap, transformed into a frog with a swollen belly,\\nAlready dead, and I was sitting between its ears.\\n\\nLooking closely, what I thought was a mere mortal's home,\\nWas in truth the dwelling of Okikirmui, a being of godlike power.\\nAnd I, not knowing him as Okikirmui,\\nWent there to play a prank.\\n\\nNow I shall die in this insignificant, wretched way,\\nSo I warn all future frogs, never again play tricks on humans.\\\"\\n\\nThus spoke the swollen frog, and breathed its last.\"\n",
      "}{\n",
      "  \"comment\": \"Translated from Chinese to English, keeping a storytelling and poetic tone. Some terms are kept in the original language where appropriate.\",\n",
      "  \"translation\": \"A song sung by little Okikirmui himself:\\n\\\"Kutnisa Kuton Kutton\\\"\\n\\nKutnisa Kuton Kutton,\\nOne day, as I wandered to the source of the waters,\\nI saw a little person by the water's edge,\\nBent over, striking again and again,\\nTrying to build a fish weir of walnut wood.\\nHe saw me and said:\\n\\\"Who are you? Nephew, lend me a hand.\\\"\\nI looked closely, and the weir was indeed of walnut,\\nThe sap of the walnut mixing with the muddy stream,\\nThe salmon, wishing to swim upstream, hated the walnut's scent,\\nWeeping, they turned and fled. A fire ignited within me,\\nI snatched the mallet from the little person's hand,\\nAnd struck his spine,\\nRight in the center, a resounding \\\"bang!\\\"\\nI broke his spine, I killed him,\\nAnd kicked him into the abyss of hell. I tried to shake the walnut stakes he had made,\\nThey seemed to stretch to the sixth level of hell and beyond.\\nThen, with all the strength in my waist, all the power in my body,\\nI snapped the stakes from their roots,\\nAnd kicked them into hell as well.\\nThe water source became clear again, fresh wind, clear water,\\nFlowed down, and those who had wept and fled,\\nThe salmon, nourished by the clear wind and water,\\nRegained their vigor, they rejoiced and played,\\nSplashing and struggling upstream.\\nSeeing this, I was filled with joy,\\nAnd I set out on the path home along the river. This is the story\\ntold by little Okikirmui.\"\n",
      "}{\n",
      "  \"comment\": \"Translated from Chinese to English, maintaining a storytelling and poetic tone, while preserving the original meaning and using modern, simple English. Some terms like 'Okikirmui' are kept in their original form due to their cultural significance and lack of direct English equivalents.\",\n",
      "  \"translation\": \"The Song of Little Okikirmui Himself:\\n\\\"This sand, so red and vibrant.\\\"\\n\\n(This sand, so red and vibrant)\\nOne day, as I journeyed upstream for leisure,\\nI encountered the child of a demon.\\nAlways so fair was this demon's child,\\nWith a beautiful face. Clad in garments of black,\\nHolding a small bow of walnut wood, and arrows to match.\\nHe saw me and said with a grin:\\n\\\"Little Okikirmui, come and play!\\nI'll show you how to cut off the fish's path.\\\"\\nSo saying, he notched a walnut arrow to his walnut bow,\\nAnd shot it towards the source of the stream.\\nFrom the source flowed water the color of walnut, murky and foul,\\nThe salmon, swimming upstream,\\nAverted by the walnut water, cried,\\nAnd retreated downstream. The demon's child,\\nSeeing this, merely laughed in triumph.\\nMy anger flared at the sight,\\nAnd I took out my small silver bow, notched a silver arrow,\\nAnd shot it towards the source.\\nFrom the source flowed silver water, clear and sweet,\\nThe salmon, who had wept as they left,\\nRegained their vigor in the clear water,\\nLaughing and playing,\\nSplashing and frolicking upstream.\\nThe demon's child then\\nRevealed his innate fury,\\n\\\"If you insist, I'll show you how to cut off the deer's path!\\\"\\nSaying this, he notched a walnut arrow to his walnut bow,\\nAnd shot it towards the sky,\\nThrough the trees of the mountain forests blew\\nA walnut wind, a whirlwind.\\nFrom the trees of the mountain forests, the stags on one side,\\nThe does on the other, were blown into the sky,\\nNeatly arranged, ascending to the heavens.\\nThe demon's child, seeing this, laughed in triumph.\\nMy rage knew no bounds,\\nAnd I took up my silver bow, notched a silver arrow,\\nAnd shot it towards the departing deer.\\nFrom the sky fell a silver wind, a refreshing wind,\\nThe stags on one side,\\nThe does on the other,\\nWere blown back to the trees of the mountain forests.\\nThe demon's child then\\nRevealed his innate fury,\\n\\\"Arrogant fool, if you\\nInsist on this, let us test our strength!\\\"\\nSaying this, he removed his upper garment.\\nI, too, was left in but a thin robe,\\nAnd grappled with him. He held me tight.\\nFrom then on, we wrestled and struggled,\\nBut the demon child's strength,\\nTruly astonished me. Yet, finally, at one moment,\\nI used the strength of my waist, the strength of my whole body,\\nAnd lifted the demon's child\\nOnto my shoulders,\\nSlamming him hard against the mountain rocks,\\nWith a thunderous crash. Having killed him, and kicked him into hell,\\nAll around was silent.\\nWhen it was over, I returned along the river,\\nAnd heard only the laughter of the salmon in the river,\\nThe sounds of their play, resounding merrily,\\nSplashing and frolicking. Through the trees of the mountain forests,\\nThe laughter of the stags and does,\\nThe sounds of their play, filled the air,\\nThey were there, they were here,\\nEating their fill. Seeing this,\\nI felt at peace, and returned to\\nMy home.\\nLittle Okikirmui tells it so.\"\n",
      "}{\n",
      "  \"comment\": \"Translated from Chinese to English, keeping a storytelling and poetic tone, preserving the original meaning, and using modern, simple English. Some terms like 'Samayunkuru' and 'Okikirmui' are kept in their original form as they are place names.\",\n",
      "  \"translation\": \"The Otter's Self-Sung Ballad\\n\\\"Kapa ruru Kapa\\\"\\n\\nKapa ruru Kapa\\nOne day, as I frolicked down the stream,\\nI came to the watering path of Samayunkuru.\\nThe sister of Samayunkuru, beautiful as a goddess,\\nCarried a bucket in one hand and a cattail in the other.\\nI peeked my head above the water's edge and asked:\\n\\\"Do you have a father? Do you have a mother?\\\"\\n\\nThe maiden, surprised, widened her eyes and looked around,\\nUpon finding me, her face filled with rage,\\n\\\"Ah, detestable flat-head, vile flat-head,\\nDaring to mock me! Dogs, get him!\\\"\\n\\nBefore her words could fully escape, several giant dogs rushed out,\\nSnarling at me. Startled, I was,\\nI immediately dove to the river bottom, fleeing along the riverbed.\\n\\nThen, I arrived at the watering path of Okikirmui,\\nPeeking my head above the water once more.\\nThe sister of Okikirmui, equally divine in her beauty,\\nHeld a bucket in one hand and a cattail in the other.\\nSo I asked:\\n\\\"Do you have a father? Do you have a mother?\\\"\\n\\nThe maiden, surprised, widened her eyes and looked around,\\nUpon finding me, her face filled with rage,\\n\\\"Ah, detestable flat-head, vile flat-head,\\nDaring to mock me! Dogs, get him!\\\"\\n\\nBefore her words were done, several giant dogs rushed out.\\n\\nSeeing this, remembering my previous encounter,\\nI found it quite amusing, and as I was about to dive and flee,\\nThe dogs leaped into the water after me,\\nBarking madly and tearing at me.\\nThey dragged me ashore, my head and body\\nGnawed and ripped apart, until I lost all consciousness.\\n\\nSuddenly, I awoke,\\nFinding myself seated\\nBetween the ears of a giant otter.\\n\\nKnowing full well that Samayunkuru and Okikirmui\\nHad no parents, yet I still teased them,\\nAnd thus, I was punished,\\nKilled by the dogs of Okikirmui,\\nMeeting such a pointless, pitiful end.\\n\\nOtters of the future, never play such pranks again.\\n\\nSo spoke the otter.\"\n",
      "}{\n",
      "  \"comment\": \"Translated from Chinese to English, maintaining a storytelling and poetic tone, while keeping the original meaning and using simple, modern English. Some terms are kept in their original form where direct translation is difficult.\",\n",
      "  \"translation\": \"The Song of *Tonopeka Ranran*, sung by the clam itself:\\n\\n*Tonopeka Ranran*\\nThe fierce sun has parched my dwelling,\\nI am weak, nearing death.\\n\\\"Who will have mercy, grant us rain,\\nSave our lives? Water, water!\\\" we cry.\\nFar off, from the direction of the shore, a woman approaches,\\nCarrying a bamboo basket.\\nAs we weep, she passes by,\\nSees us, and says:\\n\\\"Loathsome *numakai*, wretched *numakai*, why do you cry,\\nMaking such a racket, disturbing the peace!\\\"\\nHaving said this, she tramples us, kicks us with her toes, crushing us along with our shells,\\nAnd strides away, heading straight into the depths of the mountains.\\n\\\"Ah, the pain is unbearable, the suffering immense, water, water!\\\" we cry.\\nFar off, from the direction of the shore, another woman approaches,\\nCarrying a bamboo basket. We call out:\\n\\\"If only someone would grant us rain, save our lives,\\nAh, the pain is unbearable, the suffering immense, water, water!\\\"\\nThat woman, as beautiful and noble as a goddess,\\nComes to our side, sees us, and says:\\n\\\"Ah, how pitiful, the weather is so hot, the *numakai*'s\\ndwelling has dried up, longing for rain,\\nWhat on earth has happened?\\nIt seems they have been trampled…\\\"\\nSaying this, she picks us up one by one,\\nPlaces us in *fuki* leaves, and then places us in the clear lake water.\\nThe clear, cool lake water completely restores our vitality,\\nMaking us incredibly strong. And so, we begin to investigate\\ntheir natures.\\nIt turns out, the loathsome woman who came earlier and trampled us,\\nthe wicked woman, is *Samaunkur*’s\\nsister; while the young woman who pitied us,\\nthe gentle and quiet woman who saved us,\\nis *Okikirmui*’s sister.\\n*Samaunkur*’s sister harbors malice,\\ncausing her millet fields to wither and die; while *Okikirmui*’s\\nsister causes her millet fields to be abundant and rich.\\nThat year, *Okikirmui*’s sister harvested a large amount of millet.\\nShe knew this was because of me,\\nSo she used the shells of the *numakai* to pluck the ears of millet.\\nFrom then on, every year, the women of humankind\\nuse the shells of the *numakai* when plucking the ears of millet.\\nThis, is the story told by a single *numakai*.\"\n",
      "}"
     ]
    }
   ],
   "source": [
    "# process the translation in batch mode\n",
    "\n",
    "for song_no in range(start_at, end_at + 1):\n",
    "\n",
    "    md_name_part = get_output_file_name_key(ainu_titles[song_no - 1])\n",
    "\n",
    "    with open(f\"Initial_LLM_prompts_and_translations_main_text/Chinese_Translation_JSON/{song_no}_{md_name_part}.json\", \"r\", encoding=\"utf8\") as f:\n",
    "        data_dict = json.load(f)\n",
    "\n",
    "        poetic_translation = generate(client,generate_content_config,model,input_text=data_dict['chinese_translation'],prompt=poetic_translation_prompt)\n",
    "\n",
    "        poetic_translation_dict = json.loads(poetic_translation)\n",
    "\n",
    "        #descriptive_translation = generate(client,generate_content_config,model,input_text=japanese_story,prompt=descriptive_translation_prompt)\n",
    "\n",
    "        md_output = md_template.format(translated_language=\"English\", original_language=\"Chinese\", ainu_title=ainu_titles[song_no - 1],\n",
    "                                poetic_prompt=poetic_translation_prompt,\n",
    "                                japanese_title=japanese_titles[song_no],\n",
    "                                input_text = data_dict['chinese_translation'],\n",
    "                                output_poetic=poetic_translation_dict['translation'])\n",
    "\n",
    "        data_dict['english_translation'] = poetic_translation_dict['translation']\n",
    "        data_dict['comment'] = poetic_translation_dict['comment']\n",
    "        data_dict['japanese_translation'] = data_dict['input_text']\n",
    "        del data_dict['input_text']\n",
    "\n",
    "        with open(f\"cross_lingual_LLM_prompts_and_translations_main_text/English_Translation_JSON/{song_no}_{md_name_part}.json\", \"w\", encoding=\"utf8\") as f:\n",
    "            json.dump(data_dict, f, ensure_ascii=False, indent=4)\n",
    "\n",
    "        with open(f\"cross_lingual_LLM_prompts_and_translations_main_text/English_Translation/{song_no}_{md_name_part}_to_English.md\", \"w\", encoding=\"utf8\") as f:\n",
    "            f.write(md_output)\n",
    "\n"
   ]
  },
  {
   "cell_type": "code",
   "execution_count": null,
   "metadata": {},
   "outputs": [],
   "source": []
  },
  {
   "cell_type": "code",
   "execution_count": null,
   "metadata": {},
   "outputs": [],
   "source": []
  },
  {
   "cell_type": "code",
   "execution_count": null,
   "metadata": {},
   "outputs": [],
   "source": []
  }
 ],
 "metadata": {
  "kernelspec": {
   "display_name": "llama",
   "language": "python",
   "name": "python3"
  },
  "language_info": {
   "codemirror_mode": {
    "name": "ipython",
    "version": 3
   },
   "file_extension": ".py",
   "mimetype": "text/x-python",
   "name": "python",
   "nbconvert_exporter": "python",
   "pygments_lexer": "ipython3",
   "version": "3.11.11"
  }
 },
 "nbformat": 4,
 "nbformat_minor": 2
}
