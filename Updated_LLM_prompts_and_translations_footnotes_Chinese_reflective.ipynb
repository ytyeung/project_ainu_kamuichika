{
 "cells": [
  {
   "cell_type": "code",
   "execution_count": 11,
   "metadata": {},
   "outputs": [],
   "source": [
    "import os\n",
    "from google import genai\n",
    "from google.genai import types\n",
    "from dotenv import load_dotenv\n",
    "from pydantic import BaseModel, Field\n",
    "import json\n",
    "\n",
    "import unicodedata\n",
    "import re\n",
    "\n",
    "from pydantic import BaseModel, Field"
   ]
  },
  {
   "cell_type": "code",
   "execution_count": 12,
   "metadata": {},
   "outputs": [],
   "source": [
    "load_dotenv()\n",
    "project_name = os.getenv('PROJECT_NAME')"
   ]
  },
  {
   "cell_type": "markdown",
   "metadata": {},
   "source": [
    "The story id, from 1 to 13 according to the 13 Ainu Kamuy Yukars translated by Chiri Yukie. The Yukar ID starts at 1. Chiri's Preface is 0."
   ]
  },
  {
   "cell_type": "code",
   "execution_count": 13,
   "metadata": {},
   "outputs": [],
   "source": [
    "start_at = 1\n",
    "end_at = 13"
   ]
  },
  {
   "cell_type": "code",
   "execution_count": 14,
   "metadata": {},
   "outputs": [],
   "source": [
    "class Translation(BaseModel):\n",
    "    \"\"\"The updated translation, and the comments for the update\"\"\"\n",
    "    updated_translation: str = Field(description=\"The updated translation\")\n",
    "    comment: str = Field(description=\"Comments on the translation update\")"
   ]
  },
  {
   "cell_type": "code",
   "execution_count": 15,
   "metadata": {},
   "outputs": [],
   "source": [
    "system_instruction_prompt = \"\"\"You are a professional translator. You know Japanese, English and Chinese. You can translate Japanese into either Chinese or English. You can also translation Chinese into English, and English into Chinese.\"\"\"\n",
    "\n",
    "client = genai.Client(\n",
    "      vertexai=True,\n",
    "      project=project_name,\n",
    "      location=\"us-central1\",\n",
    ")\n",
    "\n",
    "model = \"gemini-2.0-flash-001\"\n",
    "\n",
    "generate_content_config = types.GenerateContentConfig(\n",
    "    temperature = 0,\n",
    "    top_p = 0,\n",
    "    max_output_tokens = 8192,\n",
    "    response_mime_type = 'application/json',\n",
    "    response_schema = Translation,\n",
    "    safety_settings = [types.SafetySetting(\n",
    "      category=\"HARM_CATEGORY_HATE_SPEECH\",\n",
    "      threshold=\"OFF\"\n",
    "    ),types.SafetySetting(\n",
    "      category=\"HARM_CATEGORY_DANGEROUS_CONTENT\",\n",
    "      threshold=\"OFF\"\n",
    "    ),types.SafetySetting(\n",
    "      category=\"HARM_CATEGORY_SEXUALLY_EXPLICIT\",\n",
    "      threshold=\"OFF\"\n",
    "    ),types.SafetySetting(\n",
    "      category=\"HARM_CATEGORY_HARASSMENT\",\n",
    "      threshold=\"OFF\"\n",
    "    )],\n",
    "    system_instruction=[types.Part.from_text(text=system_instruction_prompt)],\n",
    "  )"
   ]
  },
  {
   "cell_type": "code",
   "execution_count": 16,
   "metadata": {},
   "outputs": [],
   "source": [
    "reflection_prompt = \"\"\"You are translating the following Japanese text into Chinese. The original text is a Japanese translation of footnotes a Ainu chant. \n",
    "You have 2 versions of Chinese translations at hand.\n",
    "\n",
    "Here are your tasks:\n",
    "\n",
    "1. Compare the two Chinese translations with the original Japanese text. List out the Pros and Cons of the two Translations.\n",
    "2. Choose a better translation. Accuracy of meaning is the most important criterion. Easy to understand is the second.\n",
    "3. Based on the better translation, translate the Japanese text into Chinese again, incorporating the Pros of the two translations.\n",
    "\n",
    "Keep the original Japanese meaning accurately. Use modern Chinese for easy understanding. Display in Traditional Chinese. \n",
    "If a term cannot be translated, keep the original language.\n",
    "For the text which are not in Japanese, keep the original form. \n",
    "\n",
    "This is the Japanese text.\n",
    "{japanese_text}\n",
    "\n",
    "This is the Chinese Translation 1.\n",
    "{chinese_translation_1}\n",
    "\n",
    "This is the Chinese Translation 2.\n",
    "{chinese_translation_2}\n",
    "\"\"\"\n"
   ]
  },
  {
   "cell_type": "code",
   "execution_count": 17,
   "metadata": {},
   "outputs": [],
   "source": [
    "def generate(client: genai.Client,generate_content_config :types.GenerateContentConfig,model :str, /, prompt :str):\n",
    "\n",
    "    text_full_prompt = text1 = types.Part.from_text(text=f\"{prompt}\")\n",
    "\n",
    "    output = \"\"\n",
    "\n",
    "    contents = [\n",
    "      types.Content(\n",
    "        role=\"user\",\n",
    "        parts=[\n",
    "          text_full_prompt\n",
    "        ]\n",
    "      )\n",
    "    ]\n",
    "\n",
    "    for chunk in client.models.generate_content_stream(\n",
    "        model = model,\n",
    "        contents = contents,\n",
    "        config = generate_content_config,\n",
    "        ):\n",
    "        print(chunk.text, end=\"\")\n",
    "        output += chunk.text\n",
    "\n",
    "    return output\n",
    "\n",
    "def get_output_file_name_key(title :str):\n",
    "    # setup the output file name\n",
    "    s = title.split()\n",
    "    md_name_part = s[0]\n",
    "\n",
    "    name_2nd_part = \"\"\n",
    "\n",
    "    for text in s:\n",
    "        if text.startswith('“'):\n",
    "            name_2nd_part = text.replace('“', '').replace('”', '')\n",
    "        \n",
    "    md_name_part += \"_\" + name_2nd_part\n",
    "\n",
    "    return md_name_part\n",
    "\n",
    "\n"
   ]
  },
  {
   "cell_type": "code",
   "execution_count": 18,
   "metadata": {},
   "outputs": [],
   "source": [
    "# Read the markdown template for writing the Chinese translations to Markdown file\n",
    "\n",
    "#read in the template\n",
    "with open(\"templates/iter1_output_md_template\", \"r\", encoding=\"utf8\") as f:\n",
    "    md_template = f.read()\n",
    "    md_template = unicodedata.normalize('NFKC', md_template)"
   ]
  },
  {
   "cell_type": "code",
   "execution_count": 19,
   "metadata": {},
   "outputs": [],
   "source": [
    "# read the content page of Ainu original text and get the original title\n",
    "with open(\"original_Ainu_text/content.txt\", \"r\", encoding=\"utf8\") as f:\n",
    "    ainu_content = f.read()\n",
    "    ainu_content = unicodedata.normalize('NFKC', ainu_content)\n",
    "\n",
    "\n",
    "s=re.split(r'\\n\\n', ainu_content)\n",
    "ainu_titles = re.split(r'\\n', s[1])"
   ]
  },
  {
   "cell_type": "code",
   "execution_count": 20,
   "metadata": {},
   "outputs": [
    {
     "name": "stdout",
     "output_type": "stream",
     "text": [
      "{\n",
      "  \"comment\": \"Analysis of the two translations:\\n\\nTranslation 1:\\nPros:\\n*   More fluent and natural in Chinese.\\n*   Uses more common Chinese expressions.\\nCons:\\n*   Sometimes simplifies the meaning, losing some nuances.\\n*   Less literal, which can be a problem when accuracy is paramount.\\n\\nTranslation 2:\\nPros:\\n*   More literal and closer to the original Japanese text.\\n*   Preserves more of the original meaning and details.\\nCons:\\n*   Sometimes reads awkwardly in Chinese.\\n*   Uses some expressions that are not very common in modern Chinese.\\n\\nChoice of Better Translation:\\nTranslation 2 is better because it prioritizes accuracy of meaning, which is the most important criterion. While it may not be as fluent as Translation 1, it stays closer to the original Japanese text and preserves more of the intended meaning.\\n\\nBased on Translation 2, incorporating the Pros of Translation 1 (fluency and natural expressions), here's the updated translation:\",\n",
      "  \"updated_translation\": \"1. 過去，當男孩稍微長大一點，就會為他製作小弓箭。孩子們會射擊樹木和鳥類來玩耍，並在不知不覺中變得擅長射箭的技術。\\nak......是弓術, shinot 是玩耍, ponai 是小箭。\\n\\n2. shiktumorke...... 眼神。\\n據說，想了解一個人的真實本性，最好的方法是觀察他們的眼神。如果他們不安地左顧右盼，就會受到責罵。\\n\\n3. achikara...... 意思是「骯髒」。\\n\\n4. 據說鳥類和動物被人類射落，是因為它們想要人類製作的箭，所以才去取箭。\\n\\n5. kotankorkamui...... 擁有國家或村莊的神。\\n在山裡，有 nupurikorkamui...... 擁有山的神（熊），以及 nupuripakorkamui...... 擁有山東邊的神（狼）。貓頭鷹的地位僅次於熊和狼。\\nkotankorkamui 不像山神或山東邊的神那樣粗魯和倉促。因此，祂們通常很平靜，總是閉著眼睛。據說只有在發生非常重大的事情時才會睜開眼睛。\\n\\n6. eharkiso...... 左座。\\n\\n7. eshiso...... 右座。\\n在房子的中央是爐灶，東側有※(「窗/心」)的那一側是上座。從上座看，右邊是 eshiso，左邊是 harkiso。只有男人才能坐在上座。地位低於戶主的客人會避免坐在上座。房子的主人和女主人習慣並排坐在右座。左座在右座旁邊，西側（朝向門口）的座位是末座。\\n\\n8. hayokpe 頭盔。\\n據說，當鳥類和動物在山裡時，人類的眼睛看不見它們，但它們各自都像人類一樣有自己的家，以與人類相同的形式生活著。當它們來到人類的村莊時，會戴上頭盔。據說鳥類和動物的屍體是頭盔，本體是看不見的，但在屍體的耳朵之間。\\n\\n9. otuipe...... 斷了屁股的傢伙。\\n像狗的斷尾一樣短的尾巴是不受重視的。\\n人們會用辱罵性的語言來形容極其微不足道的人，例如 wenpe...... 壞傢伙，otuipe...... 斷尾的傢伙。\\n\\n10. chikashnukar. 當神非常喜愛某個人，並在完全意想不到的地方給予他巨大的財富時，那個人會高興地說 ikashnukar an。\\n\\n11. apehuchi...... 火的老婦人。火神是房子裡最受尊敬的神，而且總是一位老婦人。當山神、海神和其他各種神明像貓頭鷹一樣來到家中作客時，這位 apehuchi 會帶頭招待客人和與之交談。也可以簡單地稱呼為 kamuihuchi（神老婦人）。\\n\\n12. neusar 互相交談。\\n談論各種世俗的事情也稱為 neusar。通常，像 kamuiyukar（神之歌）和 uwepeker（古老的故事）之類的東西被稱為 neusar。\\n\\n13. ashke a uk. ashke 是手指、手。a uk 是拿取。意思是當有慶祝活動時邀請人們。\\n\\n14. kakkokhau...... 杜鵑鳥的叫聲。\\n因為杜鵑鳥的叫聲優美而清晰，所以說話清晰且大家都能理解的人會被形容為像杜鵑鳥一樣。\\n\\n15. chisekorkamui...... 擁有房子的神。\\n火神就像家庭主婦，而房屋神就像房子的主人。男性則被稱為 chisekorekashi...... 擁有房子的老爺爺。\\n\\n16. nusakorkamui...... 擁有御幣棚的神，是一位老婦人。\\n御幣棚的神一定是女性。在緊急情況下，她可能會顯靈給人類看，但在那時，她會以蛇的形狀出現。因此，如果一條蛇出現在御幣棚附近或東邊的窗戶附近，人們會說：「一定是御幣棚的老奶奶有事外出了」，他們絕對不會殺死蛇。據說如果殺了它，將會受到懲罰。\"\n",
      "}{\n",
      "  \"comment\": \"Analysis of the two translations:\\n\\nTranslation 1:\\nPros:\\n*   More contextually aware, providing explanations like \\\"謝罪之意\\\" (meaning of apology) for 'eonkami'.\\n*   Uses more descriptive language, painting a clearer picture of the rituals and customs.\\n*   More accurate in translating specific terms like \\\"ashurkorkur(帶有變故消息的人)\\\" which captures the essence of the term.\\n\\nCons:\\n*   Slightly less literal in some parts, prioritizing understanding over word-for-word translation.\\n\\nTranslation 2:\\nPros:\\n*   More literal translation, sticking closely to the original Japanese text.\\n*   Simpler sentence structures, making it potentially easier to understand for some readers.\\n\\nCons:\\n*   Lacks the contextual richness of Translation 1, making some explanations less clear.\\n*   Some phrases are translated in a way that sounds less natural in Chinese.\\n\\nChoice of Better Translation:\\nTranslation 1 is better because it prioritizes accuracy of meaning and provides more context, making it easier to understand the nuances of the Ainu chant's footnotes. While Translation 2 is more literal, it sacrifices clarity and contextual understanding.\\n\",\n",
      "  \"updated_translation\": \"(1) isoeonkami.iso 是海幸, eonkami 是......謝罪之意。\\n鯨魚擱淺在岸邊，是因為海神大人為了賜予人類，親自帶來並推上岸的，人們深信不疑，此時一定會由德高望重的人盛裝打扮，面向大海的方向進行禮拜。\\n(2) ononno. 這是出海或上山打獵的人，帶著獵物歸來時，迎接的人們異口同聲說出的話語。\\n(3) uniwente......大水災、火災、火山爆發等各種天災之後，或是有人被熊吃掉、落入海或河中，以及其他任何因變故而受傷或死亡的情況下所舉行的儀式。\\n屆時，人們會互相用槍或刀尖抵住對方，同時交換慰問之詞。一個村莊若有災民，鄰近村莊會派出許多代表聚集到該村莊舉行儀式，即使只有一個人也會舉行。\\n(4) hokokse......uniwente 時，或發生重大變故時，向神明祈求救助時男性的呼喊聲。フオホホーイ，僅限男性。\\n(5) ashur 是變故的消息，ek 是到來。\\n......從村莊遠方出外旅行的人，生病或死亡時，由該地派遣使者將變故告知其故鄉，或是從其他村莊有人來告知某某人過世了，或發生了某某變故等等，人們將這種情況稱為 ashur。\\n該使者被稱為 ashurkorkur(帶有變故消息的人)。\\nashurkorkur 在靠近村莊時，首先會大聲呼喊 hokokse(フオホホーイ)。聽到呼喊聲的村民，也會大聲呼喊，並到村莊邊緣迎接，詢問變故的消息。\\n(6) uchishkar......互相哭泣。這是女性的寒暄方式，久別重逢時、近親過世時、有人遭遇重大危險好不容易脫險時等等，女性之間會手牽著手，或互相擁抱頭部或肩膀哭泣。\\n(7) matrimimse(女性的呼喊聲)......發生緊急情況或 uniwente 的情況時，男性會發出粗獷的 hokokse(フオホホーイ)聲，女性則會發出細微的ホーイ聲。\\n據說女性的聲音比男性的聲音更高亢響亮，因此能先傳入神明的耳中。因此，發生緊急變故時，即使是男性也會像女性一樣發出細微的聲音，呼喊兩三聲。\\n(8) peutanke......與 rimimse 相同的意思，但這是普通常用的詞彙，rimimse 則稍微是比較難的詞彙。\"\n",
      "}{\n",
      "  \"comment\": \"## Analysis of the Two Chinese Translations:\\n\\n**Translation 1: Pros and Cons**\\n\\n*   **Pros:**\\n    *   Generally easy to understand.\\n    *   Uses more common vocabulary.\\n*   **Cons:**\\n    *   Less precise in certain areas (e.g., \\\"蓬蒿\\\" for 蓬, which is a specific type of artemisia).\\n    *   Less attention to transliterating Ainu terms consistently.\\n\\n**Translation 2: Pros and Cons**\\n\\n*   **Pros:**\\n    *   More accurate in translating specific terms (e.g., using \\\"艾草\\\" which is more accurate than \\\"蓬蒿\\\").\\n    *   Consistently uses italics for transliterated Ainu terms, improving readability and distinguishing them from the translated text.\\n*   **Cons:**\\n    *   Slightly less fluid in some sentences compared to Translation 1.\\n    *   Uses 香蒲蓆（*gama*） which is too literal and not easily understood.\\n\\n**Choice of Better Translation:**\\n\\nTranslation 2 is generally better due to its higher accuracy and attention to detail, especially in handling Ainu terms. However, it can be improved by incorporating the more natural phrasing from Translation 1 in certain places.\\n\\n## Updated Translation Strategy:\\n\\nBased on Translation 2, I will refine the translation, incorporating the strengths of Translation 1 where appropriate. I will prioritize accuracy and clarity, using modern Chinese for easy understanding. Ainu terms will be italicized for distinction. I will replace 香蒲蓆（*gama*） with a more understandable translation.\\n\",\n",
      "  \"updated_translation\": \"（1）*pau*：狐狸叫聲的擬聲詞。\\n\\n（2）*pushtotta*：一種出海狩獵時使用的袋狀物品，用於攜帶生火工具、藥品和其他小型必需品。用於相同目的的類似物品包括 *piuchiop* 和 *karop*，但這些是用蒲草蓆（*attush*）或厚司織物製成的，因此它們在陸地上使用。*pushtotta* 由熊皮、海豹皮或其他毛皮製成，因此具有防水性，適合帶到海上。\\n\\n（3）*noya ai*：用艾草製成的箭。艾草是阿伊努人崇敬的植物。據說惡魔害怕被艾草箭擊中，因為它會阻止它們漂走，因此成為長途旅行的必需品。\\n\\n（4）最初，男女廁所是分開的。*ashinru* 和 *eosineru* 都是廁所的意思。\\n\\n在狐狸中，黑狐被認為是最受尊敬的。突出到海中的海岬通常被認為是黑狐的領地，據說除非發生非常嚴重的事情，否則黑狐不會讓人們知道它的存在。\\n\\n*Okikurumi (Okikirmui)*、*Samayunkur* 和 *Shupunramka* 是堂兄弟，其中 *Shupunramka* 年紀最大，*Okikirmui* 年紀最小。*Shupunramka* 是一個溫和而內向的人，所以沒有關於他的故事。*Samayunkur* 脾氣暴躁、缺乏智慧、很草率、本性不好，而且是個懦夫。另一方面，*Okikirmui* 像神一樣聰明、富有同情心、勇敢，是個偉人，所以有數不清關於他的故事。\"\n",
      "}{\n",
      "  \"comment\": \"Analysis of the two Chinese translations:\\n\\nTranslation 1:\\nPros: More concise in (1).\\nCons: Less detailed in (1), using Japanese term directly without explanation. Less descriptive in (2).\\n\\nTranslation 2:\\nPros: More detailed explanation in (1), providing the original Japanese term. More descriptive in (2).\\nCons: Slightly wordy in (1).\\n\\nChoice:\\nTranslation 2 is better because it provides more context and explanation, which is crucial for understanding the original meaning accurately. It also retains the original Japanese term, which can be helpful for those familiar with the Ainu language.\\n\\nUpdated Translation Strategy:\\nCombine the conciseness of Translation 1 with the detail of Translation 2. Keep the original Japanese term and provide a clear explanation. Use more descriptive language in (2) while maintaining clarity.\",\n",
      "  \"updated_translation\": \"（1）アマツポ(弩いしゆみ)：意即設置「機關弓」。\\n（2）刀劍。此刀劍與戰爭時所用刀劍不同，平時懸掛於家中右座堆放寶物之處。戰爭時不會使用，但在uniwente等場合會使用。\"\n",
      "}{\n",
      "  \"comment\": \"I cannot fulfill the request because the Japanese text is missing. Without the original Japanese text and the two Chinese translations, I cannot compare them, analyze their pros and cons, choose a better translation, or create an improved translation. Please provide the necessary information to proceed.\",\n",
      "  \"updated_translation\": \"需要日文原文以及兩個中文翻譯版本才能進行翻譯和分析。\"\n",
      "}{\n",
      "  \"comment\": \"Since the original Japanese text and the two Chinese translations were not provided, I cannot perform the requested analysis and translation. Please provide the necessary texts so I can complete the task.\",\n",
      "  \"updated_translation\": \"請提供日文原文（阿伊努語吟唱的腳註）以及兩個中文翻譯版本。我將分析它們的優缺點，並根據較好的版本，結合兩者的優點，提供一個更準確、易懂的繁體中文翻譯。對於無法翻譯的術語，將保留原始語言。\"\n",
      "}{\n",
      "  \"comment\": \"Analysis of the two Chinese translations:\\n\\nTranslation 1:\\nPros: More concise.\\nCons: \\\"川玻璃\\\" is not a common or accurate translation for \\\"川ガラス\\\" (kawagarasu). It sounds unnatural.\\n\\nTranslation 2:\\nPros: \\\"河烏\\\" is a more accurate and common translation for \\\"川ガラス\\\". More detailed and easier to understand.\\nCons: Slightly verbose.\\n\\nChoice of Better Translation:\\nTranslation 2 is better because it prioritizes accuracy in translating \\\"川ガラス\\\".\\n\\nImproved Translation Strategy:\\nIncorporate the conciseness of Translation 1 while maintaining the accuracy of Translation 2.\",\n",
      "  \"updated_translation\": \"katken......河烏。自古以來，牠是一種備受尊崇的鳥類。\"\n",
      "}{\n",
      "  \"comment\": \"Analysis of the two Chinese translations:\\n\\nTranslation 1:\\nPros: More literal translation, closely follows the original Japanese sentence structure.\\nCons: Less natural in modern Chinese, uses somewhat archaic terms like \\\"御幣裝飾之物\\\" and \\\"向神明獻上神酒時\\\". The term *kike-ush-pashui* and *iku pashui* are not kept in original form.\\n\\nTranslation 2:\\nPros: More natural and easier to understand in modern Chinese. Keeps the terms *gohei*, *kike-ush-pashui* and *iku pashui* in original form.\\nCons: Slightly less literal, uses \\\"紙垂\\\" to explain *gohei* which might not be accurate. \\n\\nChoice of Better Translation:\\nTranslation 2 is better because it is easier to understand and retains the original terms, which is important for cultural context. Accuracy is maintained while improving readability.\\n\\nUpdated Translation Strategy:\\nIncorporate the literal accuracy of Translation 1 where it doesn't compromise readability. Keep the terms *kike-ush-pashui* and *iku pashui* in original form. Use more modern and accessible language.\",\n",
      "  \"updated_translation\": \"這是一種用御幣(*gohei*)裝飾的物品，用於向神靈供奉神酒時使用。這種*kike-ush-pashui*作為人類的代表，據說會將人類想對神靈說的話傳達給神靈。沒有御幣(*gohei*)裝飾的普通筷子被稱為*iku pashui*（宴會用筷）。\"\n",
      "}{\n",
      "  \"comment\": \"Since the original Japanese text and the two Chinese translations were not provided, I cannot perform the requested analysis and translation. Please provide the necessary texts so I can complete the task.\",\n",
      "  \"updated_translation\": \"請提供日文原文（阿伊努語吟唱的腳註）以及兩個中文翻譯版本。我將分析它們的優缺點，並根據較好的版本，結合兩者的優點，提供一個更準確、易懂的繁體中文翻譯。對於無法翻譯的術語，將保留原始語言。\"\n",
      "}{\n",
      "  \"comment\": \"I cannot fulfill the request because the original Japanese text and the two Chinese translations are missing. Please provide the necessary information so I can compare the translations, identify their pros and cons, choose the better one, and create an improved translation.\",\n",
      "  \"updated_translation\": \"請提供日文原文以及兩個中文翻譯版本，以便我進行比較、分析優缺點、選擇較佳版本，並據此產生更完善的翻譯。（Please provide the original Japanese text and the two Chinese translations so I can compare them, analyze their pros and cons, choose the better version, and create a more complete translation.）\"\n",
      "}{\n",
      "  \"comment\": \"Analysis of the two Chinese translations:\\n\\nTranslation 1:\\nPros: More literal translation of \\\"六つの地獄\\\" as \\\"六個地獄\\\".\\nCons: Slightly less natural phrasing in the second sentence.\\n\\nTranslation 2:\\nPros: More natural and concise phrasing, especially in the second sentence.\\nCons: \\\"六つの地獄\\\" is translated as \\\"六層地獄\\\", which is not a direct translation.\\n\\nChoice of Better Translation: Translation 2 is better because it is more natural and easier to understand, while still maintaining the core meaning. However, the translation of \\\"六つの地獄\\\" can be improved.\\n\\nUpdated Translation Rationale: Incorporate the natural phrasing of Translation 2 while ensuring accurate translation of key terms. Use \\\"六層地獄\\\" to align with the concept of layered underworld.\",\n",
      "  \"updated_translation\": \"iwan poknashir......六層地獄。地底下有六層世界，各種惡魔居住在那裡。\"\n",
      "}{\n",
      "  \"comment\": \"Analysis of the two Chinese translations:\\n\\nTranslation 1:\\nPros: More fluent and natural in Chinese.\\nCons: Omits the original Japanese word \\\"kitanai\\\" and its English translation \\\"dirty/骯髒\\\", losing some original information.\\n\\nTranslation 2:\\nPros: Includes the original Japanese word \\\"kitanai\\\" and its English translation \\\"dirty/骯髒\\\", preserving more original information.\\nCons: Slightly less fluent than Translation 1.\\n\\nChoice of Better Translation:\\nTranslation 2 is slightly better because it preserves more of the original information by including \\\"kitanai\\\" and its translation. Accuracy is prioritized.\\n\\nUpdated Translation Strategy:\\nIncorporate the fluency of Translation 1 while retaining the key information from Translation 2. Use parentheses to clarify the meaning of \\\"achikara\\\".\",\n",
      "  \"updated_translation\": \"(1) achikara......意指「骯髒 (kitanai)」。帶有奇怪、冒昧等含義。\\n\\n在這個故事中，Okikirmui 的父親和 pon nitnekamui 的父親過去曾爆發過非常激烈的戰爭，因此 pon okikirmui 和 pon nitnekamui 之間是敵對關係。關於他們父輩戰爭的詳細情況，在另一個故事中有詳細描述。\"\n",
      "}{\n",
      "  \"comment\": \"Comparison of the two Chinese translations:\\n\\nTranslation 1:\\nPros:\\n- More literal translation of \\\"蒲の束\\\" as \\\"蒲草束\\\".\\n- Clear and straightforward language.\\n\\nCons:\\n- Less polished and slightly less natural sounding in certain phrases.\\n\\nTranslation 2:\\nPros:\\n- More polished and natural sounding.\\n- Uses more descriptive language, such as \\\"墊子和其他覆蓋物\\\" for \\\"筵の様な敷物\\\".\\n- Keeps the Ainu words in *italics*.\\n\\nCons:\\n- Less literal translation of \\\"蒲の束\\\" as \\\"一捆香蒲\\\".\\n\\nChoice of Better Translation:\\nTranslation 2 is slightly better due to its more natural and descriptive language, making it easier to understand. The use of italics for the Ainu words is also a plus.\\n\\nUpdated Translation:\\nIncorporates the strengths of both translations, prioritizing accuracy and clarity.\",\n",
      "  \"updated_translation\": \"(1) kinatantuka......蒲草束。香蒲會被編織成類似蓆子的墊子等覆蓋物，但若在完全乾燥的狀態下編織，效果不佳。因此，使用前會稍微弄濕。故事中的女子可能正為了這個目的，將它們帶到河邊。\\n\\n(2) i-okapushpa。人們非常忌諱說出已故父母或親戚的名字，甚至在日常談話中提及他們，這被稱為 *i-okapushpa*。此外，挖掘他人隱藏的秘密並公諸於眾，或提及令人難以啟齒的過往行為，尤其是在當事人面前，也被稱為 *i-okapushpa*。\\n\\n(3) nimakitara......露出獠牙。這裡指的是狗。人們到山裡狩獵時會帶上狗，被露出獠牙的狗攻擊是最令人恐懼的。因此，人們因為恐懼而給狗取了這個名字。\"\n",
      "}"
     ]
    }
   ],
   "source": [
    "for song_no in range(start_at, end_at + 1):\n",
    "\n",
    "    md_name_part = get_output_file_name_key(ainu_titles[song_no - 1])\n",
    "\n",
    "    with open(f\"Initial_LLM_prompts_and_translations_footnotes/Chinese_Translation_JSON/{song_no}_{md_name_part}.json\", \"r\", encoding=\"utf8\") as f:\n",
    "        data_dict = json.load(f)\n",
    "\n",
    "    with open(f\"cross_lingual_LLM_prompts_and_translations_footnotes/Chinese_Translation_JSON/{song_no}_{md_name_part}.json\", \"r\", encoding=\"utf8\") as f:\n",
    "        data_dict_2 = json.load(f)\n",
    "\n",
    "    reflection_prompt_formatted = reflection_prompt.format(japanese_text=data_dict['japanese_translation'],\n",
    "                                                           chinese_translation_1=data_dict['chinese_translation'],\n",
    "                                                           chinese_translation_2=data_dict_2['chinese_translation'])\n",
    "\n",
    "    updated_translation = generate(client,generate_content_config,model,prompt = reflection_prompt_formatted)\n",
    "\n",
    "    updated_translation_dict = json.loads(updated_translation)\n",
    "    #print(updated_translation_dict['updated_translation'])\n",
    "    #print(updated_translation_dict['comment'])\n",
    "\n",
    "    data_dict['chinese_translation_1'] = data_dict['chinese_translation']\n",
    "    data_dict['chinese_translation_2'] = data_dict_2['chinese_translation']\n",
    "\n",
    "    del data_dict['chinese_translation']\n",
    "\n",
    "    data_dict['updated_chinese_translation'] = updated_translation_dict['updated_translation']\n",
    "    data_dict['comment'] = updated_translation_dict['comment']\n",
    "\n",
    "    md_output = md_template.format(translated_language=\"Chinese\", ainu_title=data_dict['ainu_title'],\n",
    "                formatted_prompt=reflection_prompt_formatted,\n",
    "                japanese_title=data_dict['japanese_title'], input_japanese = data_dict['japanese_translation'],\n",
    "                output= f\"{data_dict['updated_chinese_translation']}\\n\\n{data_dict['comment']}\")\n",
    "\n",
    "    with open(f\"Updated_LLM_prompts_and_translations_footnotes/Chinese_Translation_JSON/{song_no}_{md_name_part}.json\", \"w\", encoding=\"utf8\") as f:\n",
    "        json.dump(data_dict, f, ensure_ascii=False, indent=4)\n",
    "\n",
    "    with open(f\"Updated_LLM_prompts_and_translations_footnotes/Chinese_Translation/{song_no}_{md_name_part}.md\", \"w\", encoding=\"utf8\") as f:\n",
    "        f.write(md_output)\n",
    "\n"
   ]
  },
  {
   "cell_type": "code",
   "execution_count": null,
   "metadata": {},
   "outputs": [],
   "source": []
  },
  {
   "cell_type": "code",
   "execution_count": null,
   "metadata": {},
   "outputs": [],
   "source": []
  },
  {
   "cell_type": "code",
   "execution_count": null,
   "metadata": {},
   "outputs": [],
   "source": []
  }
 ],
 "metadata": {
  "kernelspec": {
   "display_name": "llama",
   "language": "python",
   "name": "python3"
  },
  "language_info": {
   "codemirror_mode": {
    "name": "ipython",
    "version": 3
   },
   "file_extension": ".py",
   "mimetype": "text/x-python",
   "name": "python",
   "nbconvert_exporter": "python",
   "pygments_lexer": "ipython3",
   "version": "3.11.11"
  }
 },
 "nbformat": 4,
 "nbformat_minor": 2
}
